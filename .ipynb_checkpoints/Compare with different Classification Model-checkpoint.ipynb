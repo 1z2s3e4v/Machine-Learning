{
 "cells": [
  {
   "cell_type": "markdown",
   "metadata": {},
   "source": [
    "# Compare with different classification model"
   ]
  },
  {
   "cell_type": "markdown",
   "metadata": {},
   "source": [
    "Compare the training time and performance between five classification models:\n",
    "\n",
    "1. KNN\n",
    "2. Logistic Regression\n",
    "3. Decision Tree\n",
    "4. Neural Network\n",
    "5. SVM"
   ]
  },
  {
   "cell_type": "markdown",
   "metadata": {},
   "source": [
    "I use the 3 sample datasets and make average to compare the differenct models:\n",
    "\n",
    "1. Iris (The most simplist dataset to train)\n",
    "2. Wine (A little bit complex... The feature is more than Iris dataset)\n",
    "3. Digit (Image dataset)"
   ]
  },
  {
   "cell_type": "markdown",
   "metadata": {},
   "source": [
    "# Conclusion\n",
    "\n",
    "The average training time: Neural Network > Logistic Regression > KNN > SVM > Decision Tree  \n",
    "The average f1-score: Logistic Regression > SVM > Decision Tree > KNN > Neural Network\n",
    "\n",
    "So we could see that the neural need more resourse to training the data set.  \n",
    "Although the nerual network have the good performance in classification, it need more time and complicate tuning to training the data.\n",
    "\n",
    "If we want to try to see the performance very quickly, we could try the decision tree or SVM first.\n",
    "These two is more faster than other model and could get a good performance.\n",
    "\n",
    "In structure data, we also could try the logistic regression first.\n",
    "The performance of logistic regression is worth to try on the dataset.\n",
    "\n",
    "Neural Network is a very powerful to classify the data, but it need more time to training and tuning the model like add more layer or neuron.\n",
    "\n",
    "KNN get a average performance between these model, but it also is a very useful tool been used in feature engineering (predict the null data) or recommendation system field.\n",
    "\n",
    "I think the better way is sampling the data into small dataset, and use the all model to train and get a baseline.\n",
    "This baseline is very useful to let you decide which model you could pay more time to dig in.\n",
    "\n",
    "Hope everyone get a nice performance in all dataset!"
   ]
  },
  {
   "cell_type": "markdown",
   "metadata": {},
   "source": [
    "# Start Comparing"
   ]
  },
  {
   "cell_type": "code",
   "execution_count": 1,
   "metadata": {},
   "outputs": [
    {
     "name": "stdout",
     "output_type": "stream",
     "text": [
      "Populating the interactive namespace from numpy and matplotlib\n"
     ]
    },
    {
     "name": "stderr",
     "output_type": "stream",
     "text": [
      "/anaconda3/lib/python3.6/site-packages/sklearn/cross_validation.py:41: DeprecationWarning: This module was deprecated in version 0.18 in favor of the model_selection module into which all the refactored classes and functions are moved. Also note that the interface of the new CV iterators are different from that of this module. This module will be removed in 0.20.\n",
      "  \"This module will be removed in 0.20.\", DeprecationWarning)\n"
     ]
    }
   ],
   "source": [
    "import pandas as pd\n",
    "import matplotlib.pyplot as plt\n",
    "import seaborn as sn\n",
    "import numpy as np\n",
    "\n",
    "from sklearn.datasets import load_iris, load_wine, load_digits\n",
    "\n",
    "from sklearn.neighbors import KNeighborsClassifier\n",
    "from sklearn.svm import LinearSVC\n",
    "from sklearn.linear_model import LogisticRegression\n",
    "from sklearn.tree import DecisionTreeClassifier\n",
    "from sklearn.neural_network import MLPClassifier\n",
    "\n",
    "from sklearn.cross_validation import train_test_split as cv\n",
    "from sklearn.metrics import f1_score\n",
    "\n",
    "import time\n",
    "\n",
    "%pylab inline"
   ]
  },
  {
   "cell_type": "code",
   "execution_count": 2,
   "metadata": {},
   "outputs": [],
   "source": [
    "#Define dataset loading function\n",
    "def load_data(dataset_fn):\n",
    "    data = dataset_fn\n",
    "    return data.data, data.target"
   ]
  },
  {
   "cell_type": "markdown",
   "metadata": {},
   "source": [
    "## Define all classfier"
   ]
  },
  {
   "cell_type": "code",
   "execution_count": 3,
   "metadata": {},
   "outputs": [],
   "source": [
    "#Define the classifier\n",
    "knn = KNeighborsClassifier()\n",
    "svm = LinearSVC()\n",
    "lr = LogisticRegression()\n",
    "tree = DecisionTreeClassifier()\n",
    "nn = MLPClassifier()\n",
    "\n",
    "classifier_lst = [knn, lr, svm, tree, nn]\n",
    "classifier_lst_name = ['KNN', 'Logistic_Regression', 'SVM', 'DecisionTree', 'NeuralNetwork']"
   ]
  },
  {
   "cell_type": "markdown",
   "metadata": {},
   "source": [
    "## Define classifier training function"
   ]
  },
  {
   "cell_type": "code",
   "execution_count": 4,
   "metadata": {},
   "outputs": [],
   "source": [
    "def make_baseline(dataset_fn, classifier):\n",
    "    \n",
    "    start_time = time.time()\n",
    "    \n",
    "    feature, target = load_data(dataset_fn)\n",
    "    x_train, x_test, y_train, y_test = cv(feature, target, random_state = 42)\n",
    "    classifier.fit(x_train, y_train)\n",
    "    \n",
    "    training_score = classifier.score(x_train, y_train)\n",
    "    testing_score = classifier.score(x_test, y_test)\n",
    "    score = f1_score(y_test, classifier.predict(x_test), average='weighted')\n",
    "    \n",
    "    print(classifier)\n",
    "    print('Training Score: {:.4f}'.format(training_score))\n",
    "    print('Testing Score: {:.4f}'.format(testing_score))\n",
    "    print('The f1 score is: {}'.format(score))\n",
    "\n",
    "    end_time = time.time()\n",
    "    training_time = end_time-start_time\n",
    "    \n",
    "    print('The training time is: {:.4f}\\n'.format((training_time)))\n",
    "    \n",
    "    return score, training_time"
   ]
  },
  {
   "cell_type": "markdown",
   "metadata": {},
   "source": [
    "## Start to training differenct dataset"
   ]
  },
  {
   "cell_type": "code",
   "execution_count": 5,
   "metadata": {
    "scrolled": false
   },
   "outputs": [
    {
     "name": "stdout",
     "output_type": "stream",
     "text": [
      "KNeighborsClassifier(algorithm='auto', leaf_size=30, metric='minkowski',\n",
      "           metric_params=None, n_jobs=1, n_neighbors=5, p=2,\n",
      "           weights='uniform')\n",
      "Training Score: 0.9643\n",
      "Testing Score: 1.0000\n",
      "The f1 score is: 1.0\n",
      "The training time is: 0.0039\n",
      "\n",
      "LogisticRegression(C=1.0, class_weight=None, dual=False, fit_intercept=True,\n",
      "          intercept_scaling=1, max_iter=100, multi_class='ovr', n_jobs=1,\n",
      "          penalty='l2', random_state=None, solver='liblinear', tol=0.0001,\n",
      "          verbose=0, warm_start=False)\n",
      "Training Score: 0.9643\n",
      "Testing Score: 1.0000\n",
      "The f1 score is: 1.0\n",
      "The training time is: 0.1681\n",
      "\n",
      "LinearSVC(C=1.0, class_weight=None, dual=True, fit_intercept=True,\n",
      "     intercept_scaling=1, loss='squared_hinge', max_iter=1000,\n",
      "     multi_class='ovr', penalty='l2', random_state=None, tol=0.0001,\n",
      "     verbose=0)\n",
      "Training Score: 0.9732\n",
      "Testing Score: 1.0000\n",
      "The f1 score is: 1.0\n",
      "The training time is: 0.0072\n",
      "\n",
      "DecisionTreeClassifier(class_weight=None, criterion='gini', max_depth=None,\n",
      "            max_features=None, max_leaf_nodes=None,\n",
      "            min_impurity_decrease=0.0, min_impurity_split=None,\n",
      "            min_samples_leaf=1, min_samples_split=2,\n",
      "            min_weight_fraction_leaf=0.0, presort=False, random_state=None,\n",
      "            splitter='best')\n",
      "Training Score: 1.0000\n",
      "Testing Score: 1.0000\n",
      "The f1 score is: 1.0\n",
      "The training time is: 0.0032\n",
      "\n",
      "MLPClassifier(activation='relu', alpha=0.0001, batch_size='auto', beta_1=0.9,\n",
      "       beta_2=0.999, early_stopping=False, epsilon=1e-08,\n",
      "       hidden_layer_sizes=(100,), learning_rate='constant',\n",
      "       learning_rate_init=0.001, max_iter=200, momentum=0.9,\n",
      "       nesterovs_momentum=True, power_t=0.5, random_state=None,\n",
      "       shuffle=True, solver='adam', tol=0.0001, validation_fraction=0.1,\n",
      "       verbose=False, warm_start=False)\n",
      "Training Score: 0.9732\n",
      "Testing Score: 0.9737\n",
      "The f1 score is: 0.9735839598997494\n",
      "The training time is: 0.1033\n",
      "\n"
     ]
    },
    {
     "name": "stderr",
     "output_type": "stream",
     "text": [
      "/anaconda3/lib/python3.6/site-packages/sklearn/neural_network/multilayer_perceptron.py:564: ConvergenceWarning: Stochastic Optimizer: Maximum iterations (200) reached and the optimization hasn't converged yet.\n",
      "  % self.max_iter, ConvergenceWarning)\n"
     ]
    },
    {
     "data": {
      "text/plain": [
       "Text(0.5,1,'F1-Score')"
      ]
     },
     "execution_count": 5,
     "metadata": {},
     "output_type": "execute_result"
    },
    {
     "data": {
      "image/png": "[encoded data removed]",
      "text/plain": [
       "<Figure size 1152x864 with 2 Axes>"
      ]
     },
     "metadata": {},
     "output_type": "display_data"
    }
   ],
   "source": [
    "#Iris dataset\n",
    "iris = load_iris()\n",
    "iris_score_lst = []\n",
    "iris_time_lst = []\n",
    "\n",
    "for i in classifier_lst:\n",
    "    score, training_time = make_baseline(iris,i)\n",
    "    iris_score_lst.append(score)\n",
    "    iris_time_lst.append(training_time)\n",
    "\n",
    "plt.figure(figsize=(16,12))\n",
    "subplot(2,2,1)\n",
    "sn.barplot(x=classifier_lst_name, y=iris_time_lst, palette=sn.color_palette('hls'))\n",
    "plt.xticks(rotation=30)\n",
    "plt.title('Training Time')\n",
    "\n",
    "subplot(2,2,2)\n",
    "sn.barplot(x=classifier_lst_name, y=iris_score_lst, palette=sn.color_palette('hls'))\n",
    "plt.xticks(rotation=30)\n",
    "plt.title('F1-Score')"
   ]
  },
  {
   "cell_type": "code",
   "execution_count": 6,
   "metadata": {},
   "outputs": [
    {
     "name": "stdout",
     "output_type": "stream",
     "text": [
      "KNeighborsClassifier(algorithm='auto', leaf_size=30, metric='minkowski',\n",
      "           metric_params=None, n_jobs=1, n_neighbors=5, p=2,\n",
      "           weights='uniform')\n",
      "Training Score: 0.7669\n",
      "Testing Score: 0.7111\n",
      "The f1 score is: 0.7111111111111111\n",
      "The training time is: 0.0035\n",
      "\n",
      "LogisticRegression(C=1.0, class_weight=None, dual=False, fit_intercept=True,\n",
      "          intercept_scaling=1, max_iter=100, multi_class='ovr', n_jobs=1,\n",
      "          penalty='l2', random_state=None, solver='liblinear', tol=0.0001,\n",
      "          verbose=0, warm_start=False)\n",
      "Training Score: 0.9774\n",
      "Testing Score: 0.9778\n",
      "The f1 score is: 0.9776949363156261\n",
      "The training time is: 0.0033\n",
      "\n",
      "LinearSVC(C=1.0, class_weight=None, dual=True, fit_intercept=True,\n",
      "     intercept_scaling=1, loss='squared_hinge', max_iter=1000,\n",
      "     multi_class='ovr', penalty='l2', random_state=None, tol=0.0001,\n",
      "     verbose=0)\n",
      "Training Score: 0.8722\n",
      "Testing Score: 0.9111\n",
      "The f1 score is: 0.9104105090311987\n",
      "The training time is: 0.0177\n",
      "\n",
      "DecisionTreeClassifier(class_weight=None, criterion='gini', max_depth=None,\n",
      "            max_features=None, max_leaf_nodes=None,\n",
      "            min_impurity_decrease=0.0, min_impurity_split=None,\n",
      "            min_samples_leaf=1, min_samples_split=2,\n",
      "            min_weight_fraction_leaf=0.0, presort=False, random_state=None,\n",
      "            splitter='best')\n",
      "Training Score: 1.0000\n",
      "Testing Score: 0.9556\n",
      "The f1 score is: 0.9558589126489389\n",
      "The training time is: 0.0031\n",
      "\n",
      "MLPClassifier(activation='relu', alpha=0.0001, batch_size='auto', beta_1=0.9,\n",
      "       beta_2=0.999, early_stopping=False, epsilon=1e-08,\n",
      "       hidden_layer_sizes=(100,), learning_rate='constant',\n",
      "       learning_rate_init=0.001, max_iter=200, momentum=0.9,\n",
      "       nesterovs_momentum=True, power_t=0.5, random_state=None,\n",
      "       shuffle=True, solver='adam', tol=0.0001, validation_fraction=0.1,\n",
      "       verbose=False, warm_start=False)\n",
      "Training Score: 0.5940\n",
      "Testing Score: 0.5111\n",
      "The f1 score is: 0.4216666666666667\n",
      "The training time is: 0.0097\n",
      "\n"
     ]
    },
    {
     "name": "stderr",
     "output_type": "stream",
     "text": [
      "/anaconda3/lib/python3.6/site-packages/sklearn/metrics/classification.py:1135: UndefinedMetricWarning: F-score is ill-defined and being set to 0.0 in labels with no predicted samples.\n",
      "  'precision', 'predicted', average, warn_for)\n"
     ]
    },
    {
     "data": {
      "text/plain": [
       "Text(0.5,1,'F1-Score')"
      ]
     },
     "execution_count": 6,
     "metadata": {},
     "output_type": "execute_result"
    },
    {
     "data": {
      "image/png": "[encoded data removed]",
      "text/plain": [
       "<Figure size 1152x288 with 2 Axes>"
      ]
     },
     "metadata": {},
     "output_type": "display_data"
    }
   ],
   "source": [
    "#Wine dataset\n",
    "wine = load_wine()\n",
    "wine_score_lst = []\n",
    "wine_time_lst = []\n",
    "\n",
    "for i in classifier_lst:\n",
    "    score, training_time = make_baseline(wine,i)\n",
    "    wine_score_lst.append(score)\n",
    "    wine_time_lst.append(training_time)\n",
    "\n",
    "plt.figure(figsize=(16,4))\n",
    "subplot(1,2,1)\n",
    "sn.barplot(x=classifier_lst_name, y=wine_time_lst, palette=sn.color_palette('hls'))\n",
    "plt.xticks(rotation=30)\n",
    "plt.title('Training Time')\n",
    "subplot(1,2,2)\n",
    "sn.barplot(x=classifier_lst_name, y=wine_score_lst, palette=sn.color_palette('hls'))\n",
    "plt.xticks(rotation=30)\n",
    "plt.title('F1-Score')"
   ]
  },
  {
   "cell_type": "code",
   "execution_count": 7,
   "metadata": {},
   "outputs": [
    {
     "name": "stdout",
     "output_type": "stream",
     "text": [
      "KNeighborsClassifier(algorithm='auto', leaf_size=30, metric='minkowski',\n",
      "           metric_params=None, n_jobs=1, n_neighbors=5, p=2,\n",
      "           weights='uniform')\n",
      "Training Score: 0.9889\n",
      "Testing Score: 0.9933\n",
      "The f1 score is: 0.9933082556240451\n",
      "The training time is: 0.2941\n",
      "\n",
      "LogisticRegression(C=1.0, class_weight=None, dual=False, fit_intercept=True,\n",
      "          intercept_scaling=1, max_iter=100, multi_class='ovr', n_jobs=1,\n",
      "          penalty='l2', random_state=None, solver='liblinear', tol=0.0001,\n",
      "          verbose=0, warm_start=False)\n",
      "Training Score: 0.9948\n",
      "Testing Score: 0.9667\n",
      "The f1 score is: 0.9670228496107158\n",
      "The training time is: 0.1705\n",
      "\n",
      "LinearSVC(C=1.0, class_weight=None, dual=True, fit_intercept=True,\n",
      "     intercept_scaling=1, loss='squared_hinge', max_iter=1000,\n",
      "     multi_class='ovr', penalty='l2', random_state=None, tol=0.0001,\n",
      "     verbose=0)\n",
      "Training Score: 0.9926\n",
      "Testing Score: 0.9600\n",
      "The f1 score is: 0.9605515894145703\n",
      "The training time is: 0.1141\n",
      "\n",
      "DecisionTreeClassifier(class_weight=None, criterion='gini', max_depth=None,\n",
      "            max_features=None, max_leaf_nodes=None,\n",
      "            min_impurity_decrease=0.0, min_impurity_split=None,\n",
      "            min_samples_leaf=1, min_samples_split=2,\n",
      "            min_weight_fraction_leaf=0.0, presort=False, random_state=None,\n",
      "            splitter='best')\n",
      "Training Score: 1.0000\n",
      "Testing Score: 0.8778\n",
      "The f1 score is: 0.8769737594870076\n",
      "The training time is: 0.0210\n",
      "\n",
      "MLPClassifier(activation='relu', alpha=0.0001, batch_size='auto', beta_1=0.9,\n",
      "       beta_2=0.999, early_stopping=False, epsilon=1e-08,\n",
      "       hidden_layer_sizes=(100,), learning_rate='constant',\n",
      "       learning_rate_init=0.001, max_iter=200, momentum=0.9,\n",
      "       nesterovs_momentum=True, power_t=0.5, random_state=None,\n",
      "       shuffle=True, solver='adam', tol=0.0001, validation_fraction=0.1,\n",
      "       verbose=False, warm_start=False)\n",
      "Training Score: 1.0000\n",
      "Testing Score: 0.9822\n",
      "The f1 score is: 0.982199076170979\n",
      "The training time is: 0.9443\n",
      "\n"
     ]
    },
    {
     "data": {
      "text/plain": [
       "Text(0.5,1,'F1-Score')"
      ]
     },
     "execution_count": 7,
     "metadata": {},
     "output_type": "execute_result"
    },
    {
     "data": {
      "image/png": "[encoded data removed]",
      "text/plain": [
       "<Figure size 1152x288 with 2 Axes>"
      ]
     },
     "metadata": {},
     "output_type": "display_data"
    }
   ],
   "source": [
    "#Digits Dataset\n",
    "digits = load_digits()\n",
    "digits_score_lst = []\n",
    "digits_time_lst = []\n",
    "\n",
    "for i in classifier_lst:\n",
    "    score, training_time = make_baseline(digits,i)\n",
    "    digits_score_lst.append(score)\n",
    "    digits_time_lst.append(training_time)\n",
    "\n",
    "plt.figure(figsize=(16,4))\n",
    "subplot(1,2,1)\n",
    "sn.barplot(x=classifier_lst_name, y=digits_time_lst, palette=sn.color_palette('hls'))\n",
    "plt.xticks(rotation=30)\n",
    "plt.title('Training Time')\n",
    "subplot(1,2,2)\n",
    "sn.barplot(x=classifier_lst_name, y=digits_score_lst, palette=sn.color_palette('hls'))\n",
    "plt.xticks(rotation=30)\n",
    "plt.title('F1-Score')"
   ]
  },
  {
   "cell_type": "code",
   "execution_count": 8,
   "metadata": {},
   "outputs": [
    {
     "name": "stdout",
     "output_type": "stream",
     "text": [
      "The classifier is: KNN\n",
      "Average training time is: 0.10048906008402507\n",
      "Average training score is 0.9014731222450522\n",
      "\n",
      "The classifier is: Logistic_Regression\n",
      "Average training time is: 0.11396439870198567\n",
      "Average training score is 0.9815725953087805\n",
      "\n",
      "The classifier is: SVM\n",
      "Average training time is: 0.04633522033691406\n",
      "Average training score is 0.9569873661485896\n",
      "\n",
      "The classifier is: DecisionTree\n",
      "Average training time is: 0.009070316950480143\n",
      "Average training score is 0.9442775573786487\n",
      "\n",
      "The classifier is: NeuralNetwork\n",
      "Average training time is: 0.35243646303812665\n",
      "Average training score is 0.7924832342457985\n",
      "\n"
     ]
    }
   ],
   "source": [
    "for idx, name in enumerate(classifier_lst_name):\n",
    "    print('The classifier is: {}'.format(name))\n",
    "    avg_time = np.mean([iris_time_lst[idx], wine_time_lst[idx], digits_time_lst[idx]])\n",
    "    avg_score = np.mean([iris_score_lst[idx], wine_score_lst[idx], digits_score_lst[idx]])\n",
    "    print('Average training time is: {}'.format(avg_time))\n",
    "    print('Average training score is {}\\n'.format(avg_score))"
   ]
  }
 ],
 "metadata": {
  "kernelspec": {
   "display_name": "Python 3",
   "language": "python",
   "name": "python3"
  },
  "language_info": {
   "codemirror_mode": {
    "name": "ipython",
    "version": 3
   },
   "file_extension": ".py",
   "mimetype": "text/x-python",
   "name": "python",
   "nbconvert_exporter": "python",
   "pygments_lexer": "ipython3",
   "version": "3.6.5"
  }
 },
 "nbformat": 4,
 "nbformat_minor": 2
}
