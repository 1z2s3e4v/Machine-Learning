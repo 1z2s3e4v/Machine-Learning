{
 "cells": [
  {
   "cell_type": "code",
   "execution_count": 39,
   "metadata": {},
   "outputs": [],
   "source": [
    "import tensorflow as tf\n",
    "import numpy as np\n",
    "import os"
   ]
  },
  {
   "cell_type": "code",
   "execution_count": 44,
   "metadata": {},
   "outputs": [
    {
     "data": {
      "text/plain": [
       "'C:\\\\Users\\\\AdamChang\\\\Documents\\\\Python\\\\練習區\\\\board'"
      ]
     },
     "execution_count": 44,
     "metadata": {},
     "output_type": "execute_result"
    }
   ],
   "source": [
    "path = os.path.abspath('board'); path"
   ]
  },
  {
   "cell_type": "code",
   "execution_count": 23,
   "metadata": {},
   "outputs": [],
   "source": [
    "# 定義x的資料與參數\n",
    "x_data = np.random.randn(2000,3)\n",
    "w_real = [0.3,0.5,0.1]\n",
    "b_real = -0.2\n",
    "\n",
    "noise = np.random.randn(1,2000)*0.1\n",
    "y_data = np.matmul(w_real, x_data.T) + b_real + noise"
   ]
  },
  {
   "cell_type": "code",
   "execution_count": 24,
   "metadata": {},
   "outputs": [],
   "source": [
    "#模型訓練次數\n",
    "num_steps = 10"
   ]
  },
  {
   "cell_type": "code",
   "execution_count": 25,
   "metadata": {},
   "outputs": [],
   "source": [
    "#定義graph 和 參數set\n",
    "g = tf.Graph()\n",
    "wb_ = []"
   ]
  },
  {
   "cell_type": "code",
   "execution_count": 46,
   "metadata": {},
   "outputs": [
    {
     "name": "stdout",
     "output_type": "stream",
     "text": [
      "0 [array([[0.29967558, 0.5119846 , 0.09715132]], dtype=float32), -0.22257408]\n",
      "2 [array([[0.29999802, 0.50215423, 0.10174374]], dtype=float32), -0.19998927]\n",
      "4 [array([[0.29998785, 0.50213593, 0.10177877]], dtype=float32), -0.19989784]\n",
      "6 [array([[0.2999878 , 0.5021359 , 0.10177893]], dtype=float32), -0.19989747]\n",
      "8 [array([[0.2999878 , 0.5021359 , 0.10177893]], dtype=float32), -0.19989747]\n",
      "10 [array([[0.2999878 , 0.5021359 , 0.10177893]], dtype=float32), -0.19989747]\n"
     ]
    }
   ],
   "source": [
    "with g.as_default():\n",
    "    #定義x和y_true的placeholder \n",
    "    x = tf.placeholder(tf.float32, shape=[None, 3])\n",
    "    y_true = tf.placeholder(tf.float32, shape=None)\n",
    "    \n",
    "    #定義要訓練的varaible\n",
    "    with tf.name_scope('inference') as scope:\n",
    "        w = tf.Variable([[0,0,0]], dtype=tf.float32, name='weights')\n",
    "        b = tf.Variable(0, dtype=tf.float32, name='bias')\n",
    "        y_pred = tf.matmul(w, tf.transpose(x))+b\n",
    "    \n",
    "    #定義要Minimum的loss function\n",
    "    with tf.name_scope('loss') as scope:\n",
    "        loss = tf.reduce_mean(tf.square(y_true - y_pred))\n",
    "    \n",
    "    #定義GD optimizer\n",
    "    with tf.name_scope('train') as scope:\n",
    "        learning_rate = 0.5\n",
    "        optimizer = tf.train.GradientDescentOptimizer(learning_rate)\n",
    "        train = optimizer.minimize(loss)\n",
    "    \n",
    "    #定義要初始化的tensor\n",
    "    init = tf.global_variables_initializer()\n",
    "    \n",
    "    #開始訓練\n",
    "    with tf.Session() as sess:\n",
    "        #初始化所有的tensor\n",
    "        sess.run(init)\n",
    "        \n",
    "        #訓練n_step次\n",
    "        for step in range(num_steps):\n",
    "            #執行訓練並餵入資料\n",
    "            sess.run(train, {x:x_data, y_true:y_data})\n",
    "            #檢視訓練的狀況\n",
    "            if (step % 2 ==0):\n",
    "                print(step, sess.run([w,b]))\n",
    "                wb_.append(sess.run([w,b]))\n",
    "\n",
    "        print(num_steps, sess.run([w,b]))"
   ]
  },
  {
   "cell_type": "code",
   "execution_count": 47,
   "metadata": {},
   "outputs": [
    {
     "data": {
      "text/plain": [
       "[[array([[0.29967558, 0.5119846 , 0.09715132]], dtype=float32), -0.22257408],\n",
       " [array([[0.29999802, 0.50215423, 0.10174374]], dtype=float32), -0.19998927],\n",
       " [array([[0.29998785, 0.50213593, 0.10177877]], dtype=float32), -0.19989784],\n",
       " [array([[0.2999878 , 0.5021359 , 0.10177893]], dtype=float32), -0.19989747],\n",
       " [array([[0.2999878 , 0.5021359 , 0.10177893]], dtype=float32), -0.19989747],\n",
       " [array([[0.29967558, 0.5119846 , 0.09715132]], dtype=float32), -0.22257408],\n",
       " [array([[0.29999802, 0.50215423, 0.10174374]], dtype=float32), -0.19998927],\n",
       " [array([[0.29998785, 0.50213593, 0.10177877]], dtype=float32), -0.19989784],\n",
       " [array([[0.2999878 , 0.5021359 , 0.10177893]], dtype=float32), -0.19989747],\n",
       " [array([[0.2999878 , 0.5021359 , 0.10177893]], dtype=float32), -0.19989747],\n",
       " [array([[0.29967558, 0.5119846 , 0.09715132]], dtype=float32), -0.22257408],\n",
       " [array([[0.29999802, 0.50215423, 0.10174374]], dtype=float32), -0.19998927],\n",
       " [array([[0.29998785, 0.50213593, 0.10177877]], dtype=float32), -0.19989784],\n",
       " [array([[0.2999878 , 0.5021359 , 0.10177893]], dtype=float32), -0.19989747],\n",
       " [array([[0.2999878 , 0.5021359 , 0.10177893]], dtype=float32), -0.19989747],\n",
       " [array([[0.29967558, 0.5119846 , 0.09715132]], dtype=float32), -0.22257408],\n",
       " [array([[0.29999802, 0.50215423, 0.10174374]], dtype=float32), -0.19998927],\n",
       " [array([[0.29998785, 0.50213593, 0.10177877]], dtype=float32), -0.19989784],\n",
       " [array([[0.2999878 , 0.5021359 , 0.10177893]], dtype=float32), -0.19989747],\n",
       " [array([[0.2999878 , 0.5021359 , 0.10177893]], dtype=float32), -0.19989747],\n",
       " [array([[0.29967558, 0.5119846 , 0.09715132]], dtype=float32), -0.22257408],\n",
       " [array([[0.29999802, 0.50215423, 0.10174374]], dtype=float32), -0.19998927],\n",
       " [array([[0.29998785, 0.50213593, 0.10177877]], dtype=float32), -0.19989784],\n",
       " [array([[0.2999878 , 0.5021359 , 0.10177893]], dtype=float32), -0.19989747],\n",
       " [array([[0.2999878 , 0.5021359 , 0.10177893]], dtype=float32), -0.19989747]]"
      ]
     },
     "execution_count": 47,
     "metadata": {},
     "output_type": "execute_result"
    }
   ],
   "source": [
    "wb_"
   ]
  }
 ],
 "metadata": {
  "kernelspec": {
   "display_name": "Python [conda env:tensorflow]",
   "language": "python",
   "name": "conda-env-tensorflow-py"
  },
  "language_info": {
   "codemirror_mode": {
    "name": "ipython",
    "version": 3
   },
   "file_extension": ".py",
   "mimetype": "text/x-python",
   "name": "python",
   "nbconvert_exporter": "python",
   "pygments_lexer": "ipython3",
   "version": "3.5.5"
  }
 },
 "nbformat": 4,
 "nbformat_minor": 2
}
