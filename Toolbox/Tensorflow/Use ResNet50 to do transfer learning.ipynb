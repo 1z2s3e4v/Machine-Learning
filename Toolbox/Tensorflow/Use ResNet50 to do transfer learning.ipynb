{
 "cells": [
  {
   "cell_type": "code",
   "execution_count": 3,
   "metadata": {},
   "outputs": [],
   "source": [
    "import tensorflow as tf\n",
    "import os\n",
    "import numpy as np\n",
    "import pandas as pd\n",
    "import matplotlib.pyplot as plt"
   ]
  },
  {
   "cell_type": "markdown",
   "metadata": {},
   "source": [
    "# 準備圖片集"
   ]
  },
  {
   "cell_type": "code",
   "execution_count": 9,
   "metadata": {},
   "outputs": [
    {
     "data": {
      "text/html": [
       "<div>\n",
       "<style scoped>\n",
       "    .dataframe tbody tr th:only-of-type {\n",
       "        vertical-align: middle;\n",
       "    }\n",
       "\n",
       "    .dataframe tbody tr th {\n",
       "        vertical-align: top;\n",
       "    }\n",
       "\n",
       "    .dataframe thead th {\n",
       "        text-align: right;\n",
       "    }\n",
       "</style>\n",
       "<table border=\"1\" class=\"dataframe\">\n",
       "  <thead>\n",
       "    <tr style=\"text-align: right;\">\n",
       "      <th></th>\n",
       "      <th>feature</th>\n",
       "      <th>label</th>\n",
       "    </tr>\n",
       "  </thead>\n",
       "  <tbody>\n",
       "    <tr>\n",
       "      <th>0</th>\n",
       "      <td>C:\\Users\\AdamChang\\Documents\\Python\\Data\\AIA_M...</td>\n",
       "      <td>bedroom</td>\n",
       "    </tr>\n",
       "    <tr>\n",
       "      <th>1</th>\n",
       "      <td>C:\\Users\\AdamChang\\Documents\\Python\\Data\\AIA_M...</td>\n",
       "      <td>bedroom</td>\n",
       "    </tr>\n",
       "    <tr>\n",
       "      <th>2</th>\n",
       "      <td>C:\\Users\\AdamChang\\Documents\\Python\\Data\\AIA_M...</td>\n",
       "      <td>bedroom</td>\n",
       "    </tr>\n",
       "    <tr>\n",
       "      <th>3</th>\n",
       "      <td>C:\\Users\\AdamChang\\Documents\\Python\\Data\\AIA_M...</td>\n",
       "      <td>bedroom</td>\n",
       "    </tr>\n",
       "    <tr>\n",
       "      <th>4</th>\n",
       "      <td>C:\\Users\\AdamChang\\Documents\\Python\\Data\\AIA_M...</td>\n",
       "      <td>bedroom</td>\n",
       "    </tr>\n",
       "  </tbody>\n",
       "</table>\n",
       "</div>"
      ],
      "text/plain": [
       "                                             feature    label\n",
       "0  C:\\Users\\AdamChang\\Documents\\Python\\Data\\AIA_M...  bedroom\n",
       "1  C:\\Users\\AdamChang\\Documents\\Python\\Data\\AIA_M...  bedroom\n",
       "2  C:\\Users\\AdamChang\\Documents\\Python\\Data\\AIA_M...  bedroom\n",
       "3  C:\\Users\\AdamChang\\Documents\\Python\\Data\\AIA_M...  bedroom\n",
       "4  C:\\Users\\AdamChang\\Documents\\Python\\Data\\AIA_M...  bedroom"
      ]
     },
     "execution_count": 9,
     "metadata": {},
     "output_type": "execute_result"
    }
   ],
   "source": [
    "# 讀取檔案位置跟label`\n",
    "train_path = pd.read_csv('image_list_with_label.csv')\n",
    "train_path.head()"
   ]
  },
  {
   "cell_type": "code",
   "execution_count": 10,
   "metadata": {},
   "outputs": [
    {
     "data": {
      "text/html": [
       "<div>\n",
       "<style scoped>\n",
       "    .dataframe tbody tr th:only-of-type {\n",
       "        vertical-align: middle;\n",
       "    }\n",
       "\n",
       "    .dataframe tbody tr th {\n",
       "        vertical-align: top;\n",
       "    }\n",
       "\n",
       "    .dataframe thead th {\n",
       "        text-align: right;\n",
       "    }\n",
       "</style>\n",
       "<table border=\"1\" class=\"dataframe\">\n",
       "  <thead>\n",
       "    <tr style=\"text-align: right;\">\n",
       "      <th></th>\n",
       "      <th>feature</th>\n",
       "      <th>label</th>\n",
       "    </tr>\n",
       "  </thead>\n",
       "  <tbody>\n",
       "    <tr>\n",
       "      <th>987</th>\n",
       "      <td>C:\\Users\\AdamChang\\Documents\\Python\\Data\\AIA_M...</td>\n",
       "      <td>industrial</td>\n",
       "    </tr>\n",
       "    <tr>\n",
       "      <th>2935</th>\n",
       "      <td>C:\\Users\\AdamChang\\Documents\\Python\\Data\\AIA_M...</td>\n",
       "      <td>tallbuilding</td>\n",
       "    </tr>\n",
       "    <tr>\n",
       "      <th>1655</th>\n",
       "      <td>C:\\Users\\AdamChang\\Documents\\Python\\Data\\AIA_M...</td>\n",
       "      <td>mountain</td>\n",
       "    </tr>\n",
       "    <tr>\n",
       "      <th>2788</th>\n",
       "      <td>C:\\Users\\AdamChang\\Documents\\Python\\Data\\AIA_M...</td>\n",
       "      <td>tallbuilding</td>\n",
       "    </tr>\n",
       "    <tr>\n",
       "      <th>833</th>\n",
       "      <td>C:\\Users\\AdamChang\\Documents\\Python\\Data\\AIA_M...</td>\n",
       "      <td>highway</td>\n",
       "    </tr>\n",
       "  </tbody>\n",
       "</table>\n",
       "</div>"
      ],
      "text/plain": [
       "                                                feature         label\n",
       "987   C:\\Users\\AdamChang\\Documents\\Python\\Data\\AIA_M...    industrial\n",
       "2935  C:\\Users\\AdamChang\\Documents\\Python\\Data\\AIA_M...  tallbuilding\n",
       "1655  C:\\Users\\AdamChang\\Documents\\Python\\Data\\AIA_M...      mountain\n",
       "2788  C:\\Users\\AdamChang\\Documents\\Python\\Data\\AIA_M...  tallbuilding\n",
       "833   C:\\Users\\AdamChang\\Documents\\Python\\Data\\AIA_M...       highway"
      ]
     },
     "execution_count": 10,
     "metadata": {},
     "output_type": "execute_result"
    }
   ],
   "source": [
    "#Shuffle the label\n",
    "train_path = train_path.sample(frac=1)\n",
    "train_path.head()"
   ]
  },
  {
   "cell_type": "code",
   "execution_count": 11,
   "metadata": {},
   "outputs": [],
   "source": [
    "import os\n",
    "from skimage import io, transform"
   ]
  },
  {
   "cell_type": "code",
   "execution_count": 12,
   "metadata": {},
   "outputs": [],
   "source": [
    "label = train_path['label']"
   ]
  },
  {
   "cell_type": "code",
   "execution_count": 13,
   "metadata": {},
   "outputs": [
    {
     "data": {
      "text/plain": [
       "{'CALsuburb',\n",
       " 'PARoffice',\n",
       " 'bedroom',\n",
       " 'coast',\n",
       " 'forest',\n",
       " 'highway',\n",
       " 'industrial',\n",
       " 'insidecity',\n",
       " 'kitchen',\n",
       " 'livingroom',\n",
       " 'mountain',\n",
       " 'opencountry',\n",
       " 'store',\n",
       " 'street',\n",
       " 'tallbuilding'}"
      ]
     },
     "execution_count": 13,
     "metadata": {},
     "output_type": "execute_result"
    }
   ],
   "source": [
    "target = set(label); target"
   ]
  },
  {
   "cell_type": "code",
   "execution_count": 14,
   "metadata": {},
   "outputs": [],
   "source": [
    "#建立classes的index\n",
    "classes = {name:(idx+1) for idx,name in enumerate(target)}"
   ]
  },
  {
   "cell_type": "code",
   "execution_count": 15,
   "metadata": {},
   "outputs": [
    {
     "data": {
      "text/plain": [
       "{'CALsuburb': 11,\n",
       " 'PARoffice': 13,\n",
       " 'bedroom': 4,\n",
       " 'coast': 6,\n",
       " 'forest': 5,\n",
       " 'highway': 12,\n",
       " 'industrial': 8,\n",
       " 'insidecity': 7,\n",
       " 'kitchen': 1,\n",
       " 'livingroom': 15,\n",
       " 'mountain': 14,\n",
       " 'opencountry': 2,\n",
       " 'store': 10,\n",
       " 'street': 3,\n",
       " 'tallbuilding': 9}"
      ]
     },
     "execution_count": 15,
     "metadata": {},
     "output_type": "execute_result"
    }
   ],
   "source": [
    "classes"
   ]
  },
  {
   "cell_type": "code",
   "execution_count": 16,
   "metadata": {},
   "outputs": [],
   "source": [
    "#將label 的文字轉成數字的class\n",
    "labels_map = label.map(classes)"
   ]
  },
  {
   "cell_type": "code",
   "execution_count": 17,
   "metadata": {},
   "outputs": [
    {
     "data": {
      "text/plain": [
       "987      8\n",
       "2935     9\n",
       "1655    14\n",
       "2788     9\n",
       "833     12\n",
       "Name: label, dtype: int64"
      ]
     },
     "execution_count": 17,
     "metadata": {},
     "output_type": "execute_result"
    }
   ],
   "source": [
    "labels_map.head()"
   ]
  },
  {
   "cell_type": "code",
   "execution_count": 18,
   "metadata": {},
   "outputs": [],
   "source": [
    "train_labels = np.array(labels_map)"
   ]
  },
  {
   "cell_type": "code",
   "execution_count": 19,
   "metadata": {},
   "outputs": [
    {
     "data": {
      "text/plain": [
       "array([ 8,  9, 14,  9, 12], dtype=int64)"
      ]
     },
     "execution_count": 19,
     "metadata": {},
     "output_type": "execute_result"
    }
   ],
   "source": [
    "train_labels[0:5]"
   ]
  },
  {
   "cell_type": "code",
   "execution_count": 21,
   "metadata": {},
   "outputs": [
    {
     "name": "stderr",
     "output_type": "stream",
     "text": [
      "C:\\Users\\AdamChang\\Anaconda3\\envs\\tensorflow\\lib\\site-packages\\skimage\\transform\\_warps.py:84: UserWarning: The default mode, 'constant', will be changed to 'reflect' in skimage 0.15.\n",
      "  warn(\"The default mode, 'constant', will be changed to 'reflect' in \"\n"
     ]
    }
   ],
   "source": [
    "#讀取圖片並建立成lst\n",
    "img_lst = np.empty(shape=[train_path['feature'].shape[0],224,224,3])\n",
    "for i, path in enumerate(train_path['feature']):\n",
    "    img = io.imread(path)\n",
    "    img_resize = transform.resize(img, output_shape=(224,224,3))\n",
    "    img_lst[i] = img_resize"
   ]
  },
  {
   "cell_type": "code",
   "execution_count": 62,
   "metadata": {},
   "outputs": [],
   "source": [
    "x_train, y_train = img_lst[0:2], train_labels[0:2]\n",
    "x_valid, y_valid = img_lst[2:3], train_labels[2:3]\n",
    "x_test, y_test = img_lst[3:4], train_labels[3:4]"
   ]
  },
  {
   "cell_type": "code",
   "execution_count": 43,
   "metadata": {},
   "outputs": [
    {
     "data": {
      "text/plain": [
       "(2, 224, 224, 3)"
      ]
     },
     "execution_count": 43,
     "metadata": {},
     "output_type": "execute_result"
    }
   ],
   "source": [
    "x_train.shape"
   ]
  },
  {
   "cell_type": "code",
   "execution_count": 44,
   "metadata": {},
   "outputs": [
    {
     "data": {
      "text/plain": [
       "(2,)"
      ]
     },
     "execution_count": 44,
     "metadata": {},
     "output_type": "execute_result"
    }
   ],
   "source": [
    "y_train.shape"
   ]
  },
  {
   "cell_type": "markdown",
   "metadata": {},
   "source": [
    "# 建立model"
   ]
  },
  {
   "cell_type": "code",
   "execution_count": 244,
   "metadata": {},
   "outputs": [],
   "source": [
    "# Instantiate a Keras inception v3 model.\n",
    "#1. 注意weights 的選用 None or imagenet\n",
    "#2. include_top 要為False\n",
    "#3. Assign input shape: 圖片大小\n",
    "#4. Classes 數量\n",
    "keras_resnet50 =tf.keras.applications.resnet50.ResNet50(weights=None, include_top=False, pooling=False, \n",
    "                                                         input_shape=(224,224,3),classes=15)\n",
    "#1. 建立最後一層的output\n",
    "x = keras_resnet50.output\n",
    "#2. 建立Dense 壓縮資訊量\n",
    "x = tf.keras.layers.Dense(1024, activation='relu')(x)\n",
    "#3. 建立預測類別的classes數量\n",
    "predictions = tf.keras.layers.Dense(15, activation='softmax')(x)\n",
    "#x = keras_resnet50.output\n",
    "#x = tf.keras.layers.Flatten()(x)\n",
    "#predictions = tf.keras.layers.Dense(15, activation='softmax')(x)"
   ]
  },
  {
   "cell_type": "code",
   "execution_count": 236,
   "metadata": {},
   "outputs": [],
   "source": [
    "# 利用Keras API 來建立learning model\n",
    "model = tf.keras.Model(inputs=keras_resnet50.input, outputs=predictions)"
   ]
  },
  {
   "cell_type": "code",
   "execution_count": 237,
   "metadata": {},
   "outputs": [],
   "source": [
    "# Compile model with the optimizer, loss, and metrics you'd like to train with.\n",
    "# complie 模型:\n",
    "#1. 指定optimizer\n",
    "#2. 選用loss function ------ 這點很重要，根據類別(Binary or multi-class)選擇對應的loss function\n",
    "#3. metric 選擇accuracy\n",
    "model.compile(optimizer=tf.keras.optimizers.SGD(lr=0.0001, momentum=0.9),\n",
    "                          loss='sparse_categorical_crossentropy',\n",
    "                          metric='accuracy')"
   ]
  },
  {
   "cell_type": "code",
   "execution_count": 238,
   "metadata": {},
   "outputs": [
    {
     "name": "stdout",
     "output_type": "stream",
     "text": [
      "INFO:tensorflow:Using the Keras model provided.\n",
      "INFO:tensorflow:Using default config.\n",
      "WARNING:tensorflow:Using temporary folder as model directory: C:\\Users\\ADAMCH~1\\AppData\\Local\\Temp\\tmp1fq7ov4c\n",
      "INFO:tensorflow:Using config: {'_is_chief': True, '_num_worker_replicas': 1, '_save_summary_steps': 100, '_model_dir': 'C:\\\\Users\\\\ADAMCH~1\\\\AppData\\\\Local\\\\Temp\\\\tmp1fq7ov4c', '_save_checkpoints_steps': None, '_cluster_spec': <tensorflow.python.training.server_lib.ClusterSpec object at 0x00000247CAD519B0>, '_service': None, '_global_id_in_cluster': 0, '_task_type': 'worker', '_keep_checkpoint_max': 5, '_tf_random_seed': None, '_keep_checkpoint_every_n_hours': 10000, '_train_distribute': None, '_master': '', '_evaluation_master': '', '_save_checkpoints_secs': 600, '_task_id': 0, '_log_step_count_steps': 100, '_session_config': None, '_num_ps_replicas': 0}\n"
     ]
    }
   ],
   "source": [
    "# Create an Estimator from the compiled Keras model. Note the initial model\n",
    "# state of the keras model is preserved in the created Estimator.\n",
    "# 將keras的model 包裝成tensorflow 的estimator\n",
    "est_keras_resnet50 = tf.keras.estimator.model_to_estimator(keras_model=model)"
   ]
  },
  {
   "cell_type": "code",
   "execution_count": 239,
   "metadata": {
    "scrolled": true
   },
   "outputs": [
    {
     "data": {
      "text/plain": [
       "['input_16']"
      ]
     },
     "execution_count": 239,
     "metadata": {},
     "output_type": "execute_result"
    }
   ],
   "source": [
    "# Treat the derived Estimator as you would with any other Estimator.\n",
    "# First, recover the input name(s) of Keras model, so we can use them as the\n",
    "# feature column name(s) of the Estimator input function:\n",
    "# input的key 要用這個名稱來餵入\n",
    "keras_resnet50.input_names  # print out: ['input_1']"
   ]
  },
  {
   "cell_type": "markdown",
   "metadata": {},
   "source": [
    "# Train"
   ]
  },
  {
   "cell_type": "code",
   "execution_count": 240,
   "metadata": {},
   "outputs": [],
   "source": [
    "# Once we have the input name(s), we can create the input function, for example,\n",
    "# for input(s) in the format of numpy ndarray:\n",
    "\n",
    "#input_fn 要assign epochs, \n",
    "train_input_fn = tf.estimator.inputs.numpy_input_fn(\n",
    "    x={\"input_16\": x_train},\n",
    "    y=y_train,\n",
    "    num_epochs=1,\n",
    "    shuffle=False)"
   ]
  },
  {
   "cell_type": "code",
   "execution_count": 241,
   "metadata": {},
   "outputs": [
    {
     "name": "stdout",
     "output_type": "stream",
     "text": [
      "INFO:tensorflow:Calling model_fn.\n",
      "INFO:tensorflow:Done calling model_fn.\n",
      "INFO:tensorflow:Create CheckpointSaverHook.\n",
      "INFO:tensorflow:Graph was finalized.\n",
      "INFO:tensorflow:Restoring parameters from C:\\Users\\ADAMCH~1\\AppData\\Local\\Temp\\tmp1fq7ov4c\\keras_model.ckpt\n",
      "INFO:tensorflow:Running local_init_op.\n",
      "INFO:tensorflow:Done running local_init_op.\n",
      "INFO:tensorflow:Saving checkpoints for 1 into C:\\Users\\ADAMCH~1\\AppData\\Local\\Temp\\tmp1fq7ov4c\\model.ckpt.\n",
      "INFO:tensorflow:loss = 9.655557, step = 1\n",
      "INFO:tensorflow:Loss for final step: 9.655557.\n"
     ]
    },
    {
     "data": {
      "text/plain": [
       "<tensorflow.python.estimator.estimator.Estimator at 0x247c16942b0>"
      ]
     },
     "execution_count": 241,
     "metadata": {},
     "output_type": "execute_result"
    }
   ],
   "source": [
    "# To train, we call Estimator's train function:\n",
    "# 模型訓練\n",
    "est_keras_resnet50.train(input_fn=train_input_fn, steps=1)"
   ]
  },
  {
   "cell_type": "markdown",
   "metadata": {},
   "source": [
    "# Evaluation"
   ]
  },
  {
   "cell_type": "code",
   "execution_count": 222,
   "metadata": {},
   "outputs": [],
   "source": [
    "eval_input_fn = tf.estimator.inputs.numpy_input_fn(\n",
    "    x={'input_13':x_valid},\n",
    "    y=y_valid,\n",
    "    num_epochs=1,\n",
    "    shuffle=False)"
   ]
  },
  {
   "cell_type": "code",
   "execution_count": 223,
   "metadata": {},
   "outputs": [
    {
     "name": "stdout",
     "output_type": "stream",
     "text": [
      "INFO:tensorflow:Calling model_fn.\n",
      "INFO:tensorflow:Done calling model_fn.\n",
      "INFO:tensorflow:Starting evaluation at 2018-06-04-11:18:40\n",
      "INFO:tensorflow:Graph was finalized.\n",
      "INFO:tensorflow:Restoring parameters from C:\\Users\\ADAMCH~1\\AppData\\Local\\Temp\\tmp7_t8uta6\\model.ckpt-1\n",
      "INFO:tensorflow:Running local_init_op.\n",
      "INFO:tensorflow:Done running local_init_op.\n",
      "INFO:tensorflow:Evaluation [1/1]\n",
      "INFO:tensorflow:Finished evaluation at 2018-06-04-11:18:42\n",
      "INFO:tensorflow:Saving dict for global step 1: global_step = 1, loss = 2.6740816\n"
     ]
    },
    {
     "data": {
      "text/plain": [
       "{'global_step': 1, 'loss': 2.6740816}"
      ]
     },
     "execution_count": 223,
     "metadata": {},
     "output_type": "execute_result"
    }
   ],
   "source": [
    "est_keras_resnet50.evaluate(input_fn=eval_input_fn, steps=1)"
   ]
  },
  {
   "cell_type": "code",
   "execution_count": 224,
   "metadata": {},
   "outputs": [
    {
     "data": {
      "text/plain": [
       "['avg_pool']"
      ]
     },
     "execution_count": 224,
     "metadata": {},
     "output_type": "execute_result"
    }
   ],
   "source": [
    "keras_resnet50.output_names"
   ]
  },
  {
   "cell_type": "markdown",
   "metadata": {},
   "source": [
    "# Prediction"
   ]
  },
  {
   "cell_type": "code",
   "execution_count": 242,
   "metadata": {},
   "outputs": [],
   "source": [
    "test_input_fn = tf.estimator.inputs.numpy_input_fn(\n",
    "    x={'input_16':x_test}, num_epochs=1, shuffle=False)"
   ]
  },
  {
   "cell_type": "code",
   "execution_count": 243,
   "metadata": {},
   "outputs": [
    {
     "name": "stdout",
     "output_type": "stream",
     "text": [
      "INFO:tensorflow:Calling model_fn.\n",
      "INFO:tensorflow:Done calling model_fn.\n",
      "INFO:tensorflow:Graph was finalized.\n",
      "INFO:tensorflow:Restoring parameters from C:\\Users\\ADAMCH~1\\AppData\\Local\\Temp\\tmp1fq7ov4c\\model.ckpt-1\n",
      "INFO:tensorflow:Running local_init_op.\n",
      "INFO:tensorflow:Done running local_init_op.\n",
      "{'dense_21': array([[[ 0.01528848,  0.01369233, -0.02340276,  0.0344894 ,\n",
      "         -0.01913951,  0.02997461,  0.00252412,  0.00559476,\n",
      "          0.03540477,  0.00723353,  0.02681826, -0.00060482,\n",
      "         -0.00631784, -0.03932065,  0.02564852]]], dtype=float32)}\n"
     ]
    }
   ],
   "source": [
    "# predict 的iterator 藥用 for 迴圈來call out 執行\n",
    "pred = est_keras_resnet50.predict(input_fn=test_input_fn)\n",
    "for r in pred:\n",
    "    print(r)"
   ]
  }
 ],
 "metadata": {
  "kernelspec": {
   "display_name": "Python [conda env:tensorflow]",
   "language": "python",
   "name": "conda-env-tensorflow-py"
  },
  "language_info": {
   "codemirror_mode": {
    "name": "ipython",
    "version": 3
   },
   "file_extension": ".py",
   "mimetype": "text/x-python",
   "name": "python",
   "nbconvert_exporter": "python",
   "pygments_lexer": "ipython3",
   "version": "3.5.5"
  }
 },
 "nbformat": 4,
 "nbformat_minor": 2
}
