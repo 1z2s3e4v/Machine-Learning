{
 "cells": [
  {
   "cell_type": "markdown",
   "metadata": {},
   "source": [
    "# Acute Inflammations Dataset "
   ]
  },
  {
   "cell_type": "markdown",
   "metadata": {},
   "source": [
    "Here use the Acute Inflammations Dataset and Linear classify model in tensorflow to make a prediction model.  \n",
    "\n",
    "* Datasourse:　https://archive.ics.uci.edu/ml/datasets/Acute+Inflammations  \n",
    "\n",
    "\n",
    "Data description(From the UCI website):  \n",
    "\n",
    "**-- Attribute lines:**  \n",
    "    For example, '35,9\tno\tno\tyes\tyes\tyes\tyes\tno'  \n",
    "    Where:  \n",
    "    '35,9'\tTemperature of patient  \n",
    "    'no'\tOccurrence of nausea  \n",
    "    'no'\tLumbar pain  \n",
    "    'yes'\tUrine pushing (continuous need for urination)  \n",
    "    'yes'\tMicturition pains  \n",
    "    'yes'\tBurning of urethra, itch, swelling of urethra outlet  \n",
    "    'yes'\tdecision: Inflammation of urinary bladder  \n",
    "    'no'\tdecision: Nephritis of renal pelvis origin \n",
    "\n",
    "**Attribute Information:**\n",
    "\n",
    "    a1\tTemperature of patient { 35C-42C }\t\n",
    "    a2\tOccurrence of nausea { yes, no }\t\n",
    "    a3\tLumbar pain { yes, no }\t\n",
    "    a4\tUrine pushing (continuous need for urination) { yes, no }\t\n",
    "    a5\tMicturition pains { yes, no }\t\n",
    "    a6\tBurning of urethra, itch, swelling of urethra outlet { yes, no }\t\n",
    "    d1\tdecision: Inflammation of urinary bladder { yes, no }\t\n",
    "    d2\tdecision: Nephritis of renal pelvis origin { yes, no }"
   ]
  },
  {
   "cell_type": "code",
   "execution_count": 5,
   "metadata": {},
   "outputs": [
    {
     "name": "stdout",
     "output_type": "stream",
     "text": [
      "Populating the interactive namespace from numpy and matplotlib\n"
     ]
    },
    {
     "name": "stderr",
     "output_type": "stream",
     "text": [
      "C:\\Users\\AdamChang\\Anaconda3\\envs\\tensorflow\\lib\\site-packages\\IPython\\core\\magics\\pylab.py:160: UserWarning: pylab import has clobbered these variables: ['shuffle']\n",
      "`%matplotlib` prevents importing * from pylab and numpy\n",
      "  \"\\n`%matplotlib` prevents importing * from pylab and numpy\"\n"
     ]
    }
   ],
   "source": [
    "# import necessary library and pandas setting\n",
    "import pandas as pd\n",
    "import tensorflow as tf\n",
    "import matplotlib.pyplot as plt\n",
    "import numpy as np\n",
    "\n",
    "%pylab inline\n",
    "pd.set_option('display.max_columns', None)\n",
    "pd.set_option('display.max_rows', None)"
   ]
  },
  {
   "cell_type": "code",
   "execution_count": 4,
   "metadata": {},
   "outputs": [
    {
     "name": "stdout",
     "output_type": "stream",
     "text": [
      "TensorFlow Version: 1.8.0\n"
     ]
    }
   ],
   "source": [
    "# print tensorflow version\n",
    "print('TensorFlow Version: {}'.format(tf.VERSION))"
   ]
  },
  {
   "cell_type": "markdown",
   "metadata": {},
   "source": [
    "# 資料路徑與讀取資料"
   ]
  },
  {
   "cell_type": "code",
   "execution_count": 6,
   "metadata": {},
   "outputs": [],
   "source": [
    "# data path\n",
    "data_path = 'C:/Users/AdamChang/Documents/Python/TensorFlow/Data/diagnosis.csv'"
   ]
  },
  {
   "cell_type": "code",
   "execution_count": 7,
   "metadata": {},
   "outputs": [],
   "source": [
    "#read the data and assign column name of data\n",
    "col_name = ['Temperature','Nausea','LumbarPain','UrinePushing','MicturitionPains',\n",
    "           'BurningOf', 'd1Decision', 'd2Decision']\n",
    "df = pd.read_csv(data_path,sep='\\t', names=col_name)"
   ]
  },
  {
   "cell_type": "code",
   "execution_count": 8,
   "metadata": {},
   "outputs": [
    {
     "data": {
      "text/html": [
       "<div>\n",
       "<style scoped>\n",
       "    .dataframe tbody tr th:only-of-type {\n",
       "        vertical-align: middle;\n",
       "    }\n",
       "\n",
       "    .dataframe tbody tr th {\n",
       "        vertical-align: top;\n",
       "    }\n",
       "\n",
       "    .dataframe thead th {\n",
       "        text-align: right;\n",
       "    }\n",
       "</style>\n",
       "<table border=\"1\" class=\"dataframe\">\n",
       "  <thead>\n",
       "    <tr style=\"text-align: right;\">\n",
       "      <th></th>\n",
       "      <th>Temperature</th>\n",
       "      <th>Nausea</th>\n",
       "      <th>LumbarPain</th>\n",
       "      <th>UrinePushing</th>\n",
       "      <th>MicturitionPains</th>\n",
       "      <th>BurningOf</th>\n",
       "      <th>d1Decision</th>\n",
       "      <th>d2Decision</th>\n",
       "    </tr>\n",
       "  </thead>\n",
       "  <tbody>\n",
       "    <tr>\n",
       "      <th>0</th>\n",
       "      <td>35,5</td>\n",
       "      <td>no</td>\n",
       "      <td>yes</td>\n",
       "      <td>no</td>\n",
       "      <td>no</td>\n",
       "      <td>no</td>\n",
       "      <td>no</td>\n",
       "      <td>no</td>\n",
       "    </tr>\n",
       "    <tr>\n",
       "      <th>1</th>\n",
       "      <td>35,9</td>\n",
       "      <td>no</td>\n",
       "      <td>no</td>\n",
       "      <td>yes</td>\n",
       "      <td>yes</td>\n",
       "      <td>yes</td>\n",
       "      <td>yes</td>\n",
       "      <td>no</td>\n",
       "    </tr>\n",
       "    <tr>\n",
       "      <th>2</th>\n",
       "      <td>35,9</td>\n",
       "      <td>no</td>\n",
       "      <td>yes</td>\n",
       "      <td>no</td>\n",
       "      <td>no</td>\n",
       "      <td>no</td>\n",
       "      <td>no</td>\n",
       "      <td>no</td>\n",
       "    </tr>\n",
       "    <tr>\n",
       "      <th>3</th>\n",
       "      <td>36,0</td>\n",
       "      <td>no</td>\n",
       "      <td>no</td>\n",
       "      <td>yes</td>\n",
       "      <td>yes</td>\n",
       "      <td>yes</td>\n",
       "      <td>yes</td>\n",
       "      <td>no</td>\n",
       "    </tr>\n",
       "    <tr>\n",
       "      <th>4</th>\n",
       "      <td>36,0</td>\n",
       "      <td>no</td>\n",
       "      <td>yes</td>\n",
       "      <td>no</td>\n",
       "      <td>no</td>\n",
       "      <td>no</td>\n",
       "      <td>no</td>\n",
       "      <td>no</td>\n",
       "    </tr>\n",
       "  </tbody>\n",
       "</table>\n",
       "</div>"
      ],
      "text/plain": [
       "  Temperature Nausea LumbarPain UrinePushing MicturitionPains BurningOf  \\\n",
       "0        35,5     no        yes           no               no        no   \n",
       "1        35,9     no         no          yes              yes       yes   \n",
       "2        35,9     no        yes           no               no        no   \n",
       "3        36,0     no         no          yes              yes       yes   \n",
       "4        36,0     no        yes           no               no        no   \n",
       "\n",
       "  d1Decision d2Decision  \n",
       "0         no         no  \n",
       "1        yes         no  \n",
       "2         no         no  \n",
       "3        yes         no  \n",
       "4         no         no  "
      ]
     },
     "execution_count": 8,
     "metadata": {},
     "output_type": "execute_result"
    }
   ],
   "source": [
    "#view the data\n",
    "df.head()"
   ]
  },
  {
   "cell_type": "code",
   "execution_count": 9,
   "metadata": {},
   "outputs": [
    {
     "data": {
      "text/plain": [
       "Temperature         object\n",
       "Nausea              object\n",
       "LumbarPain          object\n",
       "UrinePushing        object\n",
       "MicturitionPains    object\n",
       "BurningOf           object\n",
       "d1Decision          object\n",
       "d2Decision          object\n",
       "dtype: object"
      ]
     },
     "execution_count": 9,
     "metadata": {},
     "output_type": "execute_result"
    }
   ],
   "source": [
    "#check with all data type\n",
    "df.dtypes"
   ]
  },
  {
   "cell_type": "code",
   "execution_count": 10,
   "metadata": {},
   "outputs": [
    {
     "data": {
      "text/html": [
       "<div>\n",
       "<style scoped>\n",
       "    .dataframe tbody tr th:only-of-type {\n",
       "        vertical-align: middle;\n",
       "    }\n",
       "\n",
       "    .dataframe tbody tr th {\n",
       "        vertical-align: top;\n",
       "    }\n",
       "\n",
       "    .dataframe thead th {\n",
       "        text-align: right;\n",
       "    }\n",
       "</style>\n",
       "<table border=\"1\" class=\"dataframe\">\n",
       "  <thead>\n",
       "    <tr style=\"text-align: right;\">\n",
       "      <th></th>\n",
       "      <th>Temperature</th>\n",
       "      <th>Nausea</th>\n",
       "      <th>LumbarPain</th>\n",
       "      <th>UrinePushing</th>\n",
       "      <th>MicturitionPains</th>\n",
       "      <th>BurningOf</th>\n",
       "      <th>d1Decision</th>\n",
       "      <th>d2Decision</th>\n",
       "    </tr>\n",
       "  </thead>\n",
       "  <tbody>\n",
       "    <tr>\n",
       "      <th>count</th>\n",
       "      <td>120</td>\n",
       "      <td>120</td>\n",
       "      <td>120</td>\n",
       "      <td>120</td>\n",
       "      <td>120</td>\n",
       "      <td>120</td>\n",
       "      <td>120</td>\n",
       "      <td>120</td>\n",
       "    </tr>\n",
       "    <tr>\n",
       "      <th>unique</th>\n",
       "      <td>44</td>\n",
       "      <td>2</td>\n",
       "      <td>2</td>\n",
       "      <td>2</td>\n",
       "      <td>2</td>\n",
       "      <td>2</td>\n",
       "      <td>2</td>\n",
       "      <td>2</td>\n",
       "    </tr>\n",
       "    <tr>\n",
       "      <th>top</th>\n",
       "      <td>37,0</td>\n",
       "      <td>no</td>\n",
       "      <td>yes</td>\n",
       "      <td>yes</td>\n",
       "      <td>no</td>\n",
       "      <td>no</td>\n",
       "      <td>no</td>\n",
       "      <td>no</td>\n",
       "    </tr>\n",
       "    <tr>\n",
       "      <th>freq</th>\n",
       "      <td>8</td>\n",
       "      <td>91</td>\n",
       "      <td>70</td>\n",
       "      <td>80</td>\n",
       "      <td>61</td>\n",
       "      <td>70</td>\n",
       "      <td>61</td>\n",
       "      <td>70</td>\n",
       "    </tr>\n",
       "  </tbody>\n",
       "</table>\n",
       "</div>"
      ],
      "text/plain": [
       "       Temperature Nausea LumbarPain UrinePushing MicturitionPains BurningOf  \\\n",
       "count          120    120        120          120              120       120   \n",
       "unique          44      2          2            2                2         2   \n",
       "top           37,0     no        yes          yes               no        no   \n",
       "freq             8     91         70           80               61        70   \n",
       "\n",
       "       d1Decision d2Decision  \n",
       "count         120        120  \n",
       "unique          2          2  \n",
       "top            no         no  \n",
       "freq           61         70  "
      ]
     },
     "execution_count": 10,
     "metadata": {},
     "output_type": "execute_result"
    }
   ],
   "source": [
    "#view the data summary\n",
    "df.describe()"
   ]
  },
  {
   "cell_type": "markdown",
   "metadata": {},
   "source": [
    "# 資料清理"
   ]
  },
  {
   "cell_type": "code",
   "execution_count": 11,
   "metadata": {},
   "outputs": [],
   "source": [
    "#Here I make the feature engineering for the Temperature and Decision column\n",
    "#Because Temperature column is string and point represent to \",\" , it need to replace to \".\"\n",
    "#and change data type.\n",
    "df['Temperature'] = df['Temperature'].str.replace(',','.')\n",
    "df['Temperature'] = df['Temperature'].astype('float')\n",
    "\n",
    "#Make the label as numerical data type\n",
    "#Make no -> 0 and yes -> 1\n",
    "#Machine learning have to use the numerical type in all data\n",
    "df['d1Decision'] = df['d1Decision'].replace(['no','yes'],['0','1'])\n",
    "df['d2Decision'] = df['d2Decision'].replace(['no','yes'],['0','1'])\n",
    "#Change the data type to float\n",
    "df['d1Decision'] = df['d1Decision'].astype('float')\n",
    "df['d2Decision'] = df['d2Decision'].astype('float')"
   ]
  },
  {
   "cell_type": "code",
   "execution_count": 13,
   "metadata": {},
   "outputs": [
    {
     "data": {
      "text/html": [
       "<div>\n",
       "<style scoped>\n",
       "    .dataframe tbody tr th:only-of-type {\n",
       "        vertical-align: middle;\n",
       "    }\n",
       "\n",
       "    .dataframe tbody tr th {\n",
       "        vertical-align: top;\n",
       "    }\n",
       "\n",
       "    .dataframe thead th {\n",
       "        text-align: right;\n",
       "    }\n",
       "</style>\n",
       "<table border=\"1\" class=\"dataframe\">\n",
       "  <thead>\n",
       "    <tr style=\"text-align: right;\">\n",
       "      <th></th>\n",
       "      <th>Temperature</th>\n",
       "      <th>Nausea</th>\n",
       "      <th>LumbarPain</th>\n",
       "      <th>UrinePushing</th>\n",
       "      <th>MicturitionPains</th>\n",
       "      <th>BurningOf</th>\n",
       "      <th>d1Decision</th>\n",
       "      <th>d2Decision</th>\n",
       "    </tr>\n",
       "  </thead>\n",
       "  <tbody>\n",
       "    <tr>\n",
       "      <th>0</th>\n",
       "      <td>35.5</td>\n",
       "      <td>no</td>\n",
       "      <td>yes</td>\n",
       "      <td>no</td>\n",
       "      <td>no</td>\n",
       "      <td>no</td>\n",
       "      <td>0.0</td>\n",
       "      <td>0.0</td>\n",
       "    </tr>\n",
       "    <tr>\n",
       "      <th>1</th>\n",
       "      <td>35.9</td>\n",
       "      <td>no</td>\n",
       "      <td>no</td>\n",
       "      <td>yes</td>\n",
       "      <td>yes</td>\n",
       "      <td>yes</td>\n",
       "      <td>1.0</td>\n",
       "      <td>0.0</td>\n",
       "    </tr>\n",
       "    <tr>\n",
       "      <th>2</th>\n",
       "      <td>35.9</td>\n",
       "      <td>no</td>\n",
       "      <td>yes</td>\n",
       "      <td>no</td>\n",
       "      <td>no</td>\n",
       "      <td>no</td>\n",
       "      <td>0.0</td>\n",
       "      <td>0.0</td>\n",
       "    </tr>\n",
       "    <tr>\n",
       "      <th>3</th>\n",
       "      <td>36.0</td>\n",
       "      <td>no</td>\n",
       "      <td>no</td>\n",
       "      <td>yes</td>\n",
       "      <td>yes</td>\n",
       "      <td>yes</td>\n",
       "      <td>1.0</td>\n",
       "      <td>0.0</td>\n",
       "    </tr>\n",
       "    <tr>\n",
       "      <th>4</th>\n",
       "      <td>36.0</td>\n",
       "      <td>no</td>\n",
       "      <td>yes</td>\n",
       "      <td>no</td>\n",
       "      <td>no</td>\n",
       "      <td>no</td>\n",
       "      <td>0.0</td>\n",
       "      <td>0.0</td>\n",
       "    </tr>\n",
       "  </tbody>\n",
       "</table>\n",
       "</div>"
      ],
      "text/plain": [
       "   Temperature Nausea LumbarPain UrinePushing MicturitionPains BurningOf  \\\n",
       "0         35.5     no        yes           no               no        no   \n",
       "1         35.9     no         no          yes              yes       yes   \n",
       "2         35.9     no        yes           no               no        no   \n",
       "3         36.0     no         no          yes              yes       yes   \n",
       "4         36.0     no        yes           no               no        no   \n",
       "\n",
       "   d1Decision  d2Decision  \n",
       "0         0.0         0.0  \n",
       "1         1.0         0.0  \n",
       "2         0.0         0.0  \n",
       "3         1.0         0.0  \n",
       "4         0.0         0.0  "
      ]
     },
     "execution_count": 13,
     "metadata": {},
     "output_type": "execute_result"
    }
   ],
   "source": [
    "#Check the data again\n",
    "df.head()"
   ]
  },
  {
   "cell_type": "markdown",
   "metadata": {},
   "source": [
    "# 分割建立訓練集與測試集"
   ]
  },
  {
   "cell_type": "code",
   "execution_count": null,
   "metadata": {},
   "outputs": [],
   "source": [
    "#Shuffle the dataset\n",
    "df = df.sample(frac=1)"
   ]
  },
  {
   "cell_type": "code",
   "execution_count": 16,
   "metadata": {},
   "outputs": [],
   "source": [
    "#Split the data to training set and testing set\n",
    "train = df[:96]\n",
    "test = df[96:]"
   ]
  },
  {
   "cell_type": "code",
   "execution_count": 18,
   "metadata": {},
   "outputs": [],
   "source": [
    "#Split data to feature and label\n",
    "train_feature, train_label1, train_label2 = train, train.pop('d1Decision'), train.pop('d2Decision')\n",
    "test_feature, test_label1, test_label2 = test, test.pop('d1Decision'), test.pop('d2Decision')"
   ]
  },
  {
   "cell_type": "code",
   "execution_count": 20,
   "metadata": {},
   "outputs": [],
   "source": [
    "#Use one hot encoding to edit the data\n",
    "train_feature = pd.get_dummies(train_feature)\n",
    "test_feature = pd.get_dummies(test_feature)"
   ]
  },
  {
   "cell_type": "code",
   "execution_count": 21,
   "metadata": {},
   "outputs": [
    {
     "data": {
      "text/plain": [
       "Index(['Temperature', 'Nausea_no', 'Nausea_yes', 'LumbarPain_no',\n",
       "       'LumbarPain_yes', 'UrinePushing_no', 'UrinePushing_yes',\n",
       "       'MicturitionPains_no', 'MicturitionPains_yes', 'BurningOf_no',\n",
       "       'BurningOf_yes'],\n",
       "      dtype='object')"
      ]
     },
     "execution_count": 21,
     "metadata": {},
     "output_type": "execute_result"
    }
   ],
   "source": [
    "#View the feature's column\n",
    "train_feature.keys()"
   ]
  },
  {
   "cell_type": "code",
   "execution_count": 22,
   "metadata": {},
   "outputs": [
    {
     "data": {
      "text/html": [
       "<div>\n",
       "<style scoped>\n",
       "    .dataframe tbody tr th:only-of-type {\n",
       "        vertical-align: middle;\n",
       "    }\n",
       "\n",
       "    .dataframe tbody tr th {\n",
       "        vertical-align: top;\n",
       "    }\n",
       "\n",
       "    .dataframe thead th {\n",
       "        text-align: right;\n",
       "    }\n",
       "</style>\n",
       "<table border=\"1\" class=\"dataframe\">\n",
       "  <thead>\n",
       "    <tr style=\"text-align: right;\">\n",
       "      <th></th>\n",
       "      <th>Temperature</th>\n",
       "      <th>Nausea_no</th>\n",
       "      <th>Nausea_yes</th>\n",
       "      <th>LumbarPain_no</th>\n",
       "      <th>LumbarPain_yes</th>\n",
       "      <th>UrinePushing_no</th>\n",
       "      <th>UrinePushing_yes</th>\n",
       "      <th>MicturitionPains_no</th>\n",
       "      <th>MicturitionPains_yes</th>\n",
       "      <th>BurningOf_no</th>\n",
       "      <th>BurningOf_yes</th>\n",
       "    </tr>\n",
       "  </thead>\n",
       "  <tbody>\n",
       "    <tr>\n",
       "      <th>34</th>\n",
       "      <td>37.3</td>\n",
       "      <td>1</td>\n",
       "      <td>0</td>\n",
       "      <td>0</td>\n",
       "      <td>1</td>\n",
       "      <td>1</td>\n",
       "      <td>0</td>\n",
       "      <td>1</td>\n",
       "      <td>0</td>\n",
       "      <td>1</td>\n",
       "      <td>0</td>\n",
       "    </tr>\n",
       "    <tr>\n",
       "      <th>14</th>\n",
       "      <td>36.7</td>\n",
       "      <td>1</td>\n",
       "      <td>0</td>\n",
       "      <td>0</td>\n",
       "      <td>1</td>\n",
       "      <td>1</td>\n",
       "      <td>0</td>\n",
       "      <td>1</td>\n",
       "      <td>0</td>\n",
       "      <td>1</td>\n",
       "      <td>0</td>\n",
       "    </tr>\n",
       "    <tr>\n",
       "      <th>68</th>\n",
       "      <td>39.4</td>\n",
       "      <td>1</td>\n",
       "      <td>0</td>\n",
       "      <td>0</td>\n",
       "      <td>1</td>\n",
       "      <td>0</td>\n",
       "      <td>1</td>\n",
       "      <td>1</td>\n",
       "      <td>0</td>\n",
       "      <td>0</td>\n",
       "      <td>1</td>\n",
       "    </tr>\n",
       "    <tr>\n",
       "      <th>115</th>\n",
       "      <td>41.4</td>\n",
       "      <td>1</td>\n",
       "      <td>0</td>\n",
       "      <td>0</td>\n",
       "      <td>1</td>\n",
       "      <td>0</td>\n",
       "      <td>1</td>\n",
       "      <td>1</td>\n",
       "      <td>0</td>\n",
       "      <td>0</td>\n",
       "      <td>1</td>\n",
       "    </tr>\n",
       "    <tr>\n",
       "      <th>65</th>\n",
       "      <td>38.7</td>\n",
       "      <td>1</td>\n",
       "      <td>0</td>\n",
       "      <td>0</td>\n",
       "      <td>1</td>\n",
       "      <td>0</td>\n",
       "      <td>1</td>\n",
       "      <td>1</td>\n",
       "      <td>0</td>\n",
       "      <td>0</td>\n",
       "      <td>1</td>\n",
       "    </tr>\n",
       "  </tbody>\n",
       "</table>\n",
       "</div>"
      ],
      "text/plain": [
       "     Temperature  Nausea_no  Nausea_yes  LumbarPain_no  LumbarPain_yes  \\\n",
       "34          37.3          1           0              0               1   \n",
       "14          36.7          1           0              0               1   \n",
       "68          39.4          1           0              0               1   \n",
       "115         41.4          1           0              0               1   \n",
       "65          38.7          1           0              0               1   \n",
       "\n",
       "     UrinePushing_no  UrinePushing_yes  MicturitionPains_no  \\\n",
       "34                 1                 0                    1   \n",
       "14                 1                 0                    1   \n",
       "68                 0                 1                    1   \n",
       "115                0                 1                    1   \n",
       "65                 0                 1                    1   \n",
       "\n",
       "     MicturitionPains_yes  BurningOf_no  BurningOf_yes  \n",
       "34                      0             1              0  \n",
       "14                      0             1              0  \n",
       "68                      0             0              1  \n",
       "115                     0             0              1  \n",
       "65                      0             0              1  "
      ]
     },
     "execution_count": 22,
     "metadata": {},
     "output_type": "execute_result"
    }
   ],
   "source": [
    "#View the training set correct or not\n",
    "train_feature.head()"
   ]
  },
  {
   "cell_type": "code",
   "execution_count": 23,
   "metadata": {},
   "outputs": [
    {
     "data": {
      "text/plain": [
       "Temperature             float64\n",
       "Nausea_no                 uint8\n",
       "Nausea_yes                uint8\n",
       "LumbarPain_no             uint8\n",
       "LumbarPain_yes            uint8\n",
       "UrinePushing_no           uint8\n",
       "UrinePushing_yes          uint8\n",
       "MicturitionPains_no       uint8\n",
       "MicturitionPains_yes      uint8\n",
       "BurningOf_no              uint8\n",
       "BurningOf_yes             uint8\n",
       "dtype: object"
      ]
     },
     "execution_count": 23,
     "metadata": {},
     "output_type": "execute_result"
    }
   ],
   "source": [
    "#Training set data type\n",
    "train_feature.dtypes"
   ]
  },
  {
   "cell_type": "markdown",
   "metadata": {},
   "source": [
    "# 建立dataset input 的Iterator"
   ]
  },
  {
   "cell_type": "code",
   "execution_count": 24,
   "metadata": {},
   "outputs": [],
   "source": [
    "#Define the training input function.\n",
    "#This one is use for transforming the feature and label to tensor.\n",
    "#TensorFlow use the data type(tensor) to training the model.\n",
    "\n",
    "#This one is basic step to make the training dataset.\n",
    "#This function could also use for evaluating the model as input set.\n",
    "\n",
    "#feature: the features of training dataset\n",
    "#label: the label(target) of training dataset\n",
    "#batch_size: how many data use for trainging per times\n",
    "#num_epochs: hou many times does the model learn\n",
    "def train_input_fn(feature, label, batch_size, num_epochs):\n",
    "    #from_tensor_slices use for transforming the data to tensor\n",
    "    dataset = tf.data.Dataset.from_tensor_slices((dict(feature),label))\n",
    "    #.shuffle use for shuffle the data(buffer_size need to greater than quantities in dataset)\n",
    "    #.repeat use for how many time repeat for learning\n",
    "    #.batch use for assign how many data learning per times\n",
    "    dataset = dataset.shuffle(buffer_size=1000).repeat(num_epochs).batch(batch_size)\n",
    "    #.make_one_shot_iterator use for create an iterator to extract dataset\n",
    "    dataset = dataset.make_one_shot_iterator()\n",
    "    #.get_next use for getting the data\n",
    "    features, labels = dataset.get_next()\n",
    "    #return the features and labels to train the model\n",
    "    return features, labels"
   ]
  },
  {
   "cell_type": "markdown",
   "metadata": {},
   "source": [
    "# 建立Feature columns"
   ]
  },
  {
   "cell_type": "code",
   "execution_count": 25,
   "metadata": {},
   "outputs": [],
   "source": [
    "#transform the raw data to the form that model could use\n",
    "fc = []\n",
    "for key in train_feature.keys():\n",
    "    fc.append(tf.feature_column.numeric_column(key=key,dtype=tf.float32))"
   ]
  },
  {
   "cell_type": "code",
   "execution_count": 26,
   "metadata": {
    "scrolled": true
   },
   "outputs": [
    {
     "data": {
      "text/plain": [
       "[_NumericColumn(key='Temperature', shape=(1,), default_value=None, dtype=tf.float32, normalizer_fn=None),\n",
       " _NumericColumn(key='Nausea_no', shape=(1,), default_value=None, dtype=tf.float32, normalizer_fn=None),\n",
       " _NumericColumn(key='Nausea_yes', shape=(1,), default_value=None, dtype=tf.float32, normalizer_fn=None),\n",
       " _NumericColumn(key='LumbarPain_no', shape=(1,), default_value=None, dtype=tf.float32, normalizer_fn=None),\n",
       " _NumericColumn(key='LumbarPain_yes', shape=(1,), default_value=None, dtype=tf.float32, normalizer_fn=None),\n",
       " _NumericColumn(key='UrinePushing_no', shape=(1,), default_value=None, dtype=tf.float32, normalizer_fn=None),\n",
       " _NumericColumn(key='UrinePushing_yes', shape=(1,), default_value=None, dtype=tf.float32, normalizer_fn=None),\n",
       " _NumericColumn(key='MicturitionPains_no', shape=(1,), default_value=None, dtype=tf.float32, normalizer_fn=None),\n",
       " _NumericColumn(key='MicturitionPains_yes', shape=(1,), default_value=None, dtype=tf.float32, normalizer_fn=None),\n",
       " _NumericColumn(key='BurningOf_no', shape=(1,), default_value=None, dtype=tf.float32, normalizer_fn=None),\n",
       " _NumericColumn(key='BurningOf_yes', shape=(1,), default_value=None, dtype=tf.float32, normalizer_fn=None)]"
      ]
     },
     "execution_count": 26,
     "metadata": {},
     "output_type": "execute_result"
    }
   ],
   "source": [
    "#see all feature column\n",
    "fc"
   ]
  },
  {
   "cell_type": "markdown",
   "metadata": {},
   "source": [
    "# 宣告要使用的模型"
   ]
  },
  {
   "cell_type": "markdown",
   "metadata": {},
   "source": [
    "# Linear Classifier 的參數\n",
    "__init__(\n",
    "    feature_columns,\n",
    "    model_dir=None,\n",
    "    n_classes=2,\n",
    "    weight_column=None,\n",
    "    label_vocabulary=None,\n",
    "    optimizer='Ftrl',\n",
    "    config=None,\n",
    "    partitioner=None,\n",
    "    warm_start_from=None,\n",
    "    loss_reduction=losses.Reduction.SUM\n",
    ")"
   ]
  },
  {
   "cell_type": "code",
   "execution_count": 27,
   "metadata": {},
   "outputs": [
    {
     "name": "stdout",
     "output_type": "stream",
     "text": [
      "INFO:tensorflow:Using default config.\n",
      "WARNING:tensorflow:Using temporary folder as model directory: C:\\Users\\ADAMCH~1\\AppData\\Local\\Temp\\tmpzyodp7c5\n",
      "INFO:tensorflow:Using config: {'_save_checkpoints_steps': None, '_task_type': 'worker', '_save_checkpoints_secs': 600, '_log_step_count_steps': 100, '_evaluation_master': '', '_keep_checkpoint_max': 5, '_cluster_spec': <tensorflow.python.training.server_lib.ClusterSpec object at 0x000001BF29D1FEF0>, '_global_id_in_cluster': 0, '_num_ps_replicas': 0, '_session_config': None, '_task_id': 0, '_train_distribute': None, '_keep_checkpoint_every_n_hours': 10000, '_is_chief': True, '_num_worker_replicas': 1, '_master': '', '_save_summary_steps': 100, '_service': None, '_tf_random_seed': None, '_model_dir': 'C:\\\\Users\\\\ADAMCH~1\\\\AppData\\\\Local\\\\Temp\\\\tmpzyodp7c5'}\n"
     ]
    }
   ],
   "source": [
    "#Choose the model from the estimator and assign the feature columns\n",
    "classifier = tf.estimator.LinearClassifier(feature_columns=fc)\n",
    "\n",
    "#還可以加入這些參數：\n",
    "#optimizer=tf.train.FtrlOptimizer(\n",
    "#      learning_rate=0.1,\n",
    "#      l1_regularization_strength=0.001"
   ]
  },
  {
   "cell_type": "markdown",
   "metadata": {},
   "source": [
    "# 模型訓練"
   ]
  },
  {
   "cell_type": "code",
   "execution_count": 29,
   "metadata": {},
   "outputs": [
    {
     "name": "stdout",
     "output_type": "stream",
     "text": [
      "INFO:tensorflow:Calling model_fn.\n",
      "INFO:tensorflow:Done calling model_fn.\n",
      "INFO:tensorflow:Create CheckpointSaverHook.\n",
      "INFO:tensorflow:Graph was finalized.\n",
      "INFO:tensorflow:Restoring parameters from C:\\Users\\ADAMCH~1\\AppData\\Local\\Temp\\tmpzyodp7c5\\model.ckpt-1503\n",
      "INFO:tensorflow:Running local_init_op.\n",
      "INFO:tensorflow:Done running local_init_op.\n",
      "INFO:tensorflow:Saving checkpoints for 1504 into C:\\Users\\ADAMCH~1\\AppData\\Local\\Temp\\tmpzyodp7c5\\model.ckpt.\n",
      "INFO:tensorflow:step = 1504, loss = 0.4573232\n",
      "INFO:tensorflow:global_step/sec: 361.085\n",
      "INFO:tensorflow:step = 1604, loss = 0.39714018 (0.278 sec)\n",
      "INFO:tensorflow:global_step/sec: 797.877\n",
      "INFO:tensorflow:step = 1704, loss = 0.347484 (0.125 sec)\n",
      "INFO:tensorflow:global_step/sec: 764.253\n",
      "INFO:tensorflow:step = 1804, loss = 0.3749317 (0.131 sec)\n",
      "INFO:tensorflow:global_step/sec: 797.871\n",
      "INFO:tensorflow:step = 1904, loss = 0.31738678 (0.126 sec)\n",
      "INFO:tensorflow:global_step/sec: 807.563\n",
      "INFO:tensorflow:step = 2004, loss = 0.2993583 (0.124 sec)\n",
      "INFO:tensorflow:global_step/sec: 817.492\n",
      "INFO:tensorflow:step = 2104, loss = 0.35875097 (0.123 sec)\n",
      "INFO:tensorflow:Saving checkpoints for 2106 into C:\\Users\\ADAMCH~1\\AppData\\Local\\Temp\\tmpzyodp7c5\\model.ckpt.\n",
      "INFO:tensorflow:Loss for final step: 0.22942087.\n"
     ]
    },
    {
     "data": {
      "text/plain": [
       "<tensorflow.python.estimator.canned.linear.LinearClassifier at 0x1bf29faf5f8>"
      ]
     },
     "execution_count": 29,
     "metadata": {},
     "output_type": "execute_result"
    }
   ],
   "source": [
    "#Training the model\n",
    "#Use the train_input_fn to transform the training set to the dataset that TensorFlow accept\n",
    "#Set batch size = 32 and repeat times = 201\n",
    "classifier.train(input_fn=lambda:train_input_fn(train_feature, train_label1, 32, 201))"
   ]
  },
  {
   "cell_type": "markdown",
   "metadata": {},
   "source": [
    "# 驗證"
   ]
  },
  {
   "cell_type": "code",
   "execution_count": 30,
   "metadata": {},
   "outputs": [
    {
     "name": "stdout",
     "output_type": "stream",
     "text": [
      "INFO:tensorflow:Calling model_fn.\n",
      "WARNING:tensorflow:Trapezoidal rule is known to produce incorrect PR-AUCs; please switch to \"careful_interpolation\" instead.\n",
      "WARNING:tensorflow:Trapezoidal rule is known to produce incorrect PR-AUCs; please switch to \"careful_interpolation\" instead.\n",
      "INFO:tensorflow:Done calling model_fn.\n",
      "INFO:tensorflow:Starting evaluation at 2018-05-11-13:33:09\n",
      "INFO:tensorflow:Graph was finalized.\n",
      "INFO:tensorflow:Restoring parameters from C:\\Users\\ADAMCH~1\\AppData\\Local\\Temp\\tmpzyodp7c5\\model.ckpt-2106\n",
      "INFO:tensorflow:Running local_init_op.\n",
      "INFO:tensorflow:Done running local_init_op.\n",
      "INFO:tensorflow:Finished evaluation at 2018-05-11-13:33:10\n",
      "INFO:tensorflow:Saving dict for global step 2106: accuracy = 1.0, accuracy_baseline = 0.5416666, auc = 1.0, auc_precision_recall = 1.0, average_loss = 0.009259224, global_step = 2106, label/mean = 0.45833334, loss = 0.29580462, precision = 1.0, prediction/mean = 0.4563088, recall = 1.0\n",
      "accuracy:1.0\n",
      "accuracy_baseline:0.5416666269302368\n",
      "auc:1.0\n",
      "auc_precision_recall:1.0\n",
      "average_loss:0.009259223937988281\n",
      "global_step:2106\n",
      "label/mean:0.4583333432674408\n",
      "loss:0.29580461978912354\n",
      "precision:1.0\n",
      "prediction/mean:0.4563088119029999\n",
      "recall:1.0\n"
     ]
    }
   ],
   "source": [
    "#Use the testing set to evaluate the model\n",
    "result = classifier.evaluate(input_fn=lambda: train_input_fn(test_feature, test_label1, 32, 201))\n",
    "#This code could get the result of testing\n",
    "for key in sorted(result):\n",
    "    print('{}:{}'.format(key, result[key]))"
   ]
  },
  {
   "cell_type": "markdown",
   "metadata": {},
   "source": [
    "# 預測"
   ]
  },
  {
   "cell_type": "code",
   "execution_count": 33,
   "metadata": {},
   "outputs": [],
   "source": [
    "#Make the predict data\n",
    "predict = [40,1,0,0,1,0,1,1,0,1,0]\n",
    "\n",
    "pre = {}\n",
    "for k,p in zip(list(test_feature.keys()),predict):\n",
    "    pre.update({k:p})"
   ]
  },
  {
   "cell_type": "code",
   "execution_count": 34,
   "metadata": {},
   "outputs": [
    {
     "data": {
      "text/plain": [
       "{'BurningOf_no': 1,\n",
       " 'BurningOf_yes': 0,\n",
       " 'LumbarPain_no': 0,\n",
       " 'LumbarPain_yes': 1,\n",
       " 'MicturitionPains_no': 1,\n",
       " 'MicturitionPains_yes': 0,\n",
       " 'Nausea_no': 1,\n",
       " 'Nausea_yes': 0,\n",
       " 'Temperature': 40,\n",
       " 'UrinePushing_no': 0,\n",
       " 'UrinePushing_yes': 1}"
      ]
     },
     "execution_count": 34,
     "metadata": {},
     "output_type": "execute_result"
    }
   ],
   "source": [
    "#see the predict data\n",
    "pre"
   ]
  },
  {
   "cell_type": "code",
   "execution_count": 35,
   "metadata": {},
   "outputs": [],
   "source": [
    "#make it as dataframe type\n",
    "pre2 = pd.DataFrame(pre, index=[0])"
   ]
  },
  {
   "cell_type": "code",
   "execution_count": 36,
   "metadata": {},
   "outputs": [
    {
     "data": {
      "text/html": [
       "<div>\n",
       "<style scoped>\n",
       "    .dataframe tbody tr th:only-of-type {\n",
       "        vertical-align: middle;\n",
       "    }\n",
       "\n",
       "    .dataframe tbody tr th {\n",
       "        vertical-align: top;\n",
       "    }\n",
       "\n",
       "    .dataframe thead th {\n",
       "        text-align: right;\n",
       "    }\n",
       "</style>\n",
       "<table border=\"1\" class=\"dataframe\">\n",
       "  <thead>\n",
       "    <tr style=\"text-align: right;\">\n",
       "      <th></th>\n",
       "      <th>BurningOf_no</th>\n",
       "      <th>BurningOf_yes</th>\n",
       "      <th>LumbarPain_no</th>\n",
       "      <th>LumbarPain_yes</th>\n",
       "      <th>MicturitionPains_no</th>\n",
       "      <th>MicturitionPains_yes</th>\n",
       "      <th>Nausea_no</th>\n",
       "      <th>Nausea_yes</th>\n",
       "      <th>Temperature</th>\n",
       "      <th>UrinePushing_no</th>\n",
       "      <th>UrinePushing_yes</th>\n",
       "    </tr>\n",
       "  </thead>\n",
       "  <tbody>\n",
       "    <tr>\n",
       "      <th>0</th>\n",
       "      <td>1</td>\n",
       "      <td>0</td>\n",
       "      <td>0</td>\n",
       "      <td>1</td>\n",
       "      <td>1</td>\n",
       "      <td>0</td>\n",
       "      <td>1</td>\n",
       "      <td>0</td>\n",
       "      <td>40</td>\n",
       "      <td>0</td>\n",
       "      <td>1</td>\n",
       "    </tr>\n",
       "  </tbody>\n",
       "</table>\n",
       "</div>"
      ],
      "text/plain": [
       "   BurningOf_no  BurningOf_yes  LumbarPain_no  LumbarPain_yes  \\\n",
       "0             1              0              0               1   \n",
       "\n",
       "   MicturitionPains_no  MicturitionPains_yes  Nausea_no  Nausea_yes  \\\n",
       "0                    1                     0          1           0   \n",
       "\n",
       "   Temperature  UrinePushing_no  UrinePushing_yes  \n",
       "0           40                0                 1  "
      ]
     },
     "execution_count": 36,
     "metadata": {},
     "output_type": "execute_result"
    }
   ],
   "source": [
    "pre2"
   ]
  },
  {
   "cell_type": "code",
   "execution_count": 38,
   "metadata": {},
   "outputs": [],
   "source": [
    "#Define the function to transform the predict data to tensor type\n",
    "#Just make a record of different transform version for input data \n",
    "def eval_fn(features, labels = None, batch_size=None, counts=1):\n",
    "    #To check whether have the label or not\n",
    "    #If we use predict to predict the class, the label could be none.\n",
    "    #If we want to predict the class, we only need the features.\n",
    "    if labels is None:\n",
    "        inputs = dict(features)\n",
    "    else:\n",
    "        inputs = (dict(features), labels)\n",
    "    \n",
    "    dataset = tf.data.Dataset.from_tensor_slices(inputs)\n",
    "    \n",
    "    # assert batch_size is not None, \"batch_size must not be None\"\n",
    "    dataset = dataset.repeat(counts)\n",
    "    dataset = dataset.batch(batch_size)\n",
    "    dataset = dataset.make_one_shot_iterator()\n",
    "    dataset = dataset.get_next()    \n",
    "    return dataset"
   ]
  },
  {
   "cell_type": "code",
   "execution_count": 39,
   "metadata": {},
   "outputs": [
    {
     "data": {
      "text/plain": [
       "{'BurningOf_no': <tf.Tensor 'IteratorGetNext:0' shape=(?,) dtype=int64>,\n",
       " 'BurningOf_yes': <tf.Tensor 'IteratorGetNext:1' shape=(?,) dtype=int64>,\n",
       " 'LumbarPain_no': <tf.Tensor 'IteratorGetNext:2' shape=(?,) dtype=int64>,\n",
       " 'LumbarPain_yes': <tf.Tensor 'IteratorGetNext:3' shape=(?,) dtype=int64>,\n",
       " 'MicturitionPains_no': <tf.Tensor 'IteratorGetNext:4' shape=(?,) dtype=int64>,\n",
       " 'MicturitionPains_yes': <tf.Tensor 'IteratorGetNext:5' shape=(?,) dtype=int64>,\n",
       " 'Nausea_no': <tf.Tensor 'IteratorGetNext:6' shape=(?,) dtype=int64>,\n",
       " 'Nausea_yes': <tf.Tensor 'IteratorGetNext:7' shape=(?,) dtype=int64>,\n",
       " 'Temperature': <tf.Tensor 'IteratorGetNext:8' shape=(?,) dtype=int64>,\n",
       " 'UrinePushing_no': <tf.Tensor 'IteratorGetNext:9' shape=(?,) dtype=int64>,\n",
       " 'UrinePushing_yes': <tf.Tensor 'IteratorGetNext:10' shape=(?,) dtype=int64>}"
      ]
     },
     "execution_count": 39,
     "metadata": {},
     "output_type": "execute_result"
    }
   ],
   "source": [
    "#test the function\n",
    "a = eval_fn(pre2, labels=None, batch_size=1, repeat_num=1)\n",
    "a"
   ]
  },
  {
   "cell_type": "code",
   "execution_count": 47,
   "metadata": {},
   "outputs": [],
   "source": [
    "#Predict the class from the model\n",
    "pre_iter = classifier.predict(input_fn=lambda:eval_fn(pre2, labels=None, batch_size=1, repeat_num=1))"
   ]
  },
  {
   "cell_type": "code",
   "execution_count": 48,
   "metadata": {},
   "outputs": [
    {
     "name": "stdout",
     "output_type": "stream",
     "text": [
      "INFO:tensorflow:Calling model_fn.\n",
      "INFO:tensorflow:Done calling model_fn.\n",
      "INFO:tensorflow:Graph was finalized.\n",
      "INFO:tensorflow:Restoring parameters from C:\\Users\\ADAMCH~1\\AppData\\Local\\Temp\\tmpzyodp7c5\\model.ckpt-2106\n",
      "INFO:tensorflow:Running local_init_op.\n",
      "INFO:tensorflow:Done running local_init_op.\n",
      "Prediction : [b'0'], Probablities : [0.95707625 0.04292373]\n"
     ]
    }
   ],
   "source": [
    "label_list = ['no','yes']\n",
    "#predict return the iterator, so we need to use follow code to get the prediction\n",
    "for i,p in enumerate(pre_iter):\n",
    "    print(\"Prediction : {}, Probablities : {}\".format(p['classes'], p[\"probabilities\"]))\n",
    "    # or use 'class_ids' to get the prediction id"
   ]
  },
  {
   "cell_type": "markdown",
   "metadata": {},
   "source": [
    "# 預測另一個case"
   ]
  },
  {
   "cell_type": "code",
   "execution_count": 49,
   "metadata": {},
   "outputs": [
    {
     "name": "stdout",
     "output_type": "stream",
     "text": [
      "INFO:tensorflow:Calling model_fn.\n",
      "INFO:tensorflow:Done calling model_fn.\n",
      "INFO:tensorflow:Create CheckpointSaverHook.\n",
      "INFO:tensorflow:Graph was finalized.\n",
      "INFO:tensorflow:Restoring parameters from C:\\Users\\ADAMCH~1\\AppData\\Local\\Temp\\tmpzyodp7c5\\model.ckpt-2106\n",
      "INFO:tensorflow:Running local_init_op.\n",
      "INFO:tensorflow:Done running local_init_op.\n",
      "INFO:tensorflow:Saving checkpoints for 2107 into C:\\Users\\ADAMCH~1\\AppData\\Local\\Temp\\tmpzyodp7c5\\model.ckpt.\n",
      "INFO:tensorflow:step = 2107, loss = 95.645164\n",
      "INFO:tensorflow:global_step/sec: 304.157\n",
      "INFO:tensorflow:step = 2207, loss = 23.70279 (0.330 sec)\n",
      "INFO:tensorflow:global_step/sec: 720.103\n",
      "INFO:tensorflow:step = 2307, loss = 5.788143 (0.138 sec)\n",
      "INFO:tensorflow:global_step/sec: 801.071\n",
      "INFO:tensorflow:step = 2407, loss = 3.2477956 (0.125 sec)\n",
      "INFO:tensorflow:global_step/sec: 588.395\n",
      "INFO:tensorflow:step = 2507, loss = 1.7364392 (0.170 sec)\n",
      "INFO:tensorflow:global_step/sec: 727.997\n",
      "INFO:tensorflow:step = 2607, loss = 1.9186767 (0.138 sec)\n",
      "INFO:tensorflow:global_step/sec: 625.291\n",
      "INFO:tensorflow:step = 2707, loss = 1.7124511 (0.163 sec)\n",
      "INFO:tensorflow:Saving checkpoints for 2709 into C:\\Users\\ADAMCH~1\\AppData\\Local\\Temp\\tmpzyodp7c5\\model.ckpt.\n",
      "INFO:tensorflow:Loss for final step: 1.513948.\n"
     ]
    },
    {
     "data": {
      "text/plain": [
       "<tensorflow.python.estimator.canned.linear.LinearClassifier at 0x1bf29faf5f8>"
      ]
     },
     "execution_count": 49,
     "metadata": {},
     "output_type": "execute_result"
    }
   ],
   "source": [
    "#try to predict the label2\n",
    "classifier.train(input_fn=lambda: train_input_fn(train_feature, train_label2, 32, 201))"
   ]
  },
  {
   "cell_type": "code",
   "execution_count": 50,
   "metadata": {},
   "outputs": [
    {
     "name": "stdout",
     "output_type": "stream",
     "text": [
      "INFO:tensorflow:Calling model_fn.\n",
      "WARNING:tensorflow:Trapezoidal rule is known to produce incorrect PR-AUCs; please switch to \"careful_interpolation\" instead.\n",
      "WARNING:tensorflow:Trapezoidal rule is known to produce incorrect PR-AUCs; please switch to \"careful_interpolation\" instead.\n",
      "INFO:tensorflow:Done calling model_fn.\n",
      "INFO:tensorflow:Starting evaluation at 2018-05-11-13:47:33\n",
      "INFO:tensorflow:Graph was finalized.\n",
      "INFO:tensorflow:Restoring parameters from C:\\Users\\ADAMCH~1\\AppData\\Local\\Temp\\tmpzyodp7c5\\model.ckpt-2709\n",
      "INFO:tensorflow:Running local_init_op.\n",
      "INFO:tensorflow:Done running local_init_op.\n",
      "INFO:tensorflow:Finished evaluation at 2018-05-11-13:47:34\n",
      "INFO:tensorflow:Saving dict for global step 2709: accuracy = 1.0, accuracy_baseline = 0.6666666, auc = 1.0, auc_precision_recall = 1.0, average_loss = 0.045237172, global_step = 2709, label/mean = 0.33333334, loss = 1.4451928, precision = 1.0, prediction/mean = 0.33876723, recall = 1.0\n",
      "accuracy:1.0\n",
      "accuracy_baseline:0.5416666269302368\n",
      "auc:1.0\n",
      "auc_precision_recall:1.0\n",
      "average_loss:0.009259223937988281\n",
      "global_step:2106\n",
      "label/mean:0.4583333432674408\n",
      "loss:0.29580461978912354\n",
      "precision:1.0\n",
      "prediction/mean:0.4563088119029999\n",
      "recall:1.0\n"
     ]
    }
   ],
   "source": [
    "#Use the testing set to evaluate the model\n",
    "result2 = classifier.evaluate(input_fn=lambda: train_input_fn(test_feature, test_label2, 32, 201))\n",
    "#This code could get the result of testing\n",
    "for key in sorted(result2):\n",
    "    print('{}:{}'.format(key, result[key]))"
   ]
  },
  {
   "cell_type": "code",
   "execution_count": 53,
   "metadata": {},
   "outputs": [],
   "source": [
    "pre_iter2 = classifier.predict(input_fn=lambda:eval_fn(pre2, labels=None, batch_size=1, repeat_num=1))"
   ]
  },
  {
   "cell_type": "code",
   "execution_count": 54,
   "metadata": {},
   "outputs": [
    {
     "name": "stdout",
     "output_type": "stream",
     "text": [
      "INFO:tensorflow:Calling model_fn.\n",
      "INFO:tensorflow:Done calling model_fn.\n",
      "INFO:tensorflow:Graph was finalized.\n",
      "INFO:tensorflow:Restoring parameters from C:\\Users\\ADAMCH~1\\AppData\\Local\\Temp\\tmpzyodp7c5\\model.ckpt-2709\n",
      "INFO:tensorflow:Running local_init_op.\n",
      "INFO:tensorflow:Done running local_init_op.\n",
      "Prediction : [b'1'], Probablities : [0.3870985 0.6129015]\n"
     ]
    }
   ],
   "source": [
    "for i,p in enumerate(pre_iter2):\n",
    "    print(\"Prediction : {}, Probablities : {}\".format(p['classes'], p[\"probabilities\"]))"
   ]
  }
 ],
 "metadata": {
  "kernelspec": {
   "display_name": "Python [conda env:tensorflow]",
   "language": "python",
   "name": "conda-env-tensorflow-py"
  },
  "language_info": {
   "codemirror_mode": {
    "name": "ipython",
    "version": 3
   },
   "file_extension": ".py",
   "mimetype": "text/x-python",
   "name": "python",
   "nbconvert_exporter": "python",
   "pygments_lexer": "ipython3",
   "version": "3.5.5"
  }
 },
 "nbformat": 4,
 "nbformat_minor": 2
}
