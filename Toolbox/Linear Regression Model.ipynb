{
 "cells": [
  {
   "cell_type": "markdown",
   "metadata": {},
   "source": [
    "# Linear Model For Regression Analysis"
   ]
  },
  {
   "cell_type": "markdown",
   "metadata": {},
   "source": [
    "## Import Module"
   ]
  },
  {
   "cell_type": "code",
   "execution_count": 17,
   "metadata": {},
   "outputs": [
    {
     "name": "stdout",
     "output_type": "stream",
     "text": [
      "Populating the interactive namespace from numpy and matplotlib\n"
     ]
    }
   ],
   "source": [
    "# Import some useful module\n",
    "import pandas as pd\n",
    "import numpy as np\n",
    "import matplotlib.pyplot as plt\n",
    "import seaborn as sns\n",
    "%pylab inline\n",
    "\n",
    "pd.set_option('display.max_columns', None)\n",
    "pd.set_option('display.max_rows', 30)\n",
    "pd.set_option('precision', 4)"
   ]
  },
  {
   "cell_type": "code",
   "execution_count": 2,
   "metadata": {},
   "outputs": [],
   "source": [
    "# Import dataset and linear model\n",
    "from sklearn import datasets, linear_model\n",
    "from sklearn.metrics import mean_squared_error"
   ]
  },
  {
   "cell_type": "markdown",
   "metadata": {},
   "source": [
    "## Import dataset"
   ]
  },
  {
   "cell_type": "code",
   "execution_count": 3,
   "metadata": {},
   "outputs": [],
   "source": [
    "#path = ''\n",
    "#df = pd.DataFrame( ,index= , columns=[], encoding='')\n",
    "boston = datasets.load_boston()"
   ]
  },
  {
   "cell_type": "markdown",
   "metadata": {},
   "source": [
    "## Model Predictors And Responce"
   ]
  },
  {
   "cell_type": "code",
   "execution_count": 4,
   "metadata": {},
   "outputs": [],
   "source": [
    "col = ['CRIM','ZN','INDUS','CHAS','NOX','RM','AGE','DIS','RAD','TAX','PTRATIO','B','LSTAT']\n",
    "df = pd.DataFrame(boston.data, columns=col)"
   ]
  },
  {
   "cell_type": "code",
   "execution_count": 5,
   "metadata": {},
   "outputs": [
    {
     "data": {
      "text/html": [
       "<div>\n",
       "<style scoped>\n",
       "    .dataframe tbody tr th:only-of-type {\n",
       "        vertical-align: middle;\n",
       "    }\n",
       "\n",
       "    .dataframe tbody tr th {\n",
       "        vertical-align: top;\n",
       "    }\n",
       "\n",
       "    .dataframe thead th {\n",
       "        text-align: right;\n",
       "    }\n",
       "</style>\n",
       "<table border=\"1\" class=\"dataframe\">\n",
       "  <thead>\n",
       "    <tr style=\"text-align: right;\">\n",
       "      <th></th>\n",
       "      <th>CRIM</th>\n",
       "      <th>ZN</th>\n",
       "      <th>INDUS</th>\n",
       "      <th>CHAS</th>\n",
       "      <th>NOX</th>\n",
       "      <th>RM</th>\n",
       "      <th>AGE</th>\n",
       "      <th>DIS</th>\n",
       "      <th>RAD</th>\n",
       "      <th>TAX</th>\n",
       "      <th>PTRATIO</th>\n",
       "      <th>B</th>\n",
       "      <th>LSTAT</th>\n",
       "    </tr>\n",
       "  </thead>\n",
       "  <tbody>\n",
       "    <tr>\n",
       "      <th>0</th>\n",
       "      <td>0.00632</td>\n",
       "      <td>18.0</td>\n",
       "      <td>2.31</td>\n",
       "      <td>0.0</td>\n",
       "      <td>0.538</td>\n",
       "      <td>6.575</td>\n",
       "      <td>65.2</td>\n",
       "      <td>4.0900</td>\n",
       "      <td>1.0</td>\n",
       "      <td>296.0</td>\n",
       "      <td>15.3</td>\n",
       "      <td>396.90</td>\n",
       "      <td>4.98</td>\n",
       "    </tr>\n",
       "    <tr>\n",
       "      <th>1</th>\n",
       "      <td>0.02731</td>\n",
       "      <td>0.0</td>\n",
       "      <td>7.07</td>\n",
       "      <td>0.0</td>\n",
       "      <td>0.469</td>\n",
       "      <td>6.421</td>\n",
       "      <td>78.9</td>\n",
       "      <td>4.9671</td>\n",
       "      <td>2.0</td>\n",
       "      <td>242.0</td>\n",
       "      <td>17.8</td>\n",
       "      <td>396.90</td>\n",
       "      <td>9.14</td>\n",
       "    </tr>\n",
       "    <tr>\n",
       "      <th>2</th>\n",
       "      <td>0.02729</td>\n",
       "      <td>0.0</td>\n",
       "      <td>7.07</td>\n",
       "      <td>0.0</td>\n",
       "      <td>0.469</td>\n",
       "      <td>7.185</td>\n",
       "      <td>61.1</td>\n",
       "      <td>4.9671</td>\n",
       "      <td>2.0</td>\n",
       "      <td>242.0</td>\n",
       "      <td>17.8</td>\n",
       "      <td>392.83</td>\n",
       "      <td>4.03</td>\n",
       "    </tr>\n",
       "    <tr>\n",
       "      <th>3</th>\n",
       "      <td>0.03237</td>\n",
       "      <td>0.0</td>\n",
       "      <td>2.18</td>\n",
       "      <td>0.0</td>\n",
       "      <td>0.458</td>\n",
       "      <td>6.998</td>\n",
       "      <td>45.8</td>\n",
       "      <td>6.0622</td>\n",
       "      <td>3.0</td>\n",
       "      <td>222.0</td>\n",
       "      <td>18.7</td>\n",
       "      <td>394.63</td>\n",
       "      <td>2.94</td>\n",
       "    </tr>\n",
       "    <tr>\n",
       "      <th>4</th>\n",
       "      <td>0.06905</td>\n",
       "      <td>0.0</td>\n",
       "      <td>2.18</td>\n",
       "      <td>0.0</td>\n",
       "      <td>0.458</td>\n",
       "      <td>7.147</td>\n",
       "      <td>54.2</td>\n",
       "      <td>6.0622</td>\n",
       "      <td>3.0</td>\n",
       "      <td>222.0</td>\n",
       "      <td>18.7</td>\n",
       "      <td>396.90</td>\n",
       "      <td>5.33</td>\n",
       "    </tr>\n",
       "  </tbody>\n",
       "</table>\n",
       "</div>"
      ],
      "text/plain": [
       "      CRIM    ZN  INDUS  CHAS    NOX     RM   AGE     DIS  RAD    TAX  \\\n",
       "0  0.00632  18.0   2.31   0.0  0.538  6.575  65.2  4.0900  1.0  296.0   \n",
       "1  0.02731   0.0   7.07   0.0  0.469  6.421  78.9  4.9671  2.0  242.0   \n",
       "2  0.02729   0.0   7.07   0.0  0.469  7.185  61.1  4.9671  2.0  242.0   \n",
       "3  0.03237   0.0   2.18   0.0  0.458  6.998  45.8  6.0622  3.0  222.0   \n",
       "4  0.06905   0.0   2.18   0.0  0.458  7.147  54.2  6.0622  3.0  222.0   \n",
       "\n",
       "   PTRATIO       B  LSTAT  \n",
       "0     15.3  396.90   4.98  \n",
       "1     17.8  396.90   9.14  \n",
       "2     17.8  392.83   4.03  \n",
       "3     18.7  394.63   2.94  \n",
       "4     18.7  396.90   5.33  "
      ]
     },
     "execution_count": 5,
     "metadata": {},
     "output_type": "execute_result"
    }
   ],
   "source": [
    "df.head()"
   ]
  },
  {
   "cell_type": "code",
   "execution_count": 6,
   "metadata": {},
   "outputs": [
    {
     "data": {
      "text/plain": [
       "0    24.0\n",
       "1    21.6\n",
       "2    34.7\n",
       "3    33.4\n",
       "4    36.2\n",
       "dtype: float64"
      ]
     },
     "execution_count": 6,
     "metadata": {},
     "output_type": "execute_result"
    }
   ],
   "source": [
    "df_R = pd.Series(boston.target)\n",
    "df_R.head()"
   ]
  },
  {
   "cell_type": "markdown",
   "metadata": {},
   "source": [
    "## Cross-validation"
   ]
  },
  {
   "cell_type": "code",
   "execution_count": 7,
   "metadata": {},
   "outputs": [
    {
     "name": "stderr",
     "output_type": "stream",
     "text": [
      "C:\\Users\\AdamChang\\Anaconda3\\lib\\site-packages\\sklearn\\cross_validation.py:41: DeprecationWarning: This module was deprecated in version 0.18 in favor of the model_selection module into which all the refactored classes and functions are moved. Also note that the interface of the new CV iterators are different from that of this module. This module will be removed in 0.20.\n",
      "  \"This module will be removed in 0.20.\", DeprecationWarning)\n"
     ]
    }
   ],
   "source": [
    "from sklearn.cross_validation import train_test_split"
   ]
  },
  {
   "cell_type": "code",
   "execution_count": 21,
   "metadata": {},
   "outputs": [],
   "source": [
    "x_train, x_test, y_train, y_test = train_test_split(df,df_R,random_state = 42)\n",
    "x_train, x_valid, y_train, y_valid = train_test_split(x_train, y_train, random_state=42)"
   ]
  },
  {
   "cell_type": "markdown",
   "metadata": {},
   "source": [
    "## Training the different model and compute MSE"
   ]
  },
  {
   "cell_type": "code",
   "execution_count": 57,
   "metadata": {},
   "outputs": [
    {
     "name": "stdout",
     "output_type": "stream",
     "text": [
      "Linear Regression Model:\n",
      "\t MSE = 32.7084\n",
      "\t Training Score: 0.7643\n",
      "\t Validation Score: 0.6702\n",
      "Ridge Regression Model:\n",
      "\t MSE = 32.0737\n",
      "\t Training Score: 0.7611\n",
      "\t Validation Score: 0.6766\n",
      "Lasso Regression Model:\n",
      "\t MSE = 33.8482\n",
      "\t Training Score: 0.6926\n",
      "\t Validation Score: 0.6587\n",
      "ElasticNet Regression Model:\n",
      "\t MSE = 33.6276\n",
      "\t Training Score: 0.6906\n",
      "\t Validation Score: 0.6610\n"
     ]
    }
   ],
   "source": [
    "#Least Square Regression\n",
    "lr = linear_model.LinearRegression()\n",
    "lr.fit(x_train, y_train)\n",
    "predict_lr = lr.predict(x_valid)\n",
    "print('Linear Regression Model:')\n",
    "print('\\t MSE = {:.4f}'.format(mean_squared_error(y_valid, predict_lr)))\n",
    "print('\\t Training Score: {:.4f}'.format(lr.score(x_train, y_train),4))\n",
    "print('\\t Validation Score: {:.4f}'.format(lr.score(x_valid, y_valid),4))\n",
    "\n",
    "#Ridge Regression\n",
    "rg = linear_model.Ridge()\n",
    "rg.fit(x_train, y_train)\n",
    "predict_rg = rg.predict(x_valid)\n",
    "print('Ridge Regression Model:')\n",
    "print('\\t MSE = {:.4f}'.format(mean_squared_error(y_valid, predict_rg)))\n",
    "print('\\t Training Score: {:.4f}'.format(rg.score(x_train, y_train),4))\n",
    "print('\\t Validation Score: {:.4f}'.format(rg.score(x_valid, y_valid),4))\n",
    "\n",
    "#Lasso Regression\n",
    "ls = linear_model.Lasso()\n",
    "ls.fit(x_train, y_train)\n",
    "predict_ls = ls.predict(x_valid)\n",
    "print('Lasso Regression Model:')\n",
    "print('\\t MSE = {:.4f}'.format(mean_squared_error(y_valid, predict_ls)))\n",
    "print('\\t Training Score: {:.4f}'.format(ls.score(x_train, y_train),4))\n",
    "print('\\t Validation Score: {:.4f}'.format(ls.score(x_valid, y_valid),4))\n",
    "\n",
    "#ElasticNet Regression\n",
    "en = linear_model.ElasticNet()\n",
    "en.fit(x_train, y_train)\n",
    "predict_en = en.predict(x_valid)\n",
    "print('ElasticNet Regression Model:')\n",
    "print('\\t MSE = {:.4f}'.format(mean_squared_error(y_valid, predict_en)))\n",
    "print('\\t Training Score: {:.4f}'.format(en.score(x_train, y_train),4))\n",
    "print('\\t Validation Score: {:.4f}'.format(en.score(x_valid, y_valid),4))"
   ]
  },
  {
   "cell_type": "markdown",
   "metadata": {},
   "source": [
    "## Tunning Ridge"
   ]
  },
  {
   "cell_type": "code",
   "execution_count": 75,
   "metadata": {},
   "outputs": [],
   "source": [
    "#Prepare CV dataset\n",
    "cv_x_data = pd.concat([x_train, x_valid])\n",
    "cv_y_data = pd.concat([y_train, y_valid])"
   ]
  },
  {
   "cell_type": "code",
   "execution_count": 60,
   "metadata": {},
   "outputs": [],
   "source": [
    "from sklearn.model_selection import GridSearchCV"
   ]
  },
  {
   "cell_type": "code",
   "execution_count": 61,
   "metadata": {},
   "outputs": [],
   "source": [
    "param_grid_R = {'alpha':[0.001,0.01,0.1,1,10,100]}\n",
    "grid_search_R = GridSearchCV(linear_model.Ridge(), param_grid_R, cv=5)"
   ]
  },
  {
   "cell_type": "code",
   "execution_count": 76,
   "metadata": {},
   "outputs": [
    {
     "name": "stdout",
     "output_type": "stream",
     "text": [
      "('Best parameter of Ridge is:', {'alpha': 0.1})\n",
      "Best score of cv is: 0.7170\n"
     ]
    }
   ],
   "source": [
    "grid_search_R.fit(cv_x_data, cv_y_data)\n",
    "print('Best parameter of Ridge is:', grid_search_R.best_params_)\n",
    "print('Best score of cv is: {:.4f}'.format(grid_search_R.best_score_))"
   ]
  },
  {
   "cell_type": "code",
   "execution_count": 78,
   "metadata": {},
   "outputs": [
    {
     "name": "stdout",
     "output_type": "stream",
     "text": [
      "Ridge Regression Model:\n",
      "('MSE =', 22.17487652763194)\n",
      "Training Score: 0.7480\n",
      "Testing Score: 0.6833\n"
     ]
    }
   ],
   "source": [
    "rg2 = linear_model.Ridge(alpha=0.1)\n",
    "rg2.fit(cv_x_data, cv_y_data)\n",
    "predictR2 = rg2.predict(x_test)\n",
    "\n",
    "print('Ridge Regression Model:')\n",
    "print('MSE =', mean_squared_error(y_test, predictR2))\n",
    "print('Training Score: {:.4f}'.format(rg2.score(cv_x_data, cv_y_data)))\n",
    "print('Testing Score: {:.4f}'.format(rg2.score(x_test, y_test)))"
   ]
  },
  {
   "cell_type": "markdown",
   "metadata": {},
   "source": [
    "## Tunning Lasso regression"
   ]
  },
  {
   "cell_type": "code",
   "execution_count": 79,
   "metadata": {
    "scrolled": true
   },
   "outputs": [
    {
     "name": "stdout",
     "output_type": "stream",
     "text": [
      "('Best parameter of Lasso is:', {'alpha': 0.001})\n",
      "('Best score of cv is:', 0.7168295597477687)\n"
     ]
    }
   ],
   "source": [
    "param_grid_L = {'alpha':[0.001,0.01,0.1,1,10,100]}\n",
    "grid_search_L = GridSearchCV(linear_model.Lasso(),param_grid_L,cv=5)\n",
    "grid_search_L.fit(cv_x_data, cv_y_data)\n",
    "print('Best parameter of Lasso is:', grid_search_L.best_params_)\n",
    "print('Best score of cv is:', grid_search_L.best_score_)"
   ]
  },
  {
   "cell_type": "code",
   "execution_count": 80,
   "metadata": {},
   "outputs": [
    {
     "name": "stdout",
     "output_type": "stream",
     "text": [
      "Lasso Regression Model:\n",
      "\n",
      "('MSE =', 22.139310622282096)\n",
      "Training Score: 0.7481\n",
      "Testing Score: 0.6838\n"
     ]
    }
   ],
   "source": [
    "ls2 = linear_model.Lasso(alpha=0.001)\n",
    "ls2.fit(cv_x_data, cv_y_data)\n",
    "predictL3 = ls2.predict(x_test)\n",
    "\n",
    "print('Lasso Regression Model:\\n')\n",
    "print('MSE =', mean_squared_error(y_test, predictL3))\n",
    "print('Training Score: {:.4f}'.format(ls2.score(cv_x_data, cv_y_data)))\n",
    "print('Testing Score: {:.4f}'.format(ls2.score(x_test, y_test)))"
   ]
  },
  {
   "cell_type": "markdown",
   "metadata": {},
   "source": [
    "## Tunning ElasticNet"
   ]
  },
  {
   "cell_type": "code",
   "execution_count": 81,
   "metadata": {},
   "outputs": [],
   "source": [
    "param_grid_E = {'alpha':[0.001,0.01,0.1,1,10,100],\n",
    "               'l1_ratio':[x/100 for x in range(1,100,100)]}"
   ]
  },
  {
   "cell_type": "code",
   "execution_count": 82,
   "metadata": {
    "scrolled": true
   },
   "outputs": [
    {
     "name": "stderr",
     "output_type": "stream",
     "text": [
      "C:\\Users\\AdamChang\\Anaconda3\\lib\\site-packages\\sklearn\\linear_model\\coordinate_descent.py:491: ConvergenceWarning: Objective did not converge. You might want to increase the number of iterations. Fitting data with very small alpha may cause precision problems.\n",
      "  ConvergenceWarning)\n"
     ]
    },
    {
     "name": "stdout",
     "output_type": "stream",
     "text": [
      "('Best parameter of ElasticNet is:', {'alpha': 0.001, 'l1_ratio': 0})\n",
      "('Best score of cv is:', 0.7168775822022203)\n"
     ]
    }
   ],
   "source": [
    "grid_search_E = GridSearchCV(linear_model.ElasticNet(),param_grid_E,cv=5)\n",
    "grid_search_E.fit(cv_x_data, cv_y_data)\n",
    "print('Best parameter of ElasticNet is:', grid_search_E.best_params_)\n",
    "print('Best score of cv is:', grid_search_E.best_score_)"
   ]
  },
  {
   "cell_type": "code",
   "execution_count": 83,
   "metadata": {},
   "outputs": [
    {
     "name": "stdout",
     "output_type": "stream",
     "text": [
      "ElasticNet Regression Model:\n",
      "\n",
      "('MSE =', 22.29615248324071)\n",
      "Training Score: 0.7476\n",
      "Testing Score: 0.6816\n"
     ]
    }
   ],
   "source": [
    "en2 = linear_model.ElasticNet(alpha=0.001,l1_ratio=0)\n",
    "en2.fit(cv_x_data, cv_y_data)\n",
    "predictE4 = en2.predict(x_test)\n",
    "\n",
    "print('ElasticNet Regression Model:\\n')\n",
    "print('MSE =', mean_squared_error(y_test, predictE4))\n",
    "print('Training Score: {:.4f}'.format(en2.score(cv_x_data, cv_y_data)))\n",
    "print('Testing Score: {:.4f}'.format(en2.score(x_test, y_test)))"
   ]
  },
  {
   "cell_type": "markdown",
   "metadata": {},
   "source": [
    "# Forward Stepwise Strategy"
   ]
  },
  {
   "cell_type": "code",
   "execution_count": 84,
   "metadata": {},
   "outputs": [],
   "source": [
    "df_R2 = pd.DataFrame(df_R)"
   ]
  },
  {
   "cell_type": "code",
   "execution_count": 86,
   "metadata": {},
   "outputs": [
    {
     "data": {
      "text/plain": [
       "<matplotlib.axes._subplots.AxesSubplot at 0x10591860>"
      ]
     },
     "execution_count": 86,
     "metadata": {},
     "output_type": "execute_result"
    },
    {
     "data": {
      "image/png": "[encoded data removed]",
      "text/plain": [
       "<matplotlib.figure.Figure at 0xe48ec50>"
      ]
     },
     "metadata": {},
     "output_type": "display_data"
    }
   ],
   "source": [
    "# Use heatmap to view the correlation\n",
    "df_all = pd.concat([df,df_R2],axis=1)\n",
    "plt.figure(figsize=(8,8))\n",
    "sns.heatmap(df_all.corr(),annot=True)"
   ]
  },
  {
   "cell_type": "code",
   "execution_count": 87,
   "metadata": {
    "scrolled": true
   },
   "outputs": [
    {
     "data": {
      "text/plain": [
       "LSTAT      0.7377\n",
       "RM         0.6954\n",
       "PTRATIO    0.5078\n",
       "INDUS      0.4837\n",
       "TAX        0.4685\n",
       "NOX        0.4273\n",
       "CRIM       0.3858\n",
       "RAD        0.3816\n",
       "AGE        0.3770\n",
       "ZN         0.3604\n",
       "B          0.3335\n",
       "DIS        0.2499\n",
       "CHAS       0.1753\n",
       "Name: 0, dtype: float64"
      ]
     },
     "execution_count": 87,
     "metadata": {},
     "output_type": "execute_result"
    }
   ],
   "source": [
    "# Sort the correlation to add the preditor one by one.\n",
    "df_all_corr = df_all.corr()\n",
    "corr = abs(df_all_corr[0]).sort_values(ascending=False)\n",
    "corr = corr.drop(0)\n",
    "corr"
   ]
  },
  {
   "cell_type": "code",
   "execution_count": 119,
   "metadata": {},
   "outputs": [
    {
     "name": "stdout",
     "output_type": "stream",
     "text": [
      "Feature number: 1, MSE = 39.6214156886\n",
      "Feature number: 2, MSE = 30.878290522\n",
      "Feature number: 3, MSE = 27.6872316877\n",
      "Feature number: 4, MSE = 27.6583531261\n",
      "Feature number: 5, MSE = 27.3867270386\n",
      "Feature number: 6, MSE = 27.3549125368\n",
      "Feature number: 7, MSE = 27.1087435112\n",
      "Feature number: 8, MSE = 26.4974964243\n",
      "Feature number: 9, MSE = 26.3039015701\n",
      "Feature number: 10, MSE = 26.2877812184\n",
      "Feature number: 11, MSE = 25.0754294928\n",
      "Feature number: 12, MSE = 22.9889482499\n",
      "Feature number: 13, MSE = 22.5141521603\n"
     ]
    }
   ],
   "source": [
    "# Use the forward stepwise strategy to run the linear square regression.\n",
    "forward_predictor = pd.DataFrame()\n",
    "forward_test = pd.DataFrame()\n",
    "PredictorNum = []\n",
    "MSE = []\n",
    "training_score = []\n",
    "testing_score = []\n",
    "\n",
    "for i in range(len(corr)):\n",
    "    mse_value = 0\n",
    "    forward_predictor[corr.index[i]] = cv_x_data[corr.index[i]]\n",
    "    forward_test[corr.index[i]] = x_test[corr.index[i]]\n",
    "    #assign model here\n",
    "    model= linear_model.Ridge()\n",
    "    model.fit(forward_predictor,cv_y_data)\n",
    "    PredictorNum.append(len(forward_predictor.columns))\n",
    "    mse_value = mean_squared_error(cv_y_data,model.predict(forward_predictor))\n",
    "    MSE.append(mse_value)\n",
    "    training_score.append(model.score(forward_predictor,cv_y_data))\n",
    "    testing_score.append(model.score(forward_test,y_test))\n",
    "    print('Feature number: {}, MSE = {}'.format(i+1,mse_value))\n",
    "    \n",
    "mse = pd.DataFrame({'PredictorNum':PredictorNum,'MSE':MSE,\n",
    "                    'Train_Score':training_score,'Test_Score':testing_score})"
   ]
  },
  {
   "cell_type": "code",
   "execution_count": 121,
   "metadata": {},
   "outputs": [
    {
     "data": {
      "text/plain": [
       "[<matplotlib.lines.Line2D at 0x12f26a58>]"
      ]
     },
     "execution_count": 121,
     "metadata": {},
     "output_type": "execute_result"
    },
    {
     "data": {
      "image/png": "[encoded data removed]",
      "text/plain": [
       "<matplotlib.figure.Figure at 0x12c35a58>"
      ]
     },
     "metadata": {},
     "output_type": "display_data"
    }
   ],
   "source": [
    "# View the MSE of each quantities of predictors.\n",
    "plt.figure(figsize=(10,3))\n",
    "plt.plot(mse['PredictorNum'],mse['MSE'])"
   ]
  },
  {
   "cell_type": "code",
   "execution_count": 123,
   "metadata": {},
   "outputs": [
    {
     "data": {
      "text/plain": [
       "[<matplotlib.lines.Line2D at 0x12d2cf60>]"
      ]
     },
     "execution_count": 123,
     "metadata": {},
     "output_type": "execute_result"
    },
    {
     "data": {
      "image/png": "[encoded data removed]",
      "text/plain": [
       "<matplotlib.figure.Figure at 0x13182908>"
      ]
     },
     "metadata": {},
     "output_type": "display_data"
    }
   ],
   "source": [
    "plt.figure(figsize=(10,3))\n",
    "plt.plot(mse['Train_Score'])\n",
    "plt.plot(mse['Test_Score'])"
   ]
  },
  {
   "cell_type": "code",
   "execution_count": 124,
   "metadata": {},
   "outputs": [
    {
     "data": {
      "text/html": [
       "<div>\n",
       "<style scoped>\n",
       "    .dataframe tbody tr th:only-of-type {\n",
       "        vertical-align: middle;\n",
       "    }\n",
       "\n",
       "    .dataframe tbody tr th {\n",
       "        vertical-align: top;\n",
       "    }\n",
       "\n",
       "    .dataframe thead th {\n",
       "        text-align: right;\n",
       "    }\n",
       "</style>\n",
       "<table border=\"1\" class=\"dataframe\">\n",
       "  <thead>\n",
       "    <tr style=\"text-align: right;\">\n",
       "      <th></th>\n",
       "      <th>MSE</th>\n",
       "      <th>PredictorNum</th>\n",
       "      <th>Test_Score</th>\n",
       "      <th>Train_Score</th>\n",
       "    </tr>\n",
       "  </thead>\n",
       "  <tbody>\n",
       "    <tr>\n",
       "      <th>0</th>\n",
       "      <td>39.6214</td>\n",
       "      <td>1</td>\n",
       "      <td>0.4929</td>\n",
       "      <td>0.5532</td>\n",
       "    </tr>\n",
       "    <tr>\n",
       "      <th>1</th>\n",
       "      <td>30.8783</td>\n",
       "      <td>2</td>\n",
       "      <td>0.5783</td>\n",
       "      <td>0.6518</td>\n",
       "    </tr>\n",
       "    <tr>\n",
       "      <th>2</th>\n",
       "      <td>27.6872</td>\n",
       "      <td>3</td>\n",
       "      <td>0.6335</td>\n",
       "      <td>0.6878</td>\n",
       "    </tr>\n",
       "    <tr>\n",
       "      <th>3</th>\n",
       "      <td>27.6584</td>\n",
       "      <td>4</td>\n",
       "      <td>0.6313</td>\n",
       "      <td>0.6881</td>\n",
       "    </tr>\n",
       "    <tr>\n",
       "      <th>4</th>\n",
       "      <td>27.3867</td>\n",
       "      <td>5</td>\n",
       "      <td>0.6272</td>\n",
       "      <td>0.6912</td>\n",
       "    </tr>\n",
       "    <tr>\n",
       "      <th>5</th>\n",
       "      <td>27.3549</td>\n",
       "      <td>6</td>\n",
       "      <td>0.6281</td>\n",
       "      <td>0.6915</td>\n",
       "    </tr>\n",
       "    <tr>\n",
       "      <th>6</th>\n",
       "      <td>27.1087</td>\n",
       "      <td>7</td>\n",
       "      <td>0.6234</td>\n",
       "      <td>0.6943</td>\n",
       "    </tr>\n",
       "    <tr>\n",
       "      <th>7</th>\n",
       "      <td>26.4975</td>\n",
       "      <td>8</td>\n",
       "      <td>0.6504</td>\n",
       "      <td>0.7012</td>\n",
       "    </tr>\n",
       "    <tr>\n",
       "      <th>8</th>\n",
       "      <td>26.3039</td>\n",
       "      <td>9</td>\n",
       "      <td>0.6579</td>\n",
       "      <td>0.7034</td>\n",
       "    </tr>\n",
       "    <tr>\n",
       "      <th>9</th>\n",
       "      <td>26.2878</td>\n",
       "      <td>10</td>\n",
       "      <td>0.6552</td>\n",
       "      <td>0.7036</td>\n",
       "    </tr>\n",
       "    <tr>\n",
       "      <th>10</th>\n",
       "      <td>25.0754</td>\n",
       "      <td>11</td>\n",
       "      <td>0.6322</td>\n",
       "      <td>0.7172</td>\n",
       "    </tr>\n",
       "    <tr>\n",
       "      <th>11</th>\n",
       "      <td>22.9889</td>\n",
       "      <td>12</td>\n",
       "      <td>0.6726</td>\n",
       "      <td>0.7408</td>\n",
       "    </tr>\n",
       "    <tr>\n",
       "      <th>12</th>\n",
       "      <td>22.5142</td>\n",
       "      <td>13</td>\n",
       "      <td>0.6785</td>\n",
       "      <td>0.7461</td>\n",
       "    </tr>\n",
       "  </tbody>\n",
       "</table>\n",
       "</div>"
      ],
      "text/plain": [
       "        MSE  PredictorNum  Test_Score  Train_Score\n",
       "0   39.6214             1      0.4929       0.5532\n",
       "1   30.8783             2      0.5783       0.6518\n",
       "2   27.6872             3      0.6335       0.6878\n",
       "3   27.6584             4      0.6313       0.6881\n",
       "4   27.3867             5      0.6272       0.6912\n",
       "5   27.3549             6      0.6281       0.6915\n",
       "6   27.1087             7      0.6234       0.6943\n",
       "7   26.4975             8      0.6504       0.7012\n",
       "8   26.3039             9      0.6579       0.7034\n",
       "9   26.2878            10      0.6552       0.7036\n",
       "10  25.0754            11      0.6322       0.7172\n",
       "11  22.9889            12      0.6726       0.7408\n",
       "12  22.5142            13      0.6785       0.7461"
      ]
     },
     "execution_count": 124,
     "metadata": {},
     "output_type": "execute_result"
    }
   ],
   "source": [
    "mse"
   ]
  },
  {
   "cell_type": "markdown",
   "metadata": {},
   "source": [
    "# Forecast the data "
   ]
  },
  {
   "cell_type": "code",
   "execution_count": null,
   "metadata": {},
   "outputs": [],
   "source": [
    "final_model = linear_model.Lasso(alpha=0.001)\n",
    "final_model.fit(cv_x_data,cv_y_data)\n",
    "#prediction = final_model.predict()\n",
    "#prediction.to_csv('')"
   ]
  }
 ],
 "metadata": {
  "anaconda-cloud": {},
  "kernelspec": {
   "display_name": "Python [default]",
   "language": "python",
   "name": "python2"
  },
  "language_info": {
   "codemirror_mode": {
    "name": "ipython",
    "version": 2
   },
   "file_extension": ".py",
   "mimetype": "text/x-python",
   "name": "python",
   "nbconvert_exporter": "python",
   "pygments_lexer": "ipython2",
   "version": "2.7.14"
  }
 },
 "nbformat": 4,
 "nbformat_minor": 2
}
