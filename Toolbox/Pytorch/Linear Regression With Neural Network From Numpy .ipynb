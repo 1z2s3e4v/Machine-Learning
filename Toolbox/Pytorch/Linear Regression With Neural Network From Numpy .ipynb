{
 "cells": [
  {
   "cell_type": "code",
   "execution_count": 35,
   "metadata": {},
   "outputs": [
    {
     "name": "stdout",
     "output_type": "stream",
     "text": [
      "Populating the interactive namespace from numpy and matplotlib\n"
     ]
    }
   ],
   "source": [
    "import torch\n",
    "\n",
    "import pandas as pd\n",
    "import numpy as np\n",
    "import matplotlib.pyplot as plt\n",
    "import seaborn as sns\n",
    "import os\n",
    "\n",
    "%pylab inline\n",
    "pd.set_option('display.expand_frame_repr', True)"
   ]
  },
  {
   "cell_type": "markdown",
   "metadata": {},
   "source": [
    "# 準備訓練的資料"
   ]
  },
  {
   "cell_type": "code",
   "execution_count": 116,
   "metadata": {},
   "outputs": [],
   "source": [
    "path = '/data/examples/pm25'"
   ]
  },
  {
   "cell_type": "code",
   "execution_count": 117,
   "metadata": {},
   "outputs": [],
   "source": [
    "train_path = os.path.join(path, 'PM25_train.csv')\n",
    "test_path = os.path.join(path, 'PM25_test.csv')\n",
    "submission = os.path.join(path, 'submission.csv')"
   ]
  },
  {
   "cell_type": "code",
   "execution_count": 118,
   "metadata": {},
   "outputs": [],
   "source": [
    "df_train = pd.read_csv(train_path)\n",
    "df_test = pd.read_csv(test_path)\n",
    "submit = pd.read_csv(submission)"
   ]
  },
  {
   "cell_type": "code",
   "execution_count": 119,
   "metadata": {},
   "outputs": [
    {
     "name": "stderr",
     "output_type": "stream",
     "text": [
      "/opt/conda/lib/python3.6/site-packages/ipykernel_launcher.py:4: FutureWarning: Sorting because non-concatenation axis is not aligned. A future version\n",
      "of pandas will change to not sort by default.\n",
      "\n",
      "To accept the future behavior, pass 'sort=False'.\n",
      "\n",
      "To retain the current behavior and silence the warning, pass 'sort=True'.\n",
      "\n",
      "  after removing the cwd from sys.path.\n"
     ]
    }
   ],
   "source": [
    "# drop duplicate\n",
    "df_train = df_train.drop_duplicates(keep='first')\n",
    "df_test = df_test.drop_duplicates(keep='first')\n",
    "df_all = pd.concat([df_train, df_test])\n",
    "\n",
    "# feature\n",
    "\n",
    "df_all['hours'] = df_all['Time'].str.split(':').str.get(0)\n",
    "df_all = df_all.drop(['Date', 'Time','lat','lon'], axis=1)\n",
    "df_all_one_hot = pd.get_dummies(df_all)\n",
    "\n",
    "train_data = df_all_one_hot[0:1094714]\n",
    "test_data = df_all_one_hot[1094714:]"
   ]
  },
  {
   "cell_type": "code",
   "execution_count": 120,
   "metadata": {},
   "outputs": [
    {
     "name": "stdout",
     "output_type": "stream",
     "text": [
      "(1094714, 281)\n",
      "(41223, 281)\n"
     ]
    }
   ],
   "source": [
    "#確認資料的維度\n",
    "print(train_data.shape)\n",
    "print(test_data.shape)"
   ]
  },
  {
   "cell_type": "code",
   "execution_count": 123,
   "metadata": {},
   "outputs": [],
   "source": [
    "#拆分feature and target\n",
    "train_feature, train_label = train_data, train_data.pop('PM2.5')\n",
    "test_data = test_data.drop('PM2.5', axis=1)"
   ]
  },
  {
   "cell_type": "code",
   "execution_count": 189,
   "metadata": {},
   "outputs": [],
   "source": [
    "#將資料轉成tensor 型態\n",
    "x = torch.from_numpy(np.array(train_feature))\n",
    "y = torch.from_numpy(np.array(train_label))\n",
    "\n",
    "test = torch.from_numpy(np.array(test_data))"
   ]
  },
  {
   "cell_type": "code",
   "execution_count": 193,
   "metadata": {},
   "outputs": [],
   "source": [
    "cuda0 = torch.device('cuda:0')"
   ]
  },
  {
   "cell_type": "code",
   "execution_count": 196,
   "metadata": {},
   "outputs": [],
   "source": [
    "#將tensor 轉成float GPU型態\n",
    "#(很重要，沒轉的話會沒辦法在GPU上面跑)\n",
    "x = x.float().to(cuda0)\n",
    "y = y.float().to(cuda0)\n",
    "\n",
    "y = y.unsqueeze(1)\n",
    "\n",
    "test = test.float().to(cuda0)"
   ]
  },
  {
   "cell_type": "markdown",
   "metadata": {},
   "source": [
    "# 定義網絡結構"
   ]
  },
  {
   "cell_type": "code",
   "execution_count": 221,
   "metadata": {},
   "outputs": [],
   "source": [
    "class poly_model(torch.nn.Module):\n",
    "    def __init__(self):\n",
    "        super(poly_model, self).__init__()\n",
    "        self.linear1 = torch.nn.Linear(280,140)\n",
    "        self.linear2 = torch.nn.Linear(140,70)\n",
    "        self.linear3 = torch.nn.Linear(70,35)\n",
    "        self.linear4 = torch.nn.Linear(35,20)\n",
    "        self.linear5 = torch.nn.Linear(20,10)\n",
    "        self.linear6 = torch.nn.Linear(10,1)\n",
    "        \n",
    "    def forward(self, x):\n",
    "        lin_1 = self.linear1(x)\n",
    "        lin_2 = self.linear2(lin_1)\n",
    "        lin_3 = self.linear3(lin_2)\n",
    "        lin_4 = self.linear4(lin_3)\n",
    "        lin_5 = self.linear5(lin_4)\n",
    "        out = self.linear6(lin_5)\n",
    "        return out"
   ]
  },
  {
   "cell_type": "code",
   "execution_count": 222,
   "metadata": {},
   "outputs": [],
   "source": [
    "#初始化model，並將model 轉成 GPU 型態\n",
    "if torch.cuda.is_available():\n",
    "    model = poly_model().cuda()\n",
    "else:\n",
    "    model = poly_model()"
   ]
  },
  {
   "cell_type": "code",
   "execution_count": 223,
   "metadata": {},
   "outputs": [],
   "source": [
    "#定義loss function and optimizer\n",
    "criterian = torch.nn.MSELoss()\n",
    "optimizer = torch.optim.SGD(model.parameters(), lr=1e-5, momentum=0.9)"
   ]
  },
  {
   "cell_type": "markdown",
   "metadata": {},
   "source": [
    "# 模型訓練"
   ]
  },
  {
   "cell_type": "code",
   "execution_count": 224,
   "metadata": {},
   "outputs": [
    {
     "name": "stdout",
     "output_type": "stream",
     "text": [
      "Loss: 1737.425659 after 0 epoch\n",
      "Loss: 17.371624 after 500 epoch\n",
      "Loss: 17.092161 after 1000 epoch\n",
      "Loss: 16.944618 after 1500 epoch\n",
      "Loss: 16.870733 after 2000 epoch\n",
      "Loss: 16.834743 after 2500 epoch\n",
      "finish traning\n"
     ]
    }
   ],
   "source": [
    "#定義epoch 數目(訓練的次數)\n",
    "epoch = 3000\n",
    "\n",
    "for i in range(epoch):\n",
    "    #將x的值帶入model中\n",
    "    output = model(x)\n",
    "    \n",
    "    #將output計算loss\n",
    "    loss = criterian(output, y)\n",
    "    \n",
    "    #先將gradient的參數初使化\n",
    "    optimizer.zero_grad()\n",
    "\n",
    "    #計算backpropogation\n",
    "    loss.backward()\n",
    "\n",
    "    #update gradient\n",
    "    optimizer.step()\n",
    "    \n",
    "    #顯示目前進度\n",
    "    if i%500==0:\n",
    "        print('Loss: {:.6f} after {} epoch'.format(loss, i))\n",
    "\n",
    "print('finish traning')"
   ]
  },
  {
   "cell_type": "markdown",
   "metadata": {},
   "source": [
    "# 看結果"
   ]
  },
  {
   "cell_type": "code",
   "execution_count": 229,
   "metadata": {},
   "outputs": [
    {
     "data": {
      "text/plain": [
       "Parameter containing:\n",
       "tensor([[ 0.0209,  0.1346, -0.0284, -0.4269, -0.5581,  0.1911, -0.3128,\n",
       "          0.1188, -0.2426,  0.2504]], device='cuda:0')"
      ]
     },
     "execution_count": 229,
     "metadata": {},
     "output_type": "execute_result"
    }
   ],
   "source": [
    "#可以看各層的weight\n",
    "model.linear6.weight"
   ]
  },
  {
   "cell_type": "code",
   "execution_count": 230,
   "metadata": {},
   "outputs": [
    {
     "data": {
      "text/plain": [
       "Parameter containing:\n",
       "tensor([ 0.1520], device='cuda:0')"
      ]
     },
     "execution_count": 230,
     "metadata": {},
     "output_type": "execute_result"
    }
   ],
   "source": [
    "#看各層的bias\n",
    "model.linear6.bias"
   ]
  },
  {
   "cell_type": "code",
   "execution_count": 231,
   "metadata": {},
   "outputs": [
    {
     "data": {
      "text/plain": [
       "tensor(16.8158, device='cuda:0')"
      ]
     },
     "execution_count": 231,
     "metadata": {},
     "output_type": "execute_result"
    }
   ],
   "source": [
    "#看loss的狀況\n",
    "loss"
   ]
  },
  {
   "cell_type": "code",
   "execution_count": 234,
   "metadata": {},
   "outputs": [],
   "source": [
    "#實際帶值下去預測\n",
    "predict = model(test)"
   ]
  },
  {
   "cell_type": "code",
   "execution_count": 237,
   "metadata": {},
   "outputs": [],
   "source": [
    "#將值轉成numpy的型態\n",
    "#要先將tensor轉成cpu tensor再轉Numpy\n",
    "predict_np = predict.cpu().detach().numpy()\n",
    "\n",
    "#計算各device的pm2.5\n",
    "df_test['pred_pm25'] = predict_np\n",
    "df_predict = pd.pivot_table(df_test, values='pred_pm25', index='device_id', aggfunc=np.mean)\n",
    "df_predict_sumit = df_predict.reset_index()\n",
    "df_predict_sumit.to_csv('mid_submit_nn.csv', index=False)"
   ]
  }
 ],
 "metadata": {
  "kernelspec": {
   "display_name": "Python 3",
   "language": "python",
   "name": "python3"
  },
  "language_info": {
   "codemirror_mode": {
    "name": "ipython",
    "version": 3
   },
   "file_extension": ".py",
   "mimetype": "text/x-python",
   "name": "python",
   "nbconvert_exporter": "python",
   "pygments_lexer": "ipython3",
   "version": "3.6.3"
  }
 },
 "nbformat": 4,
 "nbformat_minor": 2
}
