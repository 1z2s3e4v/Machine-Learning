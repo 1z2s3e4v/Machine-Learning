{
 "cells": [
  {
   "cell_type": "code",
   "execution_count": 1,
   "metadata": {},
   "outputs": [],
   "source": [
    "''' basic package '''\n",
    "import numpy as np\n",
    "from pprint import pprint\n",
    "import matplotlib.pyplot as plt\n",
    "\n",
    "'''pytorch package'''\n",
    "import torch\n",
    "from torch import nn, optim\n",
    "from torch.autograd import Variable\n",
    "from torch.utils.data import DataLoader\n",
    "from torchvision import transforms\n",
    "from torchvision import datasets"
   ]
  },
  {
   "cell_type": "markdown",
   "metadata": {},
   "source": [
    "# 導入Dataset"
   ]
  },
  {
   "cell_type": "code",
   "execution_count": 4,
   "metadata": {},
   "outputs": [],
   "source": [
    "# 導入MNIST 手寫數字集\n",
    "train_dataset = datasets.MNIST(\n",
    "    root='./data', train=True, transform=transforms.ToTensor(), download=True)\n",
    "\n",
    "test_dataset = datasets.MNIST(\n",
    "    root='./data', train=False, transform=transforms.ToTensor())"
   ]
  },
  {
   "cell_type": "code",
   "execution_count": 64,
   "metadata": {},
   "outputs": [
    {
     "data": {
      "text/plain": [
       "<matplotlib.image.AxesImage at 0x7f6bdc2f7438>"
      ]
     },
     "execution_count": 64,
     "metadata": {},
     "output_type": "execute_result"
    },
    {
     "data": {
      "image/png": "[encoded data removed]",
      "text/plain": [
       "<matplotlib.figure.Figure at 0x7f6be7bebf98>"
      ]
     },
     "metadata": {},
     "output_type": "display_data"
    }
   ],
   "source": [
    "plt.imshow(train_dataset[2][0].numpy().reshape(28,28), cmap='gray')"
   ]
  },
  {
   "cell_type": "code",
   "execution_count": 8,
   "metadata": {},
   "outputs": [],
   "source": [
    "# 將資料建成data loader 讀入\n",
    "train_loader = DataLoader(train_dataset, batch_size=batch_size, shuffle=True)\n",
    "test_loader = DataLoader(test_dataset, batch_size=batch_size, shuffle=False)"
   ]
  },
  {
   "cell_type": "markdown",
   "metadata": {},
   "source": [
    "# 定義RNN Model"
   ]
  },
  {
   "cell_type": "code",
   "execution_count": 14,
   "metadata": {},
   "outputs": [],
   "source": [
    "# 定義 Recurrent Network 模型\n",
    "class Rnn(nn.Module):\n",
    "    def __init__(self, in_dim, hidden_dim, n_layer, n_class):\n",
    "        super(Rnn, self).__init__()\n",
    "        self.lstm = nn.LSTM(in_dim, hidden_dim, n_layer, batch_first=True)\n",
    "        self.classifier = nn.Linear(hidden_dim, n_class)\n",
    "\n",
    "    def forward(self, x):\n",
    "        out, _ = self.lstm(x)\n",
    "        out = out[:, -1, :] #[1,28,128] -> [1,128] 中間的-1表示取最後一筆運算結果\n",
    "        out = self.classifier(out)\n",
    "        return out"
   ]
  },
  {
   "cell_type": "markdown",
   "metadata": {},
   "source": [
    "# 建立模型"
   ]
  },
  {
   "cell_type": "code",
   "execution_count": 3,
   "metadata": {},
   "outputs": [],
   "source": [
    "# 定義超参数\n",
    "batch_size = 100\n",
    "learning_rate = 1e-3\n",
    "num_epoches = 10"
   ]
  },
  {
   "cell_type": "code",
   "execution_count": 43,
   "metadata": {},
   "outputs": [],
   "source": [
    "model = Rnn(28, 128, 2, 10)  # 圖片大小是28x28\n",
    "use_gpu = torch.cuda.is_available()  # 判斷是否有GPU\n",
    "if use_gpu:\n",
    "    model = model.cuda()\n",
    "    \n",
    "# 定義loss function和optimizer\n",
    "criterion = nn.CrossEntropyLoss()\n",
    "optimizer = optim.Adam(model.parameters(), lr=learning_rate)"
   ]
  },
  {
   "cell_type": "code",
   "execution_count": 16,
   "metadata": {},
   "outputs": [
    {
     "name": "stdout",
     "output_type": "stream",
     "text": [
      "Rnn(\n",
      "  (lstm): LSTM(28, 128, num_layers=2, batch_first=True)\n",
      "  (classifier): Linear(in_features=128, out_features=10, bias=True)\n",
      ")\n"
     ]
    }
   ],
   "source": [
    "print(model)"
   ]
  },
  {
   "cell_type": "code",
   "execution_count": 44,
   "metadata": {},
   "outputs": [
    {
     "name": "stdout",
     "output_type": "stream",
     "text": [
      "epoch 1\n",
      "**********\n",
      "[1/10] Loss: 0.737378, Acc: 0.752133\n",
      "[1/10] Loss: 0.472883, Acc: 0.845050\n",
      "Finish 1 epoch, Loss: 0.472883, Acc: 0.845050\n",
      "Test Loss: 0.169459, Acc: 0.949200\n",
      "\n",
      "epoch 2\n",
      "**********\n",
      "[2/10] Loss: 0.135623, Acc: 0.959133\n",
      "[2/10] Loss: 0.122683, Acc: 0.963000\n",
      "Finish 2 epoch, Loss: 0.122683, Acc: 0.963000\n",
      "Test Loss: 0.085140, Acc: 0.975600\n",
      "\n",
      "epoch 3\n",
      "**********\n",
      "[3/10] Loss: 0.086855, Acc: 0.972600\n",
      "[3/10] Loss: 0.079127, Acc: 0.975433\n",
      "Finish 3 epoch, Loss: 0.079127, Acc: 0.975433\n",
      "Test Loss: 0.070094, Acc: 0.977800\n",
      "\n",
      "epoch 4\n",
      "**********\n",
      "[4/10] Loss: 0.057382, Acc: 0.981633\n",
      "[4/10] Loss: 0.057273, Acc: 0.982067\n",
      "Finish 4 epoch, Loss: 0.057273, Acc: 0.982067\n",
      "Test Loss: 0.058792, Acc: 0.982100\n",
      "\n",
      "epoch 5\n",
      "**********\n",
      "[5/10] Loss: 0.045854, Acc: 0.985600\n",
      "[5/10] Loss: 0.047466, Acc: 0.985267\n",
      "Finish 5 epoch, Loss: 0.047466, Acc: 0.985267\n",
      "Test Loss: 0.052235, Acc: 0.984200\n",
      "\n",
      "epoch 6\n",
      "**********\n",
      "[6/10] Loss: 0.039250, Acc: 0.987867\n",
      "[6/10] Loss: 0.042130, Acc: 0.986667\n",
      "Finish 6 epoch, Loss: 0.042130, Acc: 0.986667\n",
      "Test Loss: 0.057081, Acc: 0.983100\n",
      "\n",
      "epoch 7\n",
      "**********\n",
      "[7/10] Loss: 0.033395, Acc: 0.989900\n",
      "[7/10] Loss: 0.035829, Acc: 0.988933\n",
      "Finish 7 epoch, Loss: 0.035829, Acc: 0.988933\n",
      "Test Loss: 0.048266, Acc: 0.987400\n",
      "\n",
      "epoch 8\n",
      "**********\n",
      "[8/10] Loss: 0.027254, Acc: 0.991167\n",
      "[8/10] Loss: 0.031277, Acc: 0.989950\n",
      "Finish 8 epoch, Loss: 0.031277, Acc: 0.989950\n",
      "Test Loss: 0.064962, Acc: 0.980900\n",
      "\n",
      "epoch 9\n",
      "**********\n",
      "[9/10] Loss: 0.024674, Acc: 0.992433\n",
      "[9/10] Loss: 0.026709, Acc: 0.991533\n",
      "Finish 9 epoch, Loss: 0.026709, Acc: 0.991533\n",
      "Test Loss: 0.043422, Acc: 0.986700\n",
      "\n",
      "epoch 10\n",
      "**********\n",
      "[10/10] Loss: 0.020534, Acc: 0.993267\n",
      "[10/10] Loss: 0.023396, Acc: 0.992250\n",
      "Finish 10 epoch, Loss: 0.023396, Acc: 0.992250\n",
      "Test Loss: 0.051398, Acc: 0.985800\n",
      "\n"
     ]
    }
   ],
   "source": [
    "# 開始訓練\n",
    "for epoch in range(num_epoches):\n",
    "    \n",
    "    print('epoch {}'.format(epoch + 1))\n",
    "    print('*' * 10)\n",
    "    \n",
    "    running_loss = 0.0\n",
    "    running_acc = 0.0\n",
    "    \n",
    "    eval_loss = 0.0\n",
    "    eval_acc = 0.0\n",
    "    \n",
    "    for i, data in enumerate(train_loader, 1):        \n",
    "        img, label = data      \n",
    "        img = img.view(-1,28,28) #將圖片維度轉成28*28\n",
    "        \n",
    "        if use_gpu: #將tensor 轉成gpu tensor\n",
    "            img = img.cuda()\n",
    "            label = label.cuda()\n",
    "            \n",
    "        # 前向傳撥\n",
    "        out = model(img)\n",
    "        loss = criterion(out, label)\n",
    "        running_loss += loss.item() * label.size(0) #計算loss\n",
    "        \n",
    "        _, pred = torch.max(out, 1) #判斷class\n",
    "        num_correct = (pred == label).sum() #準確度\n",
    "        running_acc += num_correct.item()\n",
    "        \n",
    "        # 後向傳撥\n",
    "        optimizer.zero_grad()\n",
    "        loss.backward()\n",
    "        optimizer.step()\n",
    "\n",
    "        if i % 300 == 0:\n",
    "            print('[{}/{}] Loss: {:.6f}, Acc: {:.6f}'.format(\n",
    "                epoch + 1, num_epoches, running_loss / (batch_size * i),\n",
    "                running_acc / (batch_size * i)))\n",
    "            \n",
    "    print('Finish {} epoch, Loss: {:.6f}, Acc: {:.6f}'.format(\n",
    "        epoch + 1, running_loss / (len(train_dataset)), \n",
    "        running_acc / (len(train_dataset))))\n",
    "    \n",
    "    # 模型驗證\n",
    "    for data in test_loader:        \n",
    "        img, label = data\n",
    "        img = img.view(-1,28,28)\n",
    "\n",
    "        if use_gpu:\n",
    "            img = img.cuda()\n",
    "            label = label.cuda()\n",
    "            \n",
    "        out = model(img)\n",
    "        loss = criterion(out, label)\n",
    "        \n",
    "        eval_loss += loss.item() * label.size(0)\n",
    "        _, pred = torch.max(out, 1)\n",
    "        num_correct = (pred == label).sum()\n",
    "        eval_acc += num_correct.item()\n",
    "        \n",
    "    print('Test Loss: {:.6f}, Acc: {:.6f}'.format(eval_loss / (len(\n",
    "        test_dataset)), eval_acc / (len(test_dataset))))\n",
    "    print()"
   ]
  },
  {
   "cell_type": "markdown",
   "metadata": {},
   "source": [
    "# 模型保存"
   ]
  },
  {
   "cell_type": "code",
   "execution_count": 45,
   "metadata": {},
   "outputs": [],
   "source": [
    "# 保存模型\n",
    "torch.save(model.state_dict(), './rnn.pth')"
   ]
  },
  {
   "cell_type": "markdown",
   "metadata": {},
   "source": [
    "# 讀取模型和預測"
   ]
  },
  {
   "cell_type": "code",
   "execution_count": 55,
   "metadata": {},
   "outputs": [],
   "source": [
    "model2 = Rnn(28, 128, 2, 10).cuda()"
   ]
  },
  {
   "cell_type": "code",
   "execution_count": 52,
   "metadata": {},
   "outputs": [],
   "source": [
    "model2 = model2.load_state_dict(torch.load('./rnn.pth'))"
   ]
  },
  {
   "cell_type": "code",
   "execution_count": 58,
   "metadata": {},
   "outputs": [],
   "source": [
    "out = model2(train_dataset[0][0].cuda())"
   ]
  },
  {
   "cell_type": "code",
   "execution_count": 62,
   "metadata": {},
   "outputs": [
    {
     "data": {
      "text/plain": [
       "tensor([ 2], device='cuda:0')"
      ]
     },
     "execution_count": 62,
     "metadata": {},
     "output_type": "execute_result"
    }
   ],
   "source": [
    "torch.max(out, 1)[1]"
   ]
  }
 ],
 "metadata": {
  "kernelspec": {
   "display_name": "Python 3",
   "language": "python",
   "name": "python3"
  },
  "language_info": {
   "codemirror_mode": {
    "name": "ipython",
    "version": 3
   },
   "file_extension": ".py",
   "mimetype": "text/x-python",
   "name": "python",
   "nbconvert_exporter": "python",
   "pygments_lexer": "ipython3",
   "version": "3.6.3"
  }
 },
 "nbformat": 4,
 "nbformat_minor": 2
}
