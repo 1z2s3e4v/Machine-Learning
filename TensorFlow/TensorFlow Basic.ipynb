{
 "cells": [
  {
   "cell_type": "markdown",
   "metadata": {},
   "source": [
    "# Tensorflow Basic Concepts"
   ]
  },
  {
   "cell_type": "markdown",
   "metadata": {},
   "source": [
    "## Adding two numbers"
   ]
  },
  {
   "cell_type": "code",
   "execution_count": 6,
   "metadata": {},
   "outputs": [],
   "source": [
    "#Import the tensorflow\n",
    "import tensorflow as tf"
   ]
  },
  {
   "cell_type": "code",
   "execution_count": 7,
   "metadata": {},
   "outputs": [
    {
     "name": "stdout",
     "output_type": "stream",
     "text": [
      "10\n"
     ]
    }
   ],
   "source": [
    "#Set the variable and constant\n",
    "x = tf.constant(1, name='x')\n",
    "y = tf.Variable(x+9, name='y')\n",
    "\n",
    "#Initialize the model variable\n",
    "model = tf.initialize_all_variables()\n",
    "\n",
    "#Create a session to run the model\n",
    "with tf.Session() as session:\n",
    "    session.run(model)\n",
    "    print(session.run(y))"
   ]
  },
  {
   "cell_type": "markdown",
   "metadata": {},
   "source": [
    "## Multiplying two integers"
   ]
  },
  {
   "cell_type": "code",
   "execution_count": 8,
   "metadata": {},
   "outputs": [],
   "source": [
    "#Define the variable by tf.placeholder\n",
    "#Placeholder allows us to build our computation \n",
    "#and without needing data\n",
    "a = tf.placeholder('int32')\n",
    "b = tf.placeholder('int32')\n",
    "\n",
    "#Input tensorflow function\n",
    "y = tf.multiply(a,b)\n",
    "\n",
    "#Run the model and view the result\n",
    "sess = tf.Session()\n",
    "print(sess.run(y, feed_dict={a:2, b:5}))"
   ]
  },
  {
   "cell_type": "markdown",
   "metadata": {},
   "source": [
    "## Run Tensorboard"
   ]
  },
  {
   "cell_type": "code",
   "execution_count": 17,
   "metadata": {},
   "outputs": [
    {
     "name": "stdout",
     "output_type": "stream",
     "text": [
      "190\n"
     ]
    }
   ],
   "source": [
    "#Define the constant and the variable\n",
    "a = tf.constant(10,name='a')\n",
    "b = tf.constant(90,name='b')\n",
    "y = tf.Variable(a+b*2, name='y')\n",
    "\n",
    "#Initialize the model variable\n",
    "model = tf.initialize_all_variables()\n",
    "\n",
    "#Create session to run the model\n",
    "with tf.Session() as session:\n",
    "    #Combine all summary nodes and generates all summary data\n",
    "    merged = tf.summary.merge_all()\n",
    "    #Write the summary to disk\n",
    "    writer = tf.summary.FileWriter\\\n",
    "                    (\"/tmp/tensorflowlogs\", session.graph)\n",
    "    #Run the model\n",
    "    session.run(model)\n",
    "    print(session.run(y))"
   ]
  },
  {
   "cell_type": "markdown",
   "metadata": {},
   "source": [
    "And then open anaconda Prompt(or cmd)  \n",
    "--> activate tensorflow  \n",
    "--> tensorboard --logdir=/tmp/tensorflowlogs  \n",
    "  \n",
    "Copy the http://DESKTOP-ADAM:6006 (address) to the browser to open tensorboard"
   ]
  }
 ],
 "metadata": {
  "kernelspec": {
   "display_name": "Python [conda env:tensorflow]",
   "language": "python",
   "name": "conda-env-tensorflow-py"
  },
  "language_info": {
   "codemirror_mode": {
    "name": "ipython",
    "version": 3
   },
   "file_extension": ".py",
   "mimetype": "text/x-python",
   "name": "python",
   "nbconvert_exporter": "python",
   "pygments_lexer": "ipython3",
   "version": "3.5.5"
  }
 },
 "nbformat": 4,
 "nbformat_minor": 2
}
