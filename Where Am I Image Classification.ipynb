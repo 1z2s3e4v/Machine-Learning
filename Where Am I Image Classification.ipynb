{
 "cells": [
  {
   "cell_type": "markdown",
   "metadata": {},
   "source": [
    "# 這裡使用了Fast AI Library 來訓練影像分類\n",
    "\n",
    "總共有15類的場景圖片  \n",
    "利用Transfer Learning 的方式來訓練一個影像分類模型  \n",
    "採用Resnet 152的模型進行訓練  \n",
    "\n",
    "相關使用的Tricks:  \n",
    "1. Data Augmentation\n",
    "2. Regularization\n",
    "3. Transfer Learning With Fine Tunning \n",
    "4. Learning Rate Annealing\n",
    "5. Test Time Augmentation"
   ]
  },
  {
   "cell_type": "markdown",
   "metadata": {},
   "source": [
    "Fast AI CNN Training Suggest Steps: \n",
    "\n",
    "1. precompute=True #Turn data augmentation on\n",
    "1. Use lr_find() to find highest learning rate where loss is still clearly improving\n",
    "1. Train last layer from precomputed activations for 1-2 epochs\n",
    "1. Train last layer with data augmentation (i.e. precompute=False) for 2-3 epochs with cycle_len=1\n",
    "1. Unfreeze all layers\n",
    "1. Set earlier layers to 3x-10x lower learning rate than next higher layer\n",
    "1. Use lr_find() again\n",
    "1. Train full network with cycle_mult=2 until over-fitting"
   ]
  },
  {
   "cell_type": "code",
   "execution_count": 1,
   "metadata": {},
   "outputs": [],
   "source": [
    "# Import some library\n",
    "import pandas as pd\n",
    "import numpy as np\n",
    "from skimage.io import imshow\n",
    "from scipy.misc import imread\n",
    "from skimage.transform import resize\n",
    "import matplotlib.pyplot as plt"
   ]
  },
  {
   "cell_type": "markdown",
   "metadata": {},
   "source": [
    "# Read the file path and label"
   ]
  },
  {
   "cell_type": "code",
   "execution_count": 2,
   "metadata": {},
   "outputs": [],
   "source": [
    "#讀取路徑檔與Label\n",
    "df_train =pd.read_csv('train_index.csv')\n",
    "df_test = pd.read_csv('test_index.csv')"
   ]
  },
  {
   "cell_type": "code",
   "execution_count": 3,
   "metadata": {},
   "outputs": [
    {
     "data": {
      "text/plain": [
       "Index(['file_path', 'label'], dtype='object')"
      ]
     },
     "execution_count": 3,
     "metadata": {},
     "output_type": "execute_result"
    }
   ],
   "source": [
    "df_train.columns"
   ]
  },
  {
   "cell_type": "code",
   "execution_count": 4,
   "metadata": {},
   "outputs": [
    {
     "data": {
      "text/plain": [
       "Index(['0'], dtype='object')"
      ]
     },
     "execution_count": 4,
     "metadata": {},
     "output_type": "execute_result"
    }
   ],
   "source": [
    "df_test.columns"
   ]
  },
  {
   "cell_type": "code",
   "execution_count": 5,
   "metadata": {},
   "outputs": [],
   "source": [
    "class_map_from_file = pd.read_csv('target_to_number.txt', header=None)"
   ]
  },
  {
   "cell_type": "code",
   "execution_count": 6,
   "metadata": {},
   "outputs": [
    {
     "data": {
      "text/plain": [
       "{'CALsuburb': 9,\n",
       " 'PARoffice': 7,\n",
       " 'bedroom': 12,\n",
       " 'coast': 10,\n",
       " 'forest': 4,\n",
       " 'highway': 14,\n",
       " 'industrial': 2,\n",
       " 'insidecity': 3,\n",
       " 'kitchen': 0,\n",
       " 'livingroom': 5,\n",
       " 'mountain': 8,\n",
       " 'opencountry': 6,\n",
       " 'store': 11,\n",
       " 'street': 1,\n",
       " 'tallbuilding': 13}"
      ]
     },
     "execution_count": 6,
     "metadata": {},
     "output_type": "execute_result"
    }
   ],
   "source": [
    "#將Label Mapping 成數字型態\n",
    "class_map = {}\n",
    "for i in range(class_map_from_file.shape[0]):\n",
    "    class_map[class_map_from_file.loc[i,0]] = class_map_from_file.loc[i,1]\n",
    "class_map"
   ]
  },
  {
   "cell_type": "code",
   "execution_count": 7,
   "metadata": {},
   "outputs": [],
   "source": [
    "#將標籤mapping對應的數字\n",
    "df_train['label'] = df_train['label'].map(class_map)"
   ]
  },
  {
   "cell_type": "code",
   "execution_count": 8,
   "metadata": {},
   "outputs": [],
   "source": [
    "#Assign圖片路徑、圖片標籤、測試的圖片標籤\n",
    "train_path = df_train['file_path'].values\n",
    "train_label = df_train['label'].values\n",
    "test_path = df_test['0'].values"
   ]
  },
  {
   "cell_type": "code",
   "execution_count": 9,
   "metadata": {},
   "outputs": [
    {
     "name": "stdout",
     "output_type": "stream",
     "text": [
      "(2985,)\n",
      "(2985,)\n",
      "(1500,)\n"
     ]
    }
   ],
   "source": [
    "#確認維度與數量是否正確\n",
    "print(train_path.shape)\n",
    "print(train_label.shape)\n",
    "print(test_path.shape)"
   ]
  },
  {
   "cell_type": "markdown",
   "metadata": {},
   "source": [
    "# Read the image"
   ]
  },
  {
   "cell_type": "code",
   "execution_count": 10,
   "metadata": {},
   "outputs": [],
   "source": [
    "# Image size\n",
    "sz = 369"
   ]
  },
  {
   "cell_type": "code",
   "execution_count": 11,
   "metadata": {},
   "outputs": [
    {
     "name": "stderr",
     "output_type": "stream",
     "text": [
      "/opt/conda/lib/python3.6/site-packages/ipykernel_launcher.py:5: DeprecationWarning: `imread` is deprecated!\n",
      "`imread` is deprecated in SciPy 1.0.0, and will be removed in 1.2.0.\n",
      "Use ``imageio.imread`` instead.\n",
      "  \"\"\"\n",
      "/opt/conda/lib/python3.6/site-packages/skimage/transform/_warps.py:105: UserWarning: The default mode, 'constant', will be changed to 'reflect' in skimage 0.15.\n",
      "  warn(\"The default mode, 'constant', will be changed to 'reflect' in \"\n",
      "/opt/conda/lib/python3.6/site-packages/skimage/transform/_warps.py:110: UserWarning: Anti-aliasing will be enabled by default in skimage 0.15 to avoid aliasing artifacts when down-sampling images.\n",
      "  warn(\"Anti-aliasing will be enabled by default in skimage 0.15 to \"\n",
      "/opt/conda/lib/python3.6/site-packages/ipykernel_launcher.py:12: DeprecationWarning: `imread` is deprecated!\n",
      "`imread` is deprecated in SciPy 1.0.0, and will be removed in 1.2.0.\n",
      "Use ``imageio.imread`` instead.\n",
      "  if sys.path[0] == '':\n"
     ]
    }
   ],
   "source": [
    "#建立一個空的numpy array, shape = (圖片數, 圖片寬度, 圖片高度)\n",
    "train_image = np.empty((len(train_path),sz,sz,3))\n",
    "#依照路徑讀取圖片\n",
    "for idx, path in enumerate(train_path):\n",
    "    train_image[idx] = resize(imread(path, mode='RGB'), (sz,sz,3))\n",
    "\n",
    "#定義測試集array\n",
    "test_image = np.empty((len(test_path),sz,sz,3))\n",
    "\n",
    "#讀取測試集\n",
    "for idx, path in enumerate(test_path):\n",
    "    test_image[idx] = resize(imread(path, mode='RGB'), (sz,sz,3))"
   ]
  },
  {
   "cell_type": "code",
   "execution_count": 12,
   "metadata": {},
   "outputs": [
    {
     "data": {
      "text/plain": [
       "(2985, 369, 369, 3)"
      ]
     },
     "execution_count": 12,
     "metadata": {},
     "output_type": "execute_result"
    }
   ],
   "source": [
    "#確認training set 的維度\n",
    "train_image.shape"
   ]
  },
  {
   "cell_type": "code",
   "execution_count": 13,
   "metadata": {},
   "outputs": [
    {
     "data": {
      "text/plain": [
       "<matplotlib.image.AxesImage at 0x7f273e15b940>"
      ]
     },
     "execution_count": 13,
     "metadata": {},
     "output_type": "execute_result"
    },
    {
     "data": {
      "image/png": "[encoded data removed]",
      "text/plain": [
       "<matplotlib.figure.Figure at 0x7f281434c5f8>"
      ]
     },
     "metadata": {},
     "output_type": "display_data"
    }
   ],
   "source": [
    "#看一下圖片\n",
    "imshow(train_image[200])"
   ]
  },
  {
   "cell_type": "markdown",
   "metadata": {},
   "source": [
    "# Seperate the train and valid dataset"
   ]
  },
  {
   "cell_type": "code",
   "execution_count": 14,
   "metadata": {},
   "outputs": [
    {
     "name": "stderr",
     "output_type": "stream",
     "text": [
      "/opt/conda/lib/python3.6/site-packages/sklearn/cross_validation.py:41: DeprecationWarning: This module was deprecated in version 0.18 in favor of the model_selection module into which all the refactored classes and functions are moved. Also note that the interface of the new CV iterators are different from that of this module. This module will be removed in 0.20.\n",
      "  \"This module will be removed in 0.20.\", DeprecationWarning)\n"
     ]
    }
   ],
   "source": [
    "#拆分測試集與訓練集\n",
    "from sklearn.cross_validation import train_test_split\n",
    "x_train, x_test, y_train, y_test = train_test_split(train_image, train_label, test_size=0.09, stratify=train_label)"
   ]
  },
  {
   "cell_type": "markdown",
   "metadata": {},
   "source": [
    "# Importing fast AI library"
   ]
  },
  {
   "cell_type": "code",
   "execution_count": 15,
   "metadata": {},
   "outputs": [],
   "source": [
    "# This file contains all the main external libs we'll use\n",
    "from fastai.imports import *\n",
    "from fastai.transforms import *\n",
    "from fastai.conv_learner import *\n",
    "from fastai.model import *\n",
    "from fastai.dataset import *\n",
    "from fastai.sgdr import *\n",
    "from fastai.plots import *"
   ]
  },
  {
   "cell_type": "code",
   "execution_count": 16,
   "metadata": {},
   "outputs": [],
   "source": [
    "#指定模型存取的路徑\n",
    "path= '/home/jovyan/Mid'\n",
    "\n",
    "#參數設定\n",
    "arch=resnet152 #modol\n",
    "max_zoom_size = 1.11 #zoom size\n",
    "bs=12 #batch_size\n",
    "wd=1e-5 #weight decay(l2 regularization)\n",
    "lr=1e-2 #learning rate"
   ]
  },
  {
   "cell_type": "code",
   "execution_count": 17,
   "metadata": {},
   "outputs": [],
   "source": [
    "#定義data augmentation\n",
    "tfms = tfms_from_model(arch, sz, aug_tfms=transforms_side_on, max_zoom=max_zoom_size)\n",
    "#讀取資料檔\n",
    "data = ImageClassifierData.from_arrays(path=path, trn=(x_train, y_train), \n",
    "                                       val=(x_test,y_test), \n",
    "                                       tfms=tfms,\n",
    "                                      test=test_image, \n",
    "                                      bs=bs)\n",
    "\n",
    "#建立訓練的模型\n",
    "learn = ConvLearner.pretrained(arch, data, precompute=True, ps=0.5)"
   ]
  },
  {
   "cell_type": "code",
   "execution_count": 18,
   "metadata": {},
   "outputs": [
    {
     "data": {
      "application/vnd.jupyter.widget-view+json": {
       "model_id": "cb1d04278d55471faa04378bf503da98",
       "version_major": 2,
       "version_minor": 0
      },
      "text/html": [
       "<p>Failed to display Jupyter Widget of type <code>HBox</code>.</p>\n",
       "<p>\n",
       "  If you're reading this message in the Jupyter Notebook or JupyterLab Notebook, it may mean\n",
       "  that the widgets JavaScript is still loading. If this message persists, it\n",
       "  likely means that the widgets JavaScript library is either not installed or\n",
       "  not enabled. See the <a href=\"https://ipywidgets.readthedocs.io/en/stable/user_install.html\">Jupyter\n",
       "  Widgets Documentation</a> for setup instructions.\n",
       "</p>\n",
       "<p>\n",
       "  If you're reading this message in another frontend (for example, a static\n",
       "  rendering on GitHub or <a href=\"https://nbviewer.jupyter.org/\">NBViewer</a>),\n",
       "  it may mean that your frontend doesn't currently support widgets.\n",
       "</p>\n"
      ],
      "text/plain": [
       "HBox(children=(IntProgress(value=0, description='Epoch', max=1), HTML(value='')))"
      ]
     },
     "metadata": {},
     "output_type": "display_data"
    },
    {
     "name": "stdout",
     "output_type": "stream",
     "text": [
      " 79%|███████▉  | 179/227 [00:03<00:00, 50.65it/s, loss=14.3]\n"
     ]
    },
    {
     "data": {
      "image/png": "[encoded data removed]",
      "text/plain": [
       "<matplotlib.figure.Figure at 0x7f23c8474f98>"
      ]
     },
     "metadata": {},
     "output_type": "display_data"
    }
   ],
   "source": [
    "#找最佳的learning rate(收斂速度較快)\n",
    "lrf=learn.lr_find()\n",
    "learn.sched.plot()"
   ]
  },
  {
   "cell_type": "code",
   "execution_count": 31,
   "metadata": {},
   "outputs": [
    {
     "data": {
      "application/vnd.jupyter.widget-view+json": {
       "model_id": "5609e9249ffe40ba8fb39986187dea97",
       "version_major": 2,
       "version_minor": 0
      },
      "text/html": [
       "<p>Failed to display Jupyter Widget of type <code>HBox</code>.</p>\n",
       "<p>\n",
       "  If you're reading this message in the Jupyter Notebook or JupyterLab Notebook, it may mean\n",
       "  that the widgets JavaScript is still loading. If this message persists, it\n",
       "  likely means that the widgets JavaScript library is either not installed or\n",
       "  not enabled. See the <a href=\"https://ipywidgets.readthedocs.io/en/stable/user_install.html\">Jupyter\n",
       "  Widgets Documentation</a> for setup instructions.\n",
       "</p>\n",
       "<p>\n",
       "  If you're reading this message in another frontend (for example, a static\n",
       "  rendering on GitHub or <a href=\"https://nbviewer.jupyter.org/\">NBViewer</a>),\n",
       "  it may mean that your frontend doesn't currently support widgets.\n",
       "</p>\n"
      ],
      "text/plain": [
       "HBox(children=(IntProgress(value=0, description='Epoch', max=7), HTML(value='')))"
      ]
     },
     "metadata": {},
     "output_type": "display_data"
    },
    {
     "name": "stdout",
     "output_type": "stream",
     "text": [
      "epoch      trn_loss   val_loss   accuracy                     \n",
      "    0      0.042248   0.135717   0.973978  \n",
      "    1      0.038755   0.130265   0.966543                     \n",
      "    2      0.028681   0.13523    0.966543                     \n",
      "    3      0.023186   0.140854   0.959108                     \n",
      "    4      0.05428    0.13789    0.962825                     \n",
      "    5      0.03063    0.139676   0.95539                      \n",
      "    6      0.024533   0.135587   0.962825                     \n",
      "\n"
     ]
    },
    {
     "data": {
      "text/plain": [
       "[array([0.13559]), 0.9628252823556666]"
      ]
     },
     "execution_count": 31,
     "metadata": {},
     "output_type": "execute_result"
    }
   ],
   "source": [
    "#unfreeze gradient\n",
    "learn.unfreeze()\n",
    "#拆分動態的learning rate\n",
    "lrs=np.array([lr/100,lr/50,lr/10])\n",
    "\n",
    "#Fit the model & learning rate annealing & assign the regluarization\n",
    "learn.fit(lrs, 3, cycle_len=1, cycle_mult=2, wds=wd) "
   ]
  },
  {
   "cell_type": "code",
   "execution_count": 32,
   "metadata": {},
   "outputs": [],
   "source": [
    "#將模型存起來\n",
    "learn.save('224_lastlayer')\n",
    "#讀取用learn.load\n",
    "#learn.load('224_all')"
   ]
  },
  {
   "cell_type": "code",
   "execution_count": 33,
   "metadata": {},
   "outputs": [
    {
     "name": "stdout",
     "output_type": "stream",
     "text": []
    },
    {
     "data": {
      "text/plain": [
       "(0.9591078066914498, 0.12752002168642365)"
      ]
     },
     "execution_count": 33,
     "metadata": {},
     "output_type": "execute_result"
    }
   ],
   "source": [
    "#用TTA來延長測試時間，做CV，Ｔimes = 4\n",
    "log_preds,y = learn.TTA(n_aug=4)\n",
    "probs = np.mean(np.exp(log_preds),0)\n",
    "accuracy_np(probs,y) ,metrics.log_loss(y, probs)"
   ]
  },
  {
   "cell_type": "markdown",
   "metadata": {},
   "source": [
    "# Prediction"
   ]
  },
  {
   "cell_type": "code",
   "execution_count": 34,
   "metadata": {},
   "outputs": [],
   "source": [
    "# 使用模型進行預測\n",
    "log_preds = learn.predict(is_test=True)\n",
    "\n",
    "#將預測的結果轉為class\n",
    "log_preds_test = np.argmax(log_preds, axis=1)\n",
    "\n",
    "#將結果與對應的標籤存起來\n",
    "test_list = []\n",
    "for i in df_test.values:\n",
    "    test_list.append(i[0][55:-4])\n",
    "\n",
    "#export 成 csv 檔案\n",
    "final = pd.DataFrame({'id':test_list, 'class':log_preds_test})\n",
    "final.to_csv('resnet152.csv',index=False)"
   ]
  }
 ],
 "metadata": {
  "kernelspec": {
   "display_name": "Python 3",
   "language": "python",
   "name": "python3"
  },
  "language_info": {
   "codemirror_mode": {
    "name": "ipython",
    "version": 3
   },
   "file_extension": ".py",
   "mimetype": "text/x-python",
   "name": "python",
   "nbconvert_exporter": "python",
   "pygments_lexer": "ipython3",
   "version": "3.6.5"
  }
 },
 "nbformat": 4,
 "nbformat_minor": 2
}
