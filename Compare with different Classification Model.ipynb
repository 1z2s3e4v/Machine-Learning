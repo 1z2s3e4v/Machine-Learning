{
 "cells": [
  {
   "cell_type": "markdown",
   "metadata": {},
   "source": [
    "# Compare with different classification model"
   ]
  },
  {
   "cell_type": "markdown",
   "metadata": {},
   "source": [
    "Compare the training time and performance between five classification models:\n",
    "\n",
    "1. KNN\n",
    "2. Logistic Regression\n",
    "3. Decision Tree\n",
    "4. Neural Network\n",
    "5. SVM"
   ]
  },
  {
   "cell_type": "markdown",
   "metadata": {},
   "source": [
    "I use the 3 sample datasets and make average to compare the differenct models:\n",
    "\n",
    "1. Iris (The most simplist dataset to train)\n",
    "2. Wine (A little bit complex... The feature is more than Iris dataset)\n",
    "3. Digit (Image dataset)"
   ]
  },
  {
   "cell_type": "markdown",
   "metadata": {},
   "source": [
    "# Conclusion\n",
    "\n",
    "The average training time: Neural Network > SVM > KNN > Logistic Regression > Decision Tree  \n",
    "The average f1-score: the same\n",
    "\n",
    "So we could see that the neural need more resourse to training the data set.  \n",
    "Although the nerual network have the good performance in classification, it need more time and resourse to training the data.  \n",
    "In the small data, sometimes the logistic regression and decision tree could make the good performance also time saving.  "
   ]
  },
  {
   "cell_type": "markdown",
   "metadata": {},
   "source": [
    "# Start Comparing"
   ]
  },
  {
   "cell_type": "code",
   "execution_count": 11,
   "metadata": {},
   "outputs": [
    {
     "name": "stdout",
     "output_type": "stream",
     "text": [
      "Populating the interactive namespace from numpy and matplotlib\n"
     ]
    }
   ],
   "source": [
    "import pandas as pd\n",
    "import matplotlib.pyplot as plt\n",
    "import seaborn as sn\n",
    "import numpy as np\n",
    "\n",
    "from sklearn.datasets import load_iris, load_wine, load_digits\n",
    "\n",
    "from sklearn.neighbors import KNeighborsClassifier\n",
    "from sklearn.svm import LinearSVC\n",
    "from sklearn.linear_model import LogisticRegression\n",
    "from sklearn.tree import DecisionTreeClassifier\n",
    "from sklearn.neural_network import MLPClassifier\n",
    "\n",
    "from sklearn.cross_validation import train_test_split as cv\n",
    "from sklearn.metrics import f1_score\n",
    "\n",
    "import time\n",
    "\n",
    "%pylab inline"
   ]
  },
  {
   "cell_type": "code",
   "execution_count": 21,
   "metadata": {},
   "outputs": [],
   "source": [
    "#Define dataset loading function\n",
    "def load_data(dataset_fn):\n",
    "    data = dataset_fn\n",
    "    return data.data, data.target"
   ]
  },
  {
   "cell_type": "markdown",
   "metadata": {},
   "source": [
    "## Define all classfier"
   ]
  },
  {
   "cell_type": "code",
   "execution_count": 13,
   "metadata": {},
   "outputs": [],
   "source": [
    "#Define the classifier\n",
    "knn = KNeighborsClassifier()\n",
    "svm = LinearSVC()\n",
    "lr = LogisticRegression()\n",
    "tree = DecisionTreeClassifier()\n",
    "nn = MLPClassifier()\n",
    "\n",
    "classifier_lst = [knn, lr, svm, tree, nn]\n",
    "classifier_lst_name = ['KNN', 'Logistic_Regression', 'SVM', 'DecisionTree', 'NeuralNetwork']"
   ]
  },
  {
   "cell_type": "markdown",
   "metadata": {},
   "source": [
    "## Define classifier training function"
   ]
  },
  {
   "cell_type": "code",
   "execution_count": 14,
   "metadata": {},
   "outputs": [],
   "source": [
    "def make_baseline(dataset_fn, classifier):\n",
    "    \n",
    "    start_time = time.time()\n",
    "    \n",
    "    feature, target = load_data(dataset_fn)\n",
    "    x_train, x_test, y_train, y_test = cv(feature, target, random_state = 42)\n",
    "    classifier.fit(x_train, y_train)\n",
    "    \n",
    "    training_score = classifier.score(x_train, y_train)\n",
    "    testing_score = classifier.score(x_test, y_test)\n",
    "    score = f1_score(y_test, classifier.predict(x_test), average='weighted')\n",
    "    \n",
    "    print(classifier)\n",
    "    print('Training Score: {:.4f}'.format(training_score))\n",
    "    print('Testing Score: {:.4f}'.format(testing_score))\n",
    "    print('The f1 score is: {}'.format(score))\n",
    "\n",
    "    end_time = time.time()\n",
    "    training_time = end_time-start_time\n",
    "    \n",
    "    print('The training time is: {:.4f}\\n'.format((training_time)))\n",
    "    \n",
    "    return score, training_time"
   ]
  },
  {
   "cell_type": "markdown",
   "metadata": {},
   "source": [
    "## Start to training differenct dataset"
   ]
  },
  {
   "cell_type": "code",
   "execution_count": 15,
   "metadata": {
    "scrolled": false
   },
   "outputs": [
    {
     "name": "stdout",
     "output_type": "stream",
     "text": [
      "KNeighborsClassifier(algorithm='auto', leaf_size=30, metric='minkowski',\n",
      "           metric_params=None, n_jobs=1, n_neighbors=5, p=2,\n",
      "           weights='uniform')\n",
      "Training Score: 0.9643\n",
      "Testing Score: 1.0000\n",
      "The f1 score is: 1.0\n",
      "The training time is: 0.0028\n",
      "\n",
      "LogisticRegression(C=1.0, class_weight=None, dual=False, fit_intercept=True,\n",
      "          intercept_scaling=1, max_iter=100, multi_class='ovr', n_jobs=1,\n",
      "          penalty='l2', random_state=None, solver='liblinear', tol=0.0001,\n",
      "          verbose=0, warm_start=False)\n",
      "Training Score: 0.9643\n",
      "Testing Score: 1.0000\n",
      "The f1 score is: 1.0\n",
      "The training time is: 0.0031\n",
      "\n",
      "LinearSVC(C=1.0, class_weight=None, dual=True, fit_intercept=True,\n",
      "     intercept_scaling=1, loss='squared_hinge', max_iter=1000,\n",
      "     multi_class='ovr', penalty='l2', random_state=None, tol=0.0001,\n",
      "     verbose=0)\n",
      "Training Score: 0.9732\n",
      "Testing Score: 1.0000\n",
      "The f1 score is: 1.0\n",
      "The training time is: 0.0069\n",
      "\n",
      "DecisionTreeClassifier(class_weight=None, criterion='gini', max_depth=None,\n",
      "            max_features=None, max_leaf_nodes=None,\n",
      "            min_impurity_decrease=0.0, min_impurity_split=None,\n",
      "            min_samples_leaf=1, min_samples_split=2,\n",
      "            min_weight_fraction_leaf=0.0, presort=False, random_state=None,\n",
      "            splitter='best')\n",
      "Training Score: 1.0000\n",
      "Testing Score: 1.0000\n",
      "The f1 score is: 1.0\n",
      "The training time is: 0.0027\n",
      "\n",
      "MLPClassifier(activation='relu', alpha=0.0001, batch_size='auto', beta_1=0.9,\n",
      "       beta_2=0.999, early_stopping=False, epsilon=1e-08,\n",
      "       hidden_layer_sizes=(100,), learning_rate='constant',\n",
      "       learning_rate_init=0.001, max_iter=200, momentum=0.9,\n",
      "       nesterovs_momentum=True, power_t=0.5, random_state=None,\n",
      "       shuffle=True, solver='adam', tol=0.0001, validation_fraction=0.1,\n",
      "       verbose=False, warm_start=False)\n",
      "Training Score: 0.9732\n",
      "Testing Score: 1.0000\n",
      "The f1 score is: 1.0\n",
      "The training time is: 0.0953\n",
      "\n"
     ]
    },
    {
     "name": "stderr",
     "output_type": "stream",
     "text": [
      "/anaconda3/lib/python3.6/site-packages/sklearn/neural_network/multilayer_perceptron.py:564: ConvergenceWarning: Stochastic Optimizer: Maximum iterations (200) reached and the optimization hasn't converged yet.\n",
      "  % self.max_iter, ConvergenceWarning)\n"
     ]
    },
    {
     "data": {
      "text/plain": [
       "Text(0.5,1,'F1-Score')"
      ]
     },
     "execution_count": 15,
     "metadata": {},
     "output_type": "execute_result"
    },
    {
     "data": {
      "image/png": "[encoded data removed]",
      "text/plain": [
       "<Figure size 1152x864 with 2 Axes>"
      ]
     },
     "metadata": {},
     "output_type": "display_data"
    }
   ],
   "source": [
    "#Iris dataset\n",
    "iris = load_iris()\n",
    "iris_score_lst = []\n",
    "iris_time_lst = []\n",
    "\n",
    "for i in classifier_lst:\n",
    "    score, training_time = make_baseline(iris,i)\n",
    "    iris_score_lst.append(score)\n",
    "    iris_time_lst.append(training_time)\n",
    "\n",
    "plt.figure(figsize=(16,12))\n",
    "subplot(2,2,1)\n",
    "sn.barplot(x=classifier_lst_name, y=iris_time_lst, palette=sn.color_palette('hls'))\n",
    "plt.xticks(rotation=30)\n",
    "plt.title('Training Time')\n",
    "\n",
    "subplot(2,2,2)\n",
    "sn.barplot(x=classifier_lst_name, y=iris_score_lst, palette=sn.color_palette('hls'))\n",
    "plt.xticks(rotation=30)\n",
    "plt.title('F1-Score')"
   ]
  },
  {
   "cell_type": "code",
   "execution_count": 16,
   "metadata": {},
   "outputs": [
    {
     "name": "stdout",
     "output_type": "stream",
     "text": [
      "KNeighborsClassifier(algorithm='auto', leaf_size=30, metric='minkowski',\n",
      "           metric_params=None, n_jobs=1, n_neighbors=5, p=2,\n",
      "           weights='uniform')\n",
      "Training Score: 0.9643\n",
      "Testing Score: 1.0000\n",
      "The f1 score is: 1.0\n",
      "The training time is: 0.0032\n",
      "\n",
      "LogisticRegression(C=1.0, class_weight=None, dual=False, fit_intercept=True,\n",
      "          intercept_scaling=1, max_iter=100, multi_class='ovr', n_jobs=1,\n",
      "          penalty='l2', random_state=None, solver='liblinear', tol=0.0001,\n",
      "          verbose=0, warm_start=False)\n",
      "Training Score: 0.9643\n",
      "Testing Score: 1.0000\n",
      "The f1 score is: 1.0\n",
      "The training time is: 0.0028\n",
      "\n",
      "LinearSVC(C=1.0, class_weight=None, dual=True, fit_intercept=True,\n",
      "     intercept_scaling=1, loss='squared_hinge', max_iter=1000,\n",
      "     multi_class='ovr', penalty='l2', random_state=None, tol=0.0001,\n",
      "     verbose=0)\n",
      "Training Score: 0.9732\n",
      "Testing Score: 1.0000\n",
      "The f1 score is: 1.0\n",
      "The training time is: 0.0074\n",
      "\n",
      "DecisionTreeClassifier(class_weight=None, criterion='gini', max_depth=None,\n",
      "            max_features=None, max_leaf_nodes=None,\n",
      "            min_impurity_decrease=0.0, min_impurity_split=None,\n",
      "            min_samples_leaf=1, min_samples_split=2,\n",
      "            min_weight_fraction_leaf=0.0, presort=False, random_state=None,\n",
      "            splitter='best')\n",
      "Training Score: 1.0000\n",
      "Testing Score: 1.0000\n",
      "The f1 score is: 1.0\n",
      "The training time is: 0.0026\n",
      "\n",
      "MLPClassifier(activation='relu', alpha=0.0001, batch_size='auto', beta_1=0.9,\n",
      "       beta_2=0.999, early_stopping=False, epsilon=1e-08,\n",
      "       hidden_layer_sizes=(100,), learning_rate='constant',\n",
      "       learning_rate_init=0.001, max_iter=200, momentum=0.9,\n",
      "       nesterovs_momentum=True, power_t=0.5, random_state=None,\n",
      "       shuffle=True, solver='adam', tol=0.0001, validation_fraction=0.1,\n",
      "       verbose=False, warm_start=False)\n",
      "Training Score: 0.9821\n",
      "Testing Score: 1.0000\n",
      "The f1 score is: 1.0\n",
      "The training time is: 0.1043\n",
      "\n"
     ]
    },
    {
     "name": "stderr",
     "output_type": "stream",
     "text": [
      "/anaconda3/lib/python3.6/site-packages/sklearn/neural_network/multilayer_perceptron.py:564: ConvergenceWarning: Stochastic Optimizer: Maximum iterations (200) reached and the optimization hasn't converged yet.\n",
      "  % self.max_iter, ConvergenceWarning)\n"
     ]
    },
    {
     "data": {
      "text/plain": [
       "Text(0.5,1,'F1-Score')"
      ]
     },
     "execution_count": 16,
     "metadata": {},
     "output_type": "execute_result"
    },
    {
     "data": {
      "image/png": "[encoded data removed]",
      "text/plain": [
       "<Figure size 1152x288 with 2 Axes>"
      ]
     },
     "metadata": {},
     "output_type": "display_data"
    }
   ],
   "source": [
    "#Wine dataset\n",
    "wine = load_wine()\n",
    "wine_score_lst = []\n",
    "wine_time_lst = []\n",
    "\n",
    "for i in classifier_lst:\n",
    "    score, training_time = make_baseline(iris,i)\n",
    "    wine_score_lst.append(score)\n",
    "    wine_time_lst.append(training_time)\n",
    "\n",
    "plt.figure(figsize=(16,4))\n",
    "subplot(1,2,1)\n",
    "sn.barplot(x=classifier_lst_name, y=wine_time_lst, palette=sn.color_palette('hls'))\n",
    "plt.xticks(rotation=30)\n",
    "plt.title('Training Time')\n",
    "subplot(1,2,2)\n",
    "sn.barplot(x=classifier_lst_name, y=wine_score_lst, palette=sn.color_palette('hls'))\n",
    "plt.xticks(rotation=30)\n",
    "plt.title('F1-Score')"
   ]
  },
  {
   "cell_type": "code",
   "execution_count": 17,
   "metadata": {},
   "outputs": [
    {
     "name": "stdout",
     "output_type": "stream",
     "text": [
      "KNeighborsClassifier(algorithm='auto', leaf_size=30, metric='minkowski',\n",
      "           metric_params=None, n_jobs=1, n_neighbors=5, p=2,\n",
      "           weights='uniform')\n",
      "Training Score: 0.9643\n",
      "Testing Score: 1.0000\n",
      "The f1 score is: 1.0\n",
      "The training time is: 0.0029\n",
      "\n",
      "LogisticRegression(C=1.0, class_weight=None, dual=False, fit_intercept=True,\n",
      "          intercept_scaling=1, max_iter=100, multi_class='ovr', n_jobs=1,\n",
      "          penalty='l2', random_state=None, solver='liblinear', tol=0.0001,\n",
      "          verbose=0, warm_start=False)\n",
      "Training Score: 0.9643\n",
      "Testing Score: 1.0000\n",
      "The f1 score is: 1.0\n",
      "The training time is: 0.0025\n",
      "\n",
      "LinearSVC(C=1.0, class_weight=None, dual=True, fit_intercept=True,\n",
      "     intercept_scaling=1, loss='squared_hinge', max_iter=1000,\n",
      "     multi_class='ovr', penalty='l2', random_state=None, tol=0.0001,\n",
      "     verbose=0)\n",
      "Training Score: 0.9732\n",
      "Testing Score: 1.0000\n",
      "The f1 score is: 1.0\n",
      "The training time is: 0.0072\n",
      "\n",
      "DecisionTreeClassifier(class_weight=None, criterion='gini', max_depth=None,\n",
      "            max_features=None, max_leaf_nodes=None,\n",
      "            min_impurity_decrease=0.0, min_impurity_split=None,\n",
      "            min_samples_leaf=1, min_samples_split=2,\n",
      "            min_weight_fraction_leaf=0.0, presort=False, random_state=None,\n",
      "            splitter='best')\n",
      "Training Score: 1.0000\n",
      "Testing Score: 1.0000\n",
      "The f1 score is: 1.0\n",
      "The training time is: 0.0027\n",
      "\n",
      "MLPClassifier(activation='relu', alpha=0.0001, batch_size='auto', beta_1=0.9,\n",
      "       beta_2=0.999, early_stopping=False, epsilon=1e-08,\n",
      "       hidden_layer_sizes=(100,), learning_rate='constant',\n",
      "       learning_rate_init=0.001, max_iter=200, momentum=0.9,\n",
      "       nesterovs_momentum=True, power_t=0.5, random_state=None,\n",
      "       shuffle=True, solver='adam', tol=0.0001, validation_fraction=0.1,\n",
      "       verbose=False, warm_start=False)\n",
      "Training Score: 0.9732\n",
      "Testing Score: 1.0000\n",
      "The f1 score is: 1.0\n",
      "The training time is: 0.1011\n",
      "\n"
     ]
    },
    {
     "name": "stderr",
     "output_type": "stream",
     "text": [
      "/anaconda3/lib/python3.6/site-packages/sklearn/neural_network/multilayer_perceptron.py:564: ConvergenceWarning: Stochastic Optimizer: Maximum iterations (200) reached and the optimization hasn't converged yet.\n",
      "  % self.max_iter, ConvergenceWarning)\n"
     ]
    },
    {
     "data": {
      "text/plain": [
       "Text(0.5,1,'F1-Score')"
      ]
     },
     "execution_count": 17,
     "metadata": {},
     "output_type": "execute_result"
    },
    {
     "data": {
      "image/png": "[encoded data removed]",
      "text/plain": [
       "<Figure size 1152x288 with 2 Axes>"
      ]
     },
     "metadata": {},
     "output_type": "display_data"
    }
   ],
   "source": [
    "#Digits Dataset\n",
    "digits = load_digits()\n",
    "digits_score_lst = []\n",
    "digits_time_lst = []\n",
    "\n",
    "for i in classifier_lst:\n",
    "    score, training_time = make_baseline(iris,i)\n",
    "    digits_score_lst.append(score)\n",
    "    digits_time_lst.append(training_time)\n",
    "\n",
    "plt.figure(figsize=(16,4))\n",
    "subplot(1,2,1)\n",
    "sn.barplot(x=classifier_lst_name, y=digits_time_lst, palette=sn.color_palette('hls'))\n",
    "plt.xticks(rotation=30)\n",
    "plt.title('Training Time')\n",
    "subplot(1,2,2)\n",
    "sn.barplot(x=classifier_lst_name, y=digits_score_lst, palette=sn.color_palette('hls'))\n",
    "plt.xticks(rotation=30)\n",
    "plt.title('F1-Score')"
   ]
  },
  {
   "cell_type": "code",
   "execution_count": 18,
   "metadata": {},
   "outputs": [
    {
     "name": "stdout",
     "output_type": "stream",
     "text": [
      "The classifier is: KNN\n",
      "Average training time is: 0.002987066904703776\n",
      "Average training score is 1.0\n",
      "\n",
      "The classifier is: Logistic_Regression\n",
      "Average training time is: 0.002794663111368815\n",
      "Average training score is 1.0\n",
      "\n",
      "The classifier is: SVM\n",
      "Average training time is: 0.007169644037882487\n",
      "Average training score is 1.0\n",
      "\n",
      "The classifier is: DecisionTree\n",
      "Average training time is: 0.00264890988667806\n",
      "Average training score is 1.0\n",
      "\n",
      "The classifier is: NeuralNetwork\n",
      "Average training time is: 0.10026303927103679\n",
      "Average training score is 1.0\n",
      "\n"
     ]
    }
   ],
   "source": [
    "for idx, name in enumerate(classifier_lst_name):\n",
    "    print('The classifier is: {}'.format(name))\n",
    "    avg_time = np.mean([iris_time_lst[idx], wine_time_lst[idx], digits_time_lst[idx]])\n",
    "    avg_score = np.mean([iris_score_lst[idx], wine_score_lst[idx], digits_score_lst[idx]])\n",
    "    print('Average training time is: {}'.format(avg_time))\n",
    "    print('Average training score is {}\\n'.format(avg_score))"
   ]
  }
 ],
 "metadata": {
  "kernelspec": {
   "display_name": "Python 3",
   "language": "python",
   "name": "python3"
  },
  "language_info": {
   "codemirror_mode": {
    "name": "ipython",
    "version": 3
   },
   "file_extension": ".py",
   "mimetype": "text/x-python",
   "name": "python",
   "nbconvert_exporter": "python",
   "pygments_lexer": "ipython3",
   "version": "3.6.5"
  }
 },
 "nbformat": 4,
 "nbformat_minor": 2
}
